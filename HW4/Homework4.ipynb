{
 "cells": [
  {
   "cell_type": "markdown",
   "metadata": {
    "id": "xY5suxu0PWaX"
   },
   "source": [
    "# **1. Recommendation sytem**"
   ]
  },
  {
   "cell_type": "code",
   "execution_count": 1,
   "metadata": {
    "id": "Bt684tl8xTxG"
   },
   "outputs": [],
   "source": [
    "import pandas as pd\n",
    "import numpy as np"
   ]
  },
  {
   "cell_type": "code",
   "execution_count": 2,
   "metadata": {
    "id": "m3jyJGp9xVsb"
   },
   "outputs": [],
   "source": [
    "dataset = pd.read_csv('vodclickstream_uk_movies_03.csv')"
   ]
  },
  {
   "cell_type": "markdown",
   "metadata": {
    "id": "U29Hby4hxaQG"
   },
   "source": [
    "Looking at the data, you can see that there is data available for each user for the movies the user clicked on. Gather the title and genre of the maximum top 10 movies that each user clicked on regarding the number of clicks."
   ]
  },
  {
   "cell_type": "markdown",
   "metadata": {
    "id": "5X9Z93p1xD6T"
   },
   "source": [
    "## **1.1 Gather the title and genre of the maximum top 10 movies that each user clicked on regarding the number of clicks.**"
   ]
  },
  {
   "cell_type": "code",
   "execution_count": 5,
   "metadata": {},
   "outputs": [
    {
     "data": {
      "text/html": [
       "<div>\n",
       "<style scoped>\n",
       "    .dataframe tbody tr th:only-of-type {\n",
       "        vertical-align: middle;\n",
       "    }\n",
       "\n",
       "    .dataframe tbody tr th {\n",
       "        vertical-align: top;\n",
       "    }\n",
       "\n",
       "    .dataframe thead th {\n",
       "        text-align: right;\n",
       "    }\n",
       "</style>\n",
       "<table border=\"1\" class=\"dataframe\">\n",
       "  <thead>\n",
       "    <tr style=\"text-align: right;\">\n",
       "      <th></th>\n",
       "      <th>Unnamed: 0</th>\n",
       "      <th>datetime</th>\n",
       "      <th>duration</th>\n",
       "      <th>title</th>\n",
       "      <th>genres</th>\n",
       "      <th>release_date</th>\n",
       "      <th>movie_id</th>\n",
       "      <th>user_id</th>\n",
       "    </tr>\n",
       "  </thead>\n",
       "  <tbody>\n",
       "    <tr>\n",
       "      <th>0</th>\n",
       "      <td>58773</td>\n",
       "      <td>2017-01-01 01:15:09</td>\n",
       "      <td>0.0</td>\n",
       "      <td>Angus, Thongs and Perfect Snogging</td>\n",
       "      <td>Comedy, Drama, Romance</td>\n",
       "      <td>2008-07-25</td>\n",
       "      <td>26bd5987e8</td>\n",
       "      <td>1dea19f6fe</td>\n",
       "    </tr>\n",
       "    <tr>\n",
       "      <th>1</th>\n",
       "      <td>58774</td>\n",
       "      <td>2017-01-01 13:56:02</td>\n",
       "      <td>0.0</td>\n",
       "      <td>The Curse of Sleeping Beauty</td>\n",
       "      <td>Fantasy, Horror, Mystery, Thriller</td>\n",
       "      <td>2016-06-02</td>\n",
       "      <td>f26ed2675e</td>\n",
       "      <td>544dcbc510</td>\n",
       "    </tr>\n",
       "    <tr>\n",
       "      <th>2</th>\n",
       "      <td>58775</td>\n",
       "      <td>2017-01-01 15:17:47</td>\n",
       "      <td>10530.0</td>\n",
       "      <td>London Has Fallen</td>\n",
       "      <td>Action, Thriller</td>\n",
       "      <td>2016-03-04</td>\n",
       "      <td>f77e500e7a</td>\n",
       "      <td>7cbcc791bf</td>\n",
       "    </tr>\n",
       "    <tr>\n",
       "      <th>3</th>\n",
       "      <td>58776</td>\n",
       "      <td>2017-01-01 16:04:13</td>\n",
       "      <td>49.0</td>\n",
       "      <td>Vendetta</td>\n",
       "      <td>Action, Drama</td>\n",
       "      <td>2015-06-12</td>\n",
       "      <td>c74aec7673</td>\n",
       "      <td>ebf43c36b6</td>\n",
       "    </tr>\n",
       "    <tr>\n",
       "      <th>4</th>\n",
       "      <td>58777</td>\n",
       "      <td>2017-01-01 19:16:37</td>\n",
       "      <td>0.0</td>\n",
       "      <td>The SpongeBob SquarePants Movie</td>\n",
       "      <td>Animation, Action, Adventure, Comedy, Family, ...</td>\n",
       "      <td>2004-11-19</td>\n",
       "      <td>a80d6fc2aa</td>\n",
       "      <td>a57c992287</td>\n",
       "    </tr>\n",
       "  </tbody>\n",
       "</table>\n",
       "</div>"
      ],
      "text/plain": [
       "   Unnamed: 0             datetime  duration  \\\n",
       "0       58773  2017-01-01 01:15:09       0.0   \n",
       "1       58774  2017-01-01 13:56:02       0.0   \n",
       "2       58775  2017-01-01 15:17:47   10530.0   \n",
       "3       58776  2017-01-01 16:04:13      49.0   \n",
       "4       58777  2017-01-01 19:16:37       0.0   \n",
       "\n",
       "                                title  \\\n",
       "0  Angus, Thongs and Perfect Snogging   \n",
       "1        The Curse of Sleeping Beauty   \n",
       "2                   London Has Fallen   \n",
       "3                            Vendetta   \n",
       "4     The SpongeBob SquarePants Movie   \n",
       "\n",
       "                                              genres release_date    movie_id  \\\n",
       "0                             Comedy, Drama, Romance   2008-07-25  26bd5987e8   \n",
       "1                 Fantasy, Horror, Mystery, Thriller   2016-06-02  f26ed2675e   \n",
       "2                                   Action, Thriller   2016-03-04  f77e500e7a   \n",
       "3                                      Action, Drama   2015-06-12  c74aec7673   \n",
       "4  Animation, Action, Adventure, Comedy, Family, ...   2004-11-19  a80d6fc2aa   \n",
       "\n",
       "      user_id  \n",
       "0  1dea19f6fe  \n",
       "1  544dcbc510  \n",
       "2  7cbcc791bf  \n",
       "3  ebf43c36b6  \n",
       "4  a57c992287  "
      ]
     },
     "execution_count": 5,
     "metadata": {},
     "output_type": "execute_result"
    }
   ],
   "source": [
    "dataset.head()"
   ]
  },
  {
   "cell_type": "markdown",
   "metadata": {
    "id": "4yT0uJ4uxs1G"
   },
   "source": [
    "Replace 'NOT AVAILABLE' with the corresponding genres based on the title"
   ]
  },
  {
   "cell_type": "code",
   "execution_count": 3,
   "metadata": {
    "id": "YYqNpFPyxEjp"
   },
   "outputs": [],
   "source": [
    "title_genre_mapping = dataset[dataset['genres'] != 'NOT AVAILABLE'][[\n",
    "    'title', 'genres']].drop_duplicates().set_index('title')['genres'].to_dict()\n",
    "\n",
    "dataset['genres'] = dataset.apply(\n",
    "    lambda row: title_genre_mapping.get(row['title'], row['genres']), axis=1)"
   ]
  },
  {
   "cell_type": "code",
   "execution_count": 4,
   "metadata": {
    "id": "eNiiFPoVxunz"
   },
   "outputs": [
    {
     "data": {
      "text/html": [
       "<div>\n",
       "<style scoped>\n",
       "    .dataframe tbody tr th:only-of-type {\n",
       "        vertical-align: middle;\n",
       "    }\n",
       "\n",
       "    .dataframe tbody tr th {\n",
       "        vertical-align: top;\n",
       "    }\n",
       "\n",
       "    .dataframe thead th {\n",
       "        text-align: right;\n",
       "    }\n",
       "</style>\n",
       "<table border=\"1\" class=\"dataframe\">\n",
       "  <thead>\n",
       "    <tr style=\"text-align: right;\">\n",
       "      <th></th>\n",
       "      <th>user_id</th>\n",
       "      <th>title</th>\n",
       "      <th>genres</th>\n",
       "    </tr>\n",
       "  </thead>\n",
       "  <tbody>\n",
       "    <tr>\n",
       "      <th>0</th>\n",
       "      <td>00004e2862</td>\n",
       "      <td>Hannibal</td>\n",
       "      <td>Crime, Drama, Thriller</td>\n",
       "    </tr>\n",
       "    <tr>\n",
       "      <th>1</th>\n",
       "      <td>000052a0a0</td>\n",
       "      <td>Looper, Frailty, Jumanji, Resident Evil, Ant-M...</td>\n",
       "      <td>Action, Adventure, Comedy, Sci-Fi, Action, Com...</td>\n",
       "    </tr>\n",
       "    <tr>\n",
       "      <th>2</th>\n",
       "      <td>000090e7c8</td>\n",
       "      <td>Mute</td>\n",
       "      <td>Mystery, Sci-Fi, Thriller</td>\n",
       "    </tr>\n",
       "    <tr>\n",
       "      <th>3</th>\n",
       "      <td>000118a755</td>\n",
       "      <td>From Dusk till Dawn (franchise), The Omen</td>\n",
       "      <td>NOT AVAILABLE, Horror</td>\n",
       "    </tr>\n",
       "    <tr>\n",
       "      <th>4</th>\n",
       "      <td>000296842d</td>\n",
       "      <td>Black Mirror: Bandersnatch</td>\n",
       "      <td>Drama, Mystery, Sci-Fi, Thriller</td>\n",
       "    </tr>\n",
       "  </tbody>\n",
       "</table>\n",
       "</div>"
      ],
      "text/plain": [
       "      user_id                                              title  \\\n",
       "0  00004e2862                                           Hannibal   \n",
       "1  000052a0a0  Looper, Frailty, Jumanji, Resident Evil, Ant-M...   \n",
       "2  000090e7c8                                               Mute   \n",
       "3  000118a755          From Dusk till Dawn (franchise), The Omen   \n",
       "4  000296842d                         Black Mirror: Bandersnatch   \n",
       "\n",
       "                                              genres  \n",
       "0                             Crime, Drama, Thriller  \n",
       "1  Action, Adventure, Comedy, Sci-Fi, Action, Com...  \n",
       "2                          Mystery, Sci-Fi, Thriller  \n",
       "3                              NOT AVAILABLE, Horror  \n",
       "4                   Drama, Mystery, Sci-Fi, Thriller  "
      ]
     },
     "execution_count": 4,
     "metadata": {},
     "output_type": "execute_result"
    }
   ],
   "source": [
    "# Group, count, sort\n",
    "user_counts = dataset.groupby(\n",
    "    ['user_id', 'title', 'genres'])['title'].count().reset_index(name='title_count')\n",
    "user_counts = user_counts.sort_values(\n",
    "    ['user_id', 'title_count'], ascending=[True, False])\n",
    "\n",
    "# Store the top 10 titles and genres for each user\n",
    "top10_dataset = user_counts.groupby('user_id').head(10)\n",
    "top10_dataset = top10_dataset.groupby('user_id').agg(\n",
    "    {'title': list, 'genres': list}).reset_index()\n",
    "\n",
    "# Remove duplicates in 'genres'\n",
    "top10_dataset['genres'] = top10_dataset['genres'].apply(lambda x: list(set(x)))\n",
    "\n",
    "# Convert list to string\n",
    "top10_dataset['title'] = top10_dataset['title'].apply(lambda x: ', '.join(x))\n",
    "top10_dataset['genres'] = top10_dataset['genres'].apply(lambda x: ', '.join(x))\n",
    "\n",
    "top10_dataset.head()"
   ]
  },
  {
   "cell_type": "markdown",
   "metadata": {
    "id": "IOZHZqcTPobM"
   },
   "source": [
    "## **1.2 Minhash Signatures**"
   ]
  },
  {
   "cell_type": "markdown",
   "metadata": {
    "id": "oRAcREfCx0sm"
   },
   "source": [
    "Using the movie genre and user_ids, try to implement your min-hash signatures so that users with similar interests in a genre appear in the same bucket.\n",
    "\n",
    "Since we build a recommendation system, we use User-Based Collaborative Filtering technique. We compare users by similar interests in genres. There are a few unique genres, we may use each genre as a shingle."
   ]
  },
  {
   "cell_type": "code",
   "execution_count": 6,
   "metadata": {
    "id": "ynempvN9PH68"
   },
   "outputs": [
    {
     "name": "stdout",
     "output_type": "stream",
     "text": [
      "{'Documentary', 'Action', 'Drama', 'Horror', 'Romance', 'Biography', 'History', 'Film-Noir', 'Short', 'Adventure', 'Reality-TV', 'Music', 'Comedy', 'Thriller', 'Musical', 'Sci-Fi', 'Animation', 'Sport', 'Family', 'War', 'News', 'Talk-Show', 'Fantasy', 'Crime', 'Western', 'Mystery'}\n",
      "Unique genres count:  26\n"
     ]
    }
   ],
   "source": [
    "# Find unique genres\n",
    "unique_genres = set()\n",
    "\n",
    "dataset['genres_list'] = dataset.genres.apply(\n",
    "    lambda row: [word.strip() for word in row.split(',')])\n",
    "dataset['genres_list'] = dataset['genres_list'].apply(\n",
    "    lambda genres_list: list(\n",
    "        set(filter(lambda x: x != 'NOT AVAILABLE', genres_list)))\n",
    ")\n",
    "dataset['genres_list'].apply(\n",
    "    lambda row: [unique_genres.add(value) for value in row])\n",
    "\n",
    "print(unique_genres)\n",
    "print('Unique genres count: ', len(unique_genres))"
   ]
  },
  {
   "cell_type": "code",
   "execution_count": 7,
   "metadata": {
    "id": "do5JJMNkyCWD"
   },
   "outputs": [
    {
     "data": {
      "text/html": [
       "<div>\n",
       "<style scoped>\n",
       "    .dataframe tbody tr th:only-of-type {\n",
       "        vertical-align: middle;\n",
       "    }\n",
       "\n",
       "    .dataframe tbody tr th {\n",
       "        vertical-align: top;\n",
       "    }\n",
       "\n",
       "    .dataframe thead th {\n",
       "        text-align: right;\n",
       "    }\n",
       "</style>\n",
       "<table border=\"1\" class=\"dataframe\">\n",
       "  <thead>\n",
       "    <tr style=\"text-align: right;\">\n",
       "      <th></th>\n",
       "      <th>user_id</th>\n",
       "      <th>genres_list</th>\n",
       "    </tr>\n",
       "  </thead>\n",
       "  <tbody>\n",
       "    <tr>\n",
       "      <th>0</th>\n",
       "      <td>00004e2862</td>\n",
       "      <td>[Drama, Thriller, Crime]</td>\n",
       "    </tr>\n",
       "    <tr>\n",
       "      <th>1</th>\n",
       "      <td>000052a0a0</td>\n",
       "      <td>[Comedy, Fantasy, Action, Horror, Thriller, Sc...</td>\n",
       "    </tr>\n",
       "    <tr>\n",
       "      <th>2</th>\n",
       "      <td>000090e7c8</td>\n",
       "      <td>[Mystery, Thriller, Sci-Fi]</td>\n",
       "    </tr>\n",
       "    <tr>\n",
       "      <th>3</th>\n",
       "      <td>000118a755</td>\n",
       "      <td>[Horror]</td>\n",
       "    </tr>\n",
       "    <tr>\n",
       "      <th>4</th>\n",
       "      <td>000296842d</td>\n",
       "      <td>[Mystery, Drama, Thriller, Sci-Fi]</td>\n",
       "    </tr>\n",
       "  </tbody>\n",
       "</table>\n",
       "</div>"
      ],
      "text/plain": [
       "      user_id                                        genres_list\n",
       "0  00004e2862                           [Drama, Thriller, Crime]\n",
       "1  000052a0a0  [Comedy, Fantasy, Action, Horror, Thriller, Sc...\n",
       "2  000090e7c8                        [Mystery, Thriller, Sci-Fi]\n",
       "3  000118a755                                           [Horror]\n",
       "4  000296842d                 [Mystery, Drama, Thriller, Sci-Fi]"
      ]
     },
     "execution_count": 7,
     "metadata": {},
     "output_type": "execute_result"
    }
   ],
   "source": [
    "# Create a dataframe with unique user_id and genres_list\n",
    "top10_dataset['genres_list'] = top10_dataset.genres.apply(\n",
    "    lambda row: [word.strip() for word in row.split(',')])\n",
    "top10_dataset['genres_list'] = top10_dataset['genres_list'].apply(\n",
    "    lambda genres_list: list(\n",
    "        set(filter(lambda x: x != 'NOT AVAILABLE', genres_list)))\n",
    ")\n",
    "q1_df = top10_dataset.loc[:, ['user_id', 'genres_list']]\n",
    "q1_df.head()"
   ]
  },
  {
   "cell_type": "code",
   "execution_count": 13,
   "metadata": {
    "id": "gWiIpLEOyEwc"
   },
   "outputs": [
    {
     "data": {
      "text/plain": [
       "{'Documentary': 0,\n",
       " 'Action': 1,\n",
       " 'Drama': 2,\n",
       " 'Horror': 3,\n",
       " 'Romance': 4,\n",
       " 'Biography': 5,\n",
       " 'History': 6,\n",
       " 'Film-Noir': 7,\n",
       " 'Short': 8,\n",
       " 'Adventure': 9,\n",
       " 'Reality-TV': 10,\n",
       " 'Music': 11,\n",
       " 'Comedy': 12,\n",
       " 'Thriller': 13,\n",
       " 'Musical': 14,\n",
       " 'Sci-Fi': 15,\n",
       " 'Animation': 16,\n",
       " 'Sport': 17,\n",
       " 'Family': 18,\n",
       " 'War': 19,\n",
       " 'News': 20,\n",
       " 'Talk-Show': 21,\n",
       " 'Fantasy': 22,\n",
       " 'Crime': 23,\n",
       " 'Western': 24,\n",
       " 'Mystery': 25}"
      ]
     },
     "execution_count": 13,
     "metadata": {},
     "output_type": "execute_result"
    }
   ],
   "source": [
    "# Create a dictionary for mapping genres to rows\n",
    "genre_to_row = {genre: i for i, genre in enumerate(unique_genres)}\n",
    "genre_to_row"
   ]
  },
  {
   "cell_type": "markdown",
   "metadata": {
    "id": "ejHIWS9HyMI1"
   },
   "source": [
    "Since we have 26 unique genres, to simulate permutations we construct 10 hash functions of type $h(x) = ax+b \\text{ mod } 26$\n",
    "To ensure that no collisions would occur, we need $a$ to be realively prime to 26"
   ]
  },
  {
   "cell_type": "code",
   "execution_count": 12,
   "metadata": {
    "id": "a6QGVKZHyOWv"
   },
   "outputs": [
    {
     "name": "stdout",
     "output_type": "stream",
     "text": [
      "[[11  1]\n",
      " [18  3]\n",
      " [ 8  5]\n",
      " [ 7  7]\n",
      " [17  9]\n",
      " [ 8 11]\n",
      " [ 4 15]\n",
      " [ 3 17]\n",
      " [ 7 19]\n",
      " [21 21]\n",
      " [21 23]\n",
      " [12 25]]\n"
     ]
    }
   ],
   "source": [
    "import math\n",
    "\n",
    "# Function to find the first n values relatively prime to m\n",
    "def find_rel_prime(n, m):\n",
    "    rel_prime_values = []\n",
    "    i = 1\n",
    "    while len(rel_prime_values) < n:\n",
    "        if math.gcd(i, m) == 1:\n",
    "            rel_prime_values.append(i)\n",
    "        i += 1\n",
    "    return rel_prime_values\n",
    "\n",
    "np.random.seed(911)\n",
    "\n",
    "N = len(genre_to_row)\n",
    "\n",
    "# We will produce 12 hash functions\n",
    "n_rows = 12\n",
    "\n",
    "a = find_rel_prime(n_rows, N)\n",
    "\n",
    "# Generate random integers for the second column\n",
    "b = np.random.randint(0, N, n_rows)\n",
    "\n",
    "hash_param = np.column_stack((b, a))\n",
    "\n",
    "# b+ax mod N\n",
    "def hash_function(row):\n",
    "    return (hash_param@np.array([1,row]))%N\n",
    "\n",
    "print(hash_param)"
   ]
  },
  {
   "cell_type": "code",
   "execution_count": 10,
   "metadata": {
    "id": "o0Tiv9RSyVOy"
   },
   "outputs": [
    {
     "name": "stderr",
     "output_type": "stream",
     "text": [
      "/var/folders/yn/bvpk7j754919fx4tm6vc19y00000gn/T/ipykernel_1859/3535375087.py:12: RuntimeWarning: invalid value encountered in cast\n",
      "  sig = sig.astype(int)\n"
     ]
    },
    {
     "data": {
      "text/html": [
       "<div>\n",
       "<style scoped>\n",
       "    .dataframe tbody tr th:only-of-type {\n",
       "        vertical-align: middle;\n",
       "    }\n",
       "\n",
       "    .dataframe tbody tr th {\n",
       "        vertical-align: top;\n",
       "    }\n",
       "\n",
       "    .dataframe thead th {\n",
       "        text-align: right;\n",
       "    }\n",
       "</style>\n",
       "<table border=\"1\" class=\"dataframe\">\n",
       "  <thead>\n",
       "    <tr style=\"text-align: right;\">\n",
       "      <th>user_id</th>\n",
       "      <th>00004e2862</th>\n",
       "      <th>000052a0a0</th>\n",
       "      <th>000090e7c8</th>\n",
       "      <th>000118a755</th>\n",
       "      <th>000296842d</th>\n",
       "      <th>0002aab109</th>\n",
       "      <th>0002abf14f</th>\n",
       "      <th>0002d1c4b1</th>\n",
       "      <th>000499c2b6</th>\n",
       "      <th>00051f0e1f</th>\n",
       "      <th>...</th>\n",
       "      <th>fffb9ecb47</th>\n",
       "      <th>fffc1d209b</th>\n",
       "      <th>fffd345213</th>\n",
       "      <th>fffd4d1888</th>\n",
       "      <th>fffd6433d2</th>\n",
       "      <th>fffd9bf758</th>\n",
       "      <th>fffe7b777b</th>\n",
       "      <th>fffeac83be</th>\n",
       "      <th>ffff2c5f9e</th>\n",
       "      <th>ffffd36adf</th>\n",
       "    </tr>\n",
       "  </thead>\n",
       "  <tbody>\n",
       "    <tr>\n",
       "      <th>0</th>\n",
       "      <td>8</td>\n",
       "      <td>0</td>\n",
       "      <td>0</td>\n",
       "      <td>14</td>\n",
       "      <td>0</td>\n",
       "      <td>8</td>\n",
       "      <td>13</td>\n",
       "      <td>0</td>\n",
       "      <td>1</td>\n",
       "      <td>0</td>\n",
       "      <td>...</td>\n",
       "      <td>2</td>\n",
       "      <td>0</td>\n",
       "      <td>3</td>\n",
       "      <td>7</td>\n",
       "      <td>21</td>\n",
       "      <td>8</td>\n",
       "      <td>0</td>\n",
       "      <td>2</td>\n",
       "      <td>10</td>\n",
       "      <td>8</td>\n",
       "    </tr>\n",
       "    <tr>\n",
       "      <th>1</th>\n",
       "      <td>5</td>\n",
       "      <td>1</td>\n",
       "      <td>5</td>\n",
       "      <td>1</td>\n",
       "      <td>5</td>\n",
       "      <td>2</td>\n",
       "      <td>4</td>\n",
       "      <td>2</td>\n",
       "      <td>2</td>\n",
       "      <td>2</td>\n",
       "      <td>...</td>\n",
       "      <td>2</td>\n",
       "      <td>2</td>\n",
       "      <td>2</td>\n",
       "      <td>2</td>\n",
       "      <td>22</td>\n",
       "      <td>9</td>\n",
       "      <td>5</td>\n",
       "      <td>2</td>\n",
       "      <td>2</td>\n",
       "      <td>9</td>\n",
       "    </tr>\n",
       "    <tr>\n",
       "      <th>2</th>\n",
       "      <td>18</td>\n",
       "      <td>1</td>\n",
       "      <td>3</td>\n",
       "      <td>23</td>\n",
       "      <td>3</td>\n",
       "      <td>7</td>\n",
       "      <td>2</td>\n",
       "      <td>5</td>\n",
       "      <td>1</td>\n",
       "      <td>1</td>\n",
       "      <td>...</td>\n",
       "      <td>2</td>\n",
       "      <td>1</td>\n",
       "      <td>1</td>\n",
       "      <td>2</td>\n",
       "      <td>6</td>\n",
       "      <td>3</td>\n",
       "      <td>5</td>\n",
       "      <td>3</td>\n",
       "      <td>3</td>\n",
       "      <td>18</td>\n",
       "    </tr>\n",
       "    <tr>\n",
       "      <th>3</th>\n",
       "      <td>12</td>\n",
       "      <td>0</td>\n",
       "      <td>0</td>\n",
       "      <td>2</td>\n",
       "      <td>0</td>\n",
       "      <td>12</td>\n",
       "      <td>9</td>\n",
       "      <td>8</td>\n",
       "      <td>3</td>\n",
       "      <td>8</td>\n",
       "      <td>...</td>\n",
       "      <td>0</td>\n",
       "      <td>5</td>\n",
       "      <td>3</td>\n",
       "      <td>5</td>\n",
       "      <td>25</td>\n",
       "      <td>0</td>\n",
       "      <td>8</td>\n",
       "      <td>0</td>\n",
       "      <td>0</td>\n",
       "      <td>12</td>\n",
       "    </tr>\n",
       "    <tr>\n",
       "      <th>4</th>\n",
       "      <td>4</td>\n",
       "      <td>0</td>\n",
       "      <td>4</td>\n",
       "      <td>18</td>\n",
       "      <td>4</td>\n",
       "      <td>9</td>\n",
       "      <td>1</td>\n",
       "      <td>21</td>\n",
       "      <td>5</td>\n",
       "      <td>0</td>\n",
       "      <td>...</td>\n",
       "      <td>1</td>\n",
       "      <td>0</td>\n",
       "      <td>20</td>\n",
       "      <td>0</td>\n",
       "      <td>3</td>\n",
       "      <td>8</td>\n",
       "      <td>4</td>\n",
       "      <td>6</td>\n",
       "      <td>0</td>\n",
       "      <td>9</td>\n",
       "    </tr>\n",
       "    <tr>\n",
       "      <th>5</th>\n",
       "      <td>1</td>\n",
       "      <td>1</td>\n",
       "      <td>17</td>\n",
       "      <td>15</td>\n",
       "      <td>4</td>\n",
       "      <td>1</td>\n",
       "      <td>0</td>\n",
       "      <td>10</td>\n",
       "      <td>2</td>\n",
       "      <td>3</td>\n",
       "      <td>...</td>\n",
       "      <td>0</td>\n",
       "      <td>1</td>\n",
       "      <td>3</td>\n",
       "      <td>0</td>\n",
       "      <td>14</td>\n",
       "      <td>1</td>\n",
       "      <td>4</td>\n",
       "      <td>1</td>\n",
       "      <td>8</td>\n",
       "      <td>1</td>\n",
       "    </tr>\n",
       "    <tr>\n",
       "      <th>6</th>\n",
       "      <td>8</td>\n",
       "      <td>2</td>\n",
       "      <td>15</td>\n",
       "      <td>23</td>\n",
       "      <td>8</td>\n",
       "      <td>1</td>\n",
       "      <td>8</td>\n",
       "      <td>2</td>\n",
       "      <td>2</td>\n",
       "      <td>2</td>\n",
       "      <td>...</td>\n",
       "      <td>1</td>\n",
       "      <td>0</td>\n",
       "      <td>2</td>\n",
       "      <td>2</td>\n",
       "      <td>24</td>\n",
       "      <td>4</td>\n",
       "      <td>8</td>\n",
       "      <td>1</td>\n",
       "      <td>2</td>\n",
       "      <td>8</td>\n",
       "    </tr>\n",
       "    <tr>\n",
       "      <th>7</th>\n",
       "      <td>4</td>\n",
       "      <td>0</td>\n",
       "      <td>12</td>\n",
       "      <td>2</td>\n",
       "      <td>11</td>\n",
       "      <td>4</td>\n",
       "      <td>11</td>\n",
       "      <td>24</td>\n",
       "      <td>0</td>\n",
       "      <td>0</td>\n",
       "      <td>...</td>\n",
       "      <td>3</td>\n",
       "      <td>0</td>\n",
       "      <td>0</td>\n",
       "      <td>11</td>\n",
       "      <td>17</td>\n",
       "      <td>3</td>\n",
       "      <td>11</td>\n",
       "      <td>1</td>\n",
       "      <td>3</td>\n",
       "      <td>4</td>\n",
       "    </tr>\n",
       "    <tr>\n",
       "      <th>8</th>\n",
       "      <td>2</td>\n",
       "      <td>0</td>\n",
       "      <td>6</td>\n",
       "      <td>12</td>\n",
       "      <td>6</td>\n",
       "      <td>1</td>\n",
       "      <td>5</td>\n",
       "      <td>1</td>\n",
       "      <td>1</td>\n",
       "      <td>0</td>\n",
       "      <td>...</td>\n",
       "      <td>1</td>\n",
       "      <td>0</td>\n",
       "      <td>1</td>\n",
       "      <td>0</td>\n",
       "      <td>15</td>\n",
       "      <td>2</td>\n",
       "      <td>6</td>\n",
       "      <td>1</td>\n",
       "      <td>0</td>\n",
       "      <td>2</td>\n",
       "    </tr>\n",
       "    <tr>\n",
       "      <th>9</th>\n",
       "      <td>8</td>\n",
       "      <td>0</td>\n",
       "      <td>0</td>\n",
       "      <td>6</td>\n",
       "      <td>0</td>\n",
       "      <td>10</td>\n",
       "      <td>1</td>\n",
       "      <td>13</td>\n",
       "      <td>2</td>\n",
       "      <td>2</td>\n",
       "      <td>...</td>\n",
       "      <td>0</td>\n",
       "      <td>2</td>\n",
       "      <td>2</td>\n",
       "      <td>1</td>\n",
       "      <td>23</td>\n",
       "      <td>0</td>\n",
       "      <td>8</td>\n",
       "      <td>0</td>\n",
       "      <td>0</td>\n",
       "      <td>10</td>\n",
       "    </tr>\n",
       "    <tr>\n",
       "      <th>10</th>\n",
       "      <td>4</td>\n",
       "      <td>2</td>\n",
       "      <td>2</td>\n",
       "      <td>12</td>\n",
       "      <td>2</td>\n",
       "      <td>4</td>\n",
       "      <td>9</td>\n",
       "      <td>2</td>\n",
       "      <td>7</td>\n",
       "      <td>2</td>\n",
       "      <td>...</td>\n",
       "      <td>4</td>\n",
       "      <td>1</td>\n",
       "      <td>11</td>\n",
       "      <td>7</td>\n",
       "      <td>17</td>\n",
       "      <td>4</td>\n",
       "      <td>2</td>\n",
       "      <td>3</td>\n",
       "      <td>8</td>\n",
       "      <td>4</td>\n",
       "    </tr>\n",
       "    <tr>\n",
       "      <th>11</th>\n",
       "      <td>10</td>\n",
       "      <td>0</td>\n",
       "      <td>13</td>\n",
       "      <td>9</td>\n",
       "      <td>10</td>\n",
       "      <td>0</td>\n",
       "      <td>8</td>\n",
       "      <td>0</td>\n",
       "      <td>0</td>\n",
       "      <td>0</td>\n",
       "      <td>...</td>\n",
       "      <td>0</td>\n",
       "      <td>0</td>\n",
       "      <td>0</td>\n",
       "      <td>0</td>\n",
       "      <td>2</td>\n",
       "      <td>12</td>\n",
       "      <td>10</td>\n",
       "      <td>0</td>\n",
       "      <td>0</td>\n",
       "      <td>10</td>\n",
       "    </tr>\n",
       "  </tbody>\n",
       "</table>\n",
       "<p>12 rows × 161918 columns</p>\n",
       "</div>"
      ],
      "text/plain": [
       "user_id  00004e2862  000052a0a0  000090e7c8  000118a755  000296842d  \\\n",
       "0                 8           0           0          14           0   \n",
       "1                 5           1           5           1           5   \n",
       "2                18           1           3          23           3   \n",
       "3                12           0           0           2           0   \n",
       "4                 4           0           4          18           4   \n",
       "5                 1           1          17          15           4   \n",
       "6                 8           2          15          23           8   \n",
       "7                 4           0          12           2          11   \n",
       "8                 2           0           6          12           6   \n",
       "9                 8           0           0           6           0   \n",
       "10                4           2           2          12           2   \n",
       "11               10           0          13           9          10   \n",
       "\n",
       "user_id  0002aab109  0002abf14f  0002d1c4b1  000499c2b6  00051f0e1f  ...  \\\n",
       "0                 8          13           0           1           0  ...   \n",
       "1                 2           4           2           2           2  ...   \n",
       "2                 7           2           5           1           1  ...   \n",
       "3                12           9           8           3           8  ...   \n",
       "4                 9           1          21           5           0  ...   \n",
       "5                 1           0          10           2           3  ...   \n",
       "6                 1           8           2           2           2  ...   \n",
       "7                 4          11          24           0           0  ...   \n",
       "8                 1           5           1           1           0  ...   \n",
       "9                10           1          13           2           2  ...   \n",
       "10                4           9           2           7           2  ...   \n",
       "11                0           8           0           0           0  ...   \n",
       "\n",
       "user_id  fffb9ecb47  fffc1d209b  fffd345213  fffd4d1888  fffd6433d2  \\\n",
       "0                 2           0           3           7          21   \n",
       "1                 2           2           2           2          22   \n",
       "2                 2           1           1           2           6   \n",
       "3                 0           5           3           5          25   \n",
       "4                 1           0          20           0           3   \n",
       "5                 0           1           3           0          14   \n",
       "6                 1           0           2           2          24   \n",
       "7                 3           0           0          11          17   \n",
       "8                 1           0           1           0          15   \n",
       "9                 0           2           2           1          23   \n",
       "10                4           1          11           7          17   \n",
       "11                0           0           0           0           2   \n",
       "\n",
       "user_id  fffd9bf758  fffe7b777b  fffeac83be  ffff2c5f9e  ffffd36adf  \n",
       "0                 8           0           2          10           8  \n",
       "1                 9           5           2           2           9  \n",
       "2                 3           5           3           3          18  \n",
       "3                 0           8           0           0          12  \n",
       "4                 8           4           6           0           9  \n",
       "5                 1           4           1           8           1  \n",
       "6                 4           8           1           2           8  \n",
       "7                 3          11           1           3           4  \n",
       "8                 2           6           1           0           2  \n",
       "9                 0           8           0           0          10  \n",
       "10                4           2           3           8           4  \n",
       "11               12          10           0           0          10  \n",
       "\n",
       "[12 rows x 161918 columns]"
      ]
     },
     "execution_count": 10,
     "metadata": {},
     "output_type": "execute_result"
    }
   ],
   "source": [
    "# initialize the signature matrix with infinity values\n",
    "sig = np.full((n_rows, q1_df.shape[0]), np.inf)\n",
    "for j, row in q1_df.iterrows():\n",
    "    # iterate over each genre in a row\n",
    "    for shingle in row['genres_list']:\n",
    "        # get the value from dictionary\n",
    "        initial_index = genre_to_row[shingle]\n",
    "        # get the hash value (imitate permutation)\n",
    "        permuted_index = hash_function(initial_index)\n",
    "        sig[:, j] = np.minimum(sig[:, j], permuted_index)\n",
    "\n",
    "sig = sig.astype(int)\n",
    "pd.DataFrame(sig, columns=q1_df['user_id'])"
   ]
  },
  {
   "cell_type": "markdown",
   "metadata": {
    "id": "63RugEPGPvts"
   },
   "source": [
    "## **1.3 Locality-Sensitive Hashing (LSH)**"
   ]
  },
  {
   "cell_type": "markdown",
   "metadata": {
    "id": "DQBJdjywycT6"
   },
   "source": [
    "Recommend at most five movies to the user to watch based on the movies clicked by similar users."
   ]
  },
  {
   "cell_type": "code",
   "execution_count": 14,
   "metadata": {
    "id": "J8jqlw15P25C"
   },
   "outputs": [],
   "source": [
    "import collections\n",
    "\n",
    "# Function to find candidate pairs using LSH\n",
    "def candidate_pairs(sig, b):\n",
    "    d = sig.shape[1]\n",
    "\n",
    "    # split the signature matrix into bands\n",
    "    bands = np.array_split(sig, b, axis=0)\n",
    "\n",
    "    buckets = collections.defaultdict(set)\n",
    "\n",
    "    # iterate over bands and hash each column into buckets\n",
    "    for i, band in enumerate(bands):\n",
    "        for j in range(d):\n",
    "            # create a unique bucket_id\n",
    "            bucket_id = tuple(list(band[:, j]) + [str(i)])\n",
    "            buckets[bucket_id].add(j)\n",
    "\n",
    "    # take only buckets with more than one value\n",
    "    bucket_candidates = [\n",
    "        bucket for bucket in buckets.values() if len(bucket) > 1]\n",
    "\n",
    "    return bucket_candidates\n",
    "\n",
    "\n",
    "def calculate_similarity(user_index, candidate_index):\n",
    "    # extract the genres lists for the specified user and candidate\n",
    "    genres_user = q1_df.genres_list.iloc[candidate_index]\n",
    "    genres_candidate = q1_df.genres_list.iloc[user_index]\n",
    "\n",
    "    # calculate the Jaccard similarity score between the two genres lists\n",
    "    intersection = len(set(genres_user).intersection(set(genres_candidate)))\n",
    "    union = len(set(genres_user).union(set(genres_candidate)))\n",
    "    similarity = intersection / union if union != 0 else 0\n",
    "\n",
    "    return similarity\n",
    "\n",
    "\n",
    "def find_similar_users(candidate_pairs, user_id, df):\n",
    "    # find the index of the current user in the DataFrame\n",
    "    user_index = df.loc[df['user_id'] == user_id].index[0]\n",
    "\n",
    "    # iterate over candidate pairs\n",
    "    for bucket in candidate_pairs:\n",
    "        if user_index in bucket:\n",
    "            candidates = []\n",
    "\n",
    "            # iterate over all users in the bucket\n",
    "            for candidate_index in bucket - {user_index}:\n",
    "                # calculate the similarity score\n",
    "                current_score = calculate_similarity(\n",
    "                    user_index, candidate_index)\n",
    "                candidates.append((current_score, candidate_index))\n",
    "\n",
    "            # sort candidates based on similarity scores and keep the top 2 candidates\n",
    "            sorted_candidates = sorted(\n",
    "                candidates, key=lambda x: x[0], reverse=True)[:2]\n",
    "\n",
    "            # convert back to user IDs\n",
    "            candidate_ids = [df.loc[candidate_index, 'user_id']\n",
    "                             for _, candidate_index in sorted_candidates]\n",
    "\n",
    "    return candidate_ids"
   ]
  },
  {
   "cell_type": "code",
   "execution_count": 15,
   "metadata": {
    "id": "oaC9QYJVyqkp"
   },
   "outputs": [
    {
     "name": "stdout",
     "output_type": "stream",
     "text": [
      "Target user:  0008d919a5\n",
      "Similar users:  ['016f61f44c', '38e51bcd15']\n"
     ]
    }
   ],
   "source": [
    "# LSH with 3 bands of 4 rows each\n",
    "pairs = candidate_pairs(sig, b=3)\n",
    "\n",
    "target_user = q1_df.user_id[21]\n",
    "print('Target user: ', target_user)\n",
    "\n",
    "similar_users = find_similar_users(pairs, target_user, q1_df)\n",
    "print('Similar users: ', similar_users)"
   ]
  },
  {
   "cell_type": "code",
   "execution_count": 16,
   "metadata": {
    "id": "8g5Uztk9yqba"
   },
   "outputs": [
    {
     "data": {
      "text/html": [
       "<div>\n",
       "<style scoped>\n",
       "    .dataframe tbody tr th:only-of-type {\n",
       "        vertical-align: middle;\n",
       "    }\n",
       "\n",
       "    .dataframe tbody tr th {\n",
       "        vertical-align: top;\n",
       "    }\n",
       "\n",
       "    .dataframe thead th {\n",
       "        text-align: right;\n",
       "    }\n",
       "</style>\n",
       "<table border=\"1\" class=\"dataframe\">\n",
       "  <thead>\n",
       "    <tr style=\"text-align: right;\">\n",
       "      <th></th>\n",
       "      <th>user_id</th>\n",
       "      <th>title</th>\n",
       "      <th>genres</th>\n",
       "      <th>title_count</th>\n",
       "    </tr>\n",
       "  </thead>\n",
       "  <tbody>\n",
       "    <tr>\n",
       "      <th>2785</th>\n",
       "      <td>016f61f44c</td>\n",
       "      <td>Pitch Perfect 2</td>\n",
       "      <td>Comedy, Music</td>\n",
       "      <td>1</td>\n",
       "    </tr>\n",
       "    <tr>\n",
       "      <th>2786</th>\n",
       "      <td>016f61f44c</td>\n",
       "      <td>The Divergent Series: Insurgent</td>\n",
       "      <td>Action, Adventure, Sci-Fi, Thriller</td>\n",
       "      <td>1</td>\n",
       "    </tr>\n",
       "    <tr>\n",
       "      <th>110341</th>\n",
       "      <td>38e51bcd15</td>\n",
       "      <td>Jurassic World</td>\n",
       "      <td>Action, Adventure, Sci-Fi</td>\n",
       "      <td>5</td>\n",
       "    </tr>\n",
       "    <tr>\n",
       "      <th>110343</th>\n",
       "      <td>38e51bcd15</td>\n",
       "      <td>Taken 3</td>\n",
       "      <td>Action, Thriller</td>\n",
       "      <td>3</td>\n",
       "    </tr>\n",
       "    <tr>\n",
       "      <th>110342</th>\n",
       "      <td>38e51bcd15</td>\n",
       "      <td>Pitch Perfect 2</td>\n",
       "      <td>Comedy, Music</td>\n",
       "      <td>1</td>\n",
       "    </tr>\n",
       "  </tbody>\n",
       "</table>\n",
       "</div>"
      ],
      "text/plain": [
       "           user_id                            title  \\\n",
       "2785    016f61f44c                  Pitch Perfect 2   \n",
       "2786    016f61f44c  The Divergent Series: Insurgent   \n",
       "110341  38e51bcd15                   Jurassic World   \n",
       "110343  38e51bcd15                          Taken 3   \n",
       "110342  38e51bcd15                  Pitch Perfect 2   \n",
       "\n",
       "                                     genres  title_count  \n",
       "2785                          Comedy, Music            1  \n",
       "2786    Action, Adventure, Sci-Fi, Thriller            1  \n",
       "110341            Action, Adventure, Sci-Fi            5  \n",
       "110343                     Action, Thriller            3  \n",
       "110342                        Comedy, Music            1  "
      ]
     },
     "execution_count": 16,
     "metadata": {},
     "output_type": "execute_result"
    }
   ],
   "source": [
    "# user_counts dataframe contains counted titles for each user\n",
    "all_recommendations = user_counts[user_counts['user_id'].isin(similar_users)]\n",
    "\n",
    "first_user = similar_users[0]\n",
    "first_user_movies = all_recommendations[all_recommendations['user_id'] == first_user]\n",
    "\n",
    "second_user = similar_users[1]\n",
    "second_user_movies = all_recommendations[all_recommendations['user_id'] == second_user]\n",
    "\n",
    "all_recommendations"
   ]
  },
  {
   "cell_type": "code",
   "execution_count": 17,
   "metadata": {
    "id": "zo8L-17lyqRJ"
   },
   "outputs": [],
   "source": [
    "# find common titles\n",
    "common_titles = set(all_recommendations[all_recommendations['user_id'] == first_user]['title']).intersection(\n",
    "    set(all_recommendations[all_recommendations['user_id']\n",
    "        == second_user]['title'])\n",
    ")\n",
    "\n",
    "# filter all_recommendations by common titles\n",
    "recommendations_df = all_recommendations[all_recommendations['title'].isin(\n",
    "    common_titles)]\n",
    "\n",
    "# group by title, sum the counts and sort\n",
    "recommendations_df = recommendations_df.groupby('title', as_index=False).sum()\n",
    "recommendations_df = recommendations_df.sort_values(\n",
    "    by='title_count', ascending=False)\n",
    "\n",
    "recommendations_df = recommendations_df[['title']]\n",
    "\n",
    "# loop through 1st and 2nd user movies, add titles if they are not there yet and if the length of df is less than 5\n",
    "for _, row in first_user_movies.iterrows():\n",
    "    if len(recommendations_df) >= 5:\n",
    "        break\n",
    "    if row['title'] not in recommendations_df['title'].values:\n",
    "        recommendations_df = pd.concat([recommendations_df, pd.DataFrame(row[['title']]).transpose()])\n",
    "\n",
    "for _, row in second_user_movies.iterrows():\n",
    "    if len(recommendations_df) >= 5:\n",
    "        break\n",
    "    if row['title'] not in recommendations_df['title'].values:\n",
    "        recommendations_df = pd.concat([recommendations_df, pd.DataFrame(row[['title']]).transpose()])"
   ]
  },
  {
   "cell_type": "code",
   "execution_count": 18,
   "metadata": {
    "id": "Vdm21p2MyqGE"
   },
   "outputs": [
    {
     "name": "stdout",
     "output_type": "stream",
     "text": [
      "Recommended movies for user 0008d919a5:\n",
      "1. Pitch Perfect 2\n",
      "2. The Divergent Series: Insurgent\n",
      "3. Jurassic World\n",
      "4. Taken 3\n"
     ]
    }
   ],
   "source": [
    "print(f\"Recommended movies for user {target_user}:\")\n",
    "for i, title in enumerate(recommendations_df['title'], 1):\n",
    "    print(f\"{i}. {title}\")"
   ]
  },
  {
   "cell_type": "markdown",
   "metadata": {
    "id": "zDa_LvawP3Hi"
   },
   "source": [
    "# **2. Grouping Users together!**"
   ]
  },
  {
   "cell_type": "markdown",
   "metadata": {
    "id": "MkX4XWQbP7YH"
   },
   "source": [
    "## **2.1 Getting your data + feature engineering**"
   ]
  },
  {
   "cell_type": "markdown",
   "metadata": {
    "id": "3b0J6-jccWP6"
   },
   "source": [
    "#### **2.1.1 Accessing the Dataset and Preprocessing it for the further analysis.**"
   ]
  },
  {
   "cell_type": "code",
   "execution_count": null,
   "metadata": {
    "id": "TPKuXAy5QAuJ"
   },
   "outputs": [],
   "source": [
    "import pandas as pd\n",
    "from datetime import datetime\n",
    "import matplotlib.pyplot as plt\n",
    "import seaborn as sns\n",
    "#import warnings\n",
    "#warnings.filterwarnings(\"ignore\")\n"
   ]
  },
  {
   "cell_type": "code",
   "execution_count": null,
   "metadata": {
    "id": "-i9q_C1pbOBk"
   },
   "outputs": [],
   "source": [
    "df = pd.read_csv(\"/content/vodclickstream_uk_movies_03.csv\")"
   ]
  },
  {
   "cell_type": "code",
   "execution_count": null,
   "metadata": {
    "colab": {
     "base_uri": "https://localhost:8080/"
    },
    "id": "m4oJxRtMbS_N",
    "outputId": "613d6b9d-2aa3-4c71-f15c-5c4108e2013c"
   },
   "outputs": [
    {
     "name": "stdout",
     "output_type": "stream",
     "text": [
      "<class 'pandas.core.frame.DataFrame'>\n",
      "RangeIndex: 671736 entries, 0 to 671735\n",
      "Data columns (total 8 columns):\n",
      " #   Column        Non-Null Count   Dtype  \n",
      "---  ------        --------------   -----  \n",
      " 0   Unnamed: 0    671736 non-null  int64  \n",
      " 1   datetime      671736 non-null  object \n",
      " 2   duration      671736 non-null  float64\n",
      " 3   title         671736 non-null  object \n",
      " 4   genres        671736 non-null  object \n",
      " 5   release_date  671736 non-null  object \n",
      " 6   movie_id      671736 non-null  object \n",
      " 7   user_id       671736 non-null  object \n",
      "dtypes: float64(1), int64(1), object(6)\n",
      "memory usage: 41.0+ MB\n"
     ]
    }
   ],
   "source": [
    "df.info()"
   ]
  },
  {
   "cell_type": "code",
   "execution_count": null,
   "metadata": {
    "colab": {
     "base_uri": "https://localhost:8080/",
     "height": 201
    },
    "id": "iq38FBZ6bVQh",
    "outputId": "14f268dd-3f56-463f-a83e-f5bbddde7178"
   },
   "outputs": [
    {
     "data": {
      "text/html": [
       "\n",
       "  <div id=\"df-37833938-4136-4289-96f0-ba775b9d03a2\" class=\"colab-df-container\">\n",
       "    <div>\n",
       "<style scoped>\n",
       "    .dataframe tbody tr th:only-of-type {\n",
       "        vertical-align: middle;\n",
       "    }\n",
       "\n",
       "    .dataframe tbody tr th {\n",
       "        vertical-align: top;\n",
       "    }\n",
       "\n",
       "    .dataframe thead th {\n",
       "        text-align: right;\n",
       "    }\n",
       "</style>\n",
       "<table border=\"1\" class=\"dataframe\">\n",
       "  <thead>\n",
       "    <tr style=\"text-align: right;\">\n",
       "      <th></th>\n",
       "      <th>Unnamed: 0</th>\n",
       "      <th>datetime</th>\n",
       "      <th>duration</th>\n",
       "      <th>title</th>\n",
       "      <th>genres</th>\n",
       "      <th>release_date</th>\n",
       "      <th>movie_id</th>\n",
       "      <th>user_id</th>\n",
       "    </tr>\n",
       "  </thead>\n",
       "  <tbody>\n",
       "    <tr>\n",
       "      <th>0</th>\n",
       "      <td>58773</td>\n",
       "      <td>2017-01-01 01:15:09</td>\n",
       "      <td>0.0</td>\n",
       "      <td>Angus, Thongs and Perfect Snogging</td>\n",
       "      <td>Comedy, Drama, Romance</td>\n",
       "      <td>2008-07-25</td>\n",
       "      <td>26bd5987e8</td>\n",
       "      <td>1dea19f6fe</td>\n",
       "    </tr>\n",
       "    <tr>\n",
       "      <th>1</th>\n",
       "      <td>58774</td>\n",
       "      <td>2017-01-01 13:56:02</td>\n",
       "      <td>0.0</td>\n",
       "      <td>The Curse of Sleeping Beauty</td>\n",
       "      <td>Fantasy, Horror, Mystery, Thriller</td>\n",
       "      <td>2016-06-02</td>\n",
       "      <td>f26ed2675e</td>\n",
       "      <td>544dcbc510</td>\n",
       "    </tr>\n",
       "    <tr>\n",
       "      <th>2</th>\n",
       "      <td>58775</td>\n",
       "      <td>2017-01-01 15:17:47</td>\n",
       "      <td>10530.0</td>\n",
       "      <td>London Has Fallen</td>\n",
       "      <td>Action, Thriller</td>\n",
       "      <td>2016-03-04</td>\n",
       "      <td>f77e500e7a</td>\n",
       "      <td>7cbcc791bf</td>\n",
       "    </tr>\n",
       "    <tr>\n",
       "      <th>3</th>\n",
       "      <td>58776</td>\n",
       "      <td>2017-01-01 16:04:13</td>\n",
       "      <td>49.0</td>\n",
       "      <td>Vendetta</td>\n",
       "      <td>Action, Drama</td>\n",
       "      <td>2015-06-12</td>\n",
       "      <td>c74aec7673</td>\n",
       "      <td>ebf43c36b6</td>\n",
       "    </tr>\n",
       "    <tr>\n",
       "      <th>4</th>\n",
       "      <td>58777</td>\n",
       "      <td>2017-01-01 19:16:37</td>\n",
       "      <td>0.0</td>\n",
       "      <td>The SpongeBob SquarePants Movie</td>\n",
       "      <td>Animation, Action, Adventure, Comedy, Family, ...</td>\n",
       "      <td>2004-11-19</td>\n",
       "      <td>a80d6fc2aa</td>\n",
       "      <td>a57c992287</td>\n",
       "    </tr>\n",
       "  </tbody>\n",
       "</table>\n",
       "</div>\n",
       "    <div class=\"colab-df-buttons\">\n",
       "\n",
       "  <div class=\"colab-df-container\">\n",
       "    <button class=\"colab-df-convert\" onclick=\"convertToInteractive('df-37833938-4136-4289-96f0-ba775b9d03a2')\"\n",
       "            title=\"Convert this dataframe to an interactive table.\"\n",
       "            style=\"display:none;\">\n",
       "\n",
       "  <svg xmlns=\"http://www.w3.org/2000/svg\" height=\"24px\" viewBox=\"0 -960 960 960\">\n",
       "    <path d=\"M120-120v-720h720v720H120Zm60-500h600v-160H180v160Zm220 220h160v-160H400v160Zm0 220h160v-160H400v160ZM180-400h160v-160H180v160Zm440 0h160v-160H620v160ZM180-180h160v-160H180v160Zm440 0h160v-160H620v160Z\"/>\n",
       "  </svg>\n",
       "    </button>\n",
       "\n",
       "  <style>\n",
       "    .colab-df-container {\n",
       "      display:flex;\n",
       "      gap: 12px;\n",
       "    }\n",
       "\n",
       "    .colab-df-convert {\n",
       "      background-color: #E8F0FE;\n",
       "      border: none;\n",
       "      border-radius: 50%;\n",
       "      cursor: pointer;\n",
       "      display: none;\n",
       "      fill: #1967D2;\n",
       "      height: 32px;\n",
       "      padding: 0 0 0 0;\n",
       "      width: 32px;\n",
       "    }\n",
       "\n",
       "    .colab-df-convert:hover {\n",
       "      background-color: #E2EBFA;\n",
       "      box-shadow: 0px 1px 2px rgba(60, 64, 67, 0.3), 0px 1px 3px 1px rgba(60, 64, 67, 0.15);\n",
       "      fill: #174EA6;\n",
       "    }\n",
       "\n",
       "    .colab-df-buttons div {\n",
       "      margin-bottom: 4px;\n",
       "    }\n",
       "\n",
       "    [theme=dark] .colab-df-convert {\n",
       "      background-color: #3B4455;\n",
       "      fill: #D2E3FC;\n",
       "    }\n",
       "\n",
       "    [theme=dark] .colab-df-convert:hover {\n",
       "      background-color: #434B5C;\n",
       "      box-shadow: 0px 1px 3px 1px rgba(0, 0, 0, 0.15);\n",
       "      filter: drop-shadow(0px 1px 2px rgba(0, 0, 0, 0.3));\n",
       "      fill: #FFFFFF;\n",
       "    }\n",
       "  </style>\n",
       "\n",
       "    <script>\n",
       "      const buttonEl =\n",
       "        document.querySelector('#df-37833938-4136-4289-96f0-ba775b9d03a2 button.colab-df-convert');\n",
       "      buttonEl.style.display =\n",
       "        google.colab.kernel.accessAllowed ? 'block' : 'none';\n",
       "\n",
       "      async function convertToInteractive(key) {\n",
       "        const element = document.querySelector('#df-37833938-4136-4289-96f0-ba775b9d03a2');\n",
       "        const dataTable =\n",
       "          await google.colab.kernel.invokeFunction('convertToInteractive',\n",
       "                                                    [key], {});\n",
       "        if (!dataTable) return;\n",
       "\n",
       "        const docLinkHtml = 'Like what you see? Visit the ' +\n",
       "          '<a target=\"_blank\" href=https://colab.research.google.com/notebooks/data_table.ipynb>data table notebook</a>'\n",
       "          + ' to learn more about interactive tables.';\n",
       "        element.innerHTML = '';\n",
       "        dataTable['output_type'] = 'display_data';\n",
       "        await google.colab.output.renderOutput(dataTable, element);\n",
       "        const docLink = document.createElement('div');\n",
       "        docLink.innerHTML = docLinkHtml;\n",
       "        element.appendChild(docLink);\n",
       "      }\n",
       "    </script>\n",
       "  </div>\n",
       "\n",
       "\n",
       "<div id=\"df-3c7b1f5a-b0fc-419f-ab20-9d2c159b4537\">\n",
       "  <button class=\"colab-df-quickchart\" onclick=\"quickchart('df-3c7b1f5a-b0fc-419f-ab20-9d2c159b4537')\"\n",
       "            title=\"Suggest charts\"\n",
       "            style=\"display:none;\">\n",
       "\n",
       "<svg xmlns=\"http://www.w3.org/2000/svg\" height=\"24px\"viewBox=\"0 0 24 24\"\n",
       "     width=\"24px\">\n",
       "    <g>\n",
       "        <path d=\"M19 3H5c-1.1 0-2 .9-2 2v14c0 1.1.9 2 2 2h14c1.1 0 2-.9 2-2V5c0-1.1-.9-2-2-2zM9 17H7v-7h2v7zm4 0h-2V7h2v10zm4 0h-2v-4h2v4z\"/>\n",
       "    </g>\n",
       "</svg>\n",
       "  </button>\n",
       "\n",
       "<style>\n",
       "  .colab-df-quickchart {\n",
       "      --bg-color: #E8F0FE;\n",
       "      --fill-color: #1967D2;\n",
       "      --hover-bg-color: #E2EBFA;\n",
       "      --hover-fill-color: #174EA6;\n",
       "      --disabled-fill-color: #AAA;\n",
       "      --disabled-bg-color: #DDD;\n",
       "  }\n",
       "\n",
       "  [theme=dark] .colab-df-quickchart {\n",
       "      --bg-color: #3B4455;\n",
       "      --fill-color: #D2E3FC;\n",
       "      --hover-bg-color: #434B5C;\n",
       "      --hover-fill-color: #FFFFFF;\n",
       "      --disabled-bg-color: #3B4455;\n",
       "      --disabled-fill-color: #666;\n",
       "  }\n",
       "\n",
       "  .colab-df-quickchart {\n",
       "    background-color: var(--bg-color);\n",
       "    border: none;\n",
       "    border-radius: 50%;\n",
       "    cursor: pointer;\n",
       "    display: none;\n",
       "    fill: var(--fill-color);\n",
       "    height: 32px;\n",
       "    padding: 0;\n",
       "    width: 32px;\n",
       "  }\n",
       "\n",
       "  .colab-df-quickchart:hover {\n",
       "    background-color: var(--hover-bg-color);\n",
       "    box-shadow: 0 1px 2px rgba(60, 64, 67, 0.3), 0 1px 3px 1px rgba(60, 64, 67, 0.15);\n",
       "    fill: var(--button-hover-fill-color);\n",
       "  }\n",
       "\n",
       "  .colab-df-quickchart-complete:disabled,\n",
       "  .colab-df-quickchart-complete:disabled:hover {\n",
       "    background-color: var(--disabled-bg-color);\n",
       "    fill: var(--disabled-fill-color);\n",
       "    box-shadow: none;\n",
       "  }\n",
       "\n",
       "  .colab-df-spinner {\n",
       "    border: 2px solid var(--fill-color);\n",
       "    border-color: transparent;\n",
       "    border-bottom-color: var(--fill-color);\n",
       "    animation:\n",
       "      spin 1s steps(1) infinite;\n",
       "  }\n",
       "\n",
       "  @keyframes spin {\n",
       "    0% {\n",
       "      border-color: transparent;\n",
       "      border-bottom-color: var(--fill-color);\n",
       "      border-left-color: var(--fill-color);\n",
       "    }\n",
       "    20% {\n",
       "      border-color: transparent;\n",
       "      border-left-color: var(--fill-color);\n",
       "      border-top-color: var(--fill-color);\n",
       "    }\n",
       "    30% {\n",
       "      border-color: transparent;\n",
       "      border-left-color: var(--fill-color);\n",
       "      border-top-color: var(--fill-color);\n",
       "      border-right-color: var(--fill-color);\n",
       "    }\n",
       "    40% {\n",
       "      border-color: transparent;\n",
       "      border-right-color: var(--fill-color);\n",
       "      border-top-color: var(--fill-color);\n",
       "    }\n",
       "    60% {\n",
       "      border-color: transparent;\n",
       "      border-right-color: var(--fill-color);\n",
       "    }\n",
       "    80% {\n",
       "      border-color: transparent;\n",
       "      border-right-color: var(--fill-color);\n",
       "      border-bottom-color: var(--fill-color);\n",
       "    }\n",
       "    90% {\n",
       "      border-color: transparent;\n",
       "      border-bottom-color: var(--fill-color);\n",
       "    }\n",
       "  }\n",
       "</style>\n",
       "\n",
       "  <script>\n",
       "    async function quickchart(key) {\n",
       "      const quickchartButtonEl =\n",
       "        document.querySelector('#' + key + ' button');\n",
       "      quickchartButtonEl.disabled = true;  // To prevent multiple clicks.\n",
       "      quickchartButtonEl.classList.add('colab-df-spinner');\n",
       "      try {\n",
       "        const charts = await google.colab.kernel.invokeFunction(\n",
       "            'suggestCharts', [key], {});\n",
       "      } catch (error) {\n",
       "        console.error('Error during call to suggestCharts:', error);\n",
       "      }\n",
       "      quickchartButtonEl.classList.remove('colab-df-spinner');\n",
       "      quickchartButtonEl.classList.add('colab-df-quickchart-complete');\n",
       "    }\n",
       "    (() => {\n",
       "      let quickchartButtonEl =\n",
       "        document.querySelector('#df-3c7b1f5a-b0fc-419f-ab20-9d2c159b4537 button');\n",
       "      quickchartButtonEl.style.display =\n",
       "        google.colab.kernel.accessAllowed ? 'block' : 'none';\n",
       "    })();\n",
       "  </script>\n",
       "</div>\n",
       "    </div>\n",
       "  </div>\n"
      ],
      "text/plain": [
       "   Unnamed: 0             datetime  duration  \\\n",
       "0       58773  2017-01-01 01:15:09       0.0   \n",
       "1       58774  2017-01-01 13:56:02       0.0   \n",
       "2       58775  2017-01-01 15:17:47   10530.0   \n",
       "3       58776  2017-01-01 16:04:13      49.0   \n",
       "4       58777  2017-01-01 19:16:37       0.0   \n",
       "\n",
       "                                title  \\\n",
       "0  Angus, Thongs and Perfect Snogging   \n",
       "1        The Curse of Sleeping Beauty   \n",
       "2                   London Has Fallen   \n",
       "3                            Vendetta   \n",
       "4     The SpongeBob SquarePants Movie   \n",
       "\n",
       "                                              genres release_date    movie_id  \\\n",
       "0                             Comedy, Drama, Romance   2008-07-25  26bd5987e8   \n",
       "1                 Fantasy, Horror, Mystery, Thriller   2016-06-02  f26ed2675e   \n",
       "2                                   Action, Thriller   2016-03-04  f77e500e7a   \n",
       "3                                      Action, Drama   2015-06-12  c74aec7673   \n",
       "4  Animation, Action, Adventure, Comedy, Family, ...   2004-11-19  a80d6fc2aa   \n",
       "\n",
       "      user_id  \n",
       "0  1dea19f6fe  \n",
       "1  544dcbc510  \n",
       "2  7cbcc791bf  \n",
       "3  ebf43c36b6  \n",
       "4  a57c992287  "
      ]
     },
     "execution_count": 4,
     "metadata": {},
     "output_type": "execute_result"
    }
   ],
   "source": [
    "df.head(5)"
   ]
  },
  {
   "cell_type": "code",
   "execution_count": null,
   "metadata": {
    "id": "JTpbhiCMbaBu"
   },
   "outputs": [],
   "source": [
    "df['datetime'] = pd.to_datetime(df['datetime'])\n"
   ]
  },
  {
   "cell_type": "code",
   "execution_count": null,
   "metadata": {
    "colab": {
     "base_uri": "https://localhost:8080/"
    },
    "id": "W5Ov2gkKbcLw",
    "outputId": "1c24d93c-af38-4219-f5ff-d66d19f2842b"
   },
   "outputs": [
    {
     "name": "stdout",
     "output_type": "stream",
     "text": [
      "Unnamed: 0      0\n",
      "datetime        0\n",
      "duration        0\n",
      "title           0\n",
      "genres          0\n",
      "release_date    0\n",
      "movie_id        0\n",
      "user_id         0\n",
      "dtype: int64\n"
     ]
    }
   ],
   "source": [
    "\n",
    "missing_values = df.isnull().sum()\n",
    "print(missing_values)\n"
   ]
  },
  {
   "cell_type": "code",
   "execution_count": null,
   "metadata": {
    "colab": {
     "base_uri": "https://localhost:8080/"
    },
    "id": "vsA4F0T7be6S",
    "outputId": "be6ac1f5-0f3b-4114-f813-13e64faae2a2"
   },
   "outputs": [
    {
     "name": "stdout",
     "output_type": "stream",
     "text": [
      "Shape of modified DataFrame: (639842, 8)\n"
     ]
    }
   ],
   "source": [
    "# Removing rows with \"NOT AVAILABLE\" entries in 'genres' and 'release_date' from df\n",
    "df = df[(df['genres'] != 'NOT AVAILABLE') & (df['release_date'] != 'NOT AVAILABLE')]\n",
    "print(\"Shape of modified DataFrame:\", df.shape)\n"
   ]
  },
  {
   "cell_type": "code",
   "execution_count": null,
   "metadata": {
    "colab": {
     "base_uri": "https://localhost:8080/"
    },
    "id": "cWuyQ4dibiOP",
    "outputId": "697af11a-4279-4961-84dc-2f895a3a2c88"
   },
   "outputs": [
    {
     "data": {
      "text/plain": [
       "Series([], dtype: int64)"
      ]
     },
     "execution_count": 8,
     "metadata": {},
     "output_type": "execute_result"
    }
   ],
   "source": [
    "NA_counts = df[df == 'NOT AVAILABLE'].count()\n",
    "\n",
    "columns_with_NA = NA_counts[NA_counts > 0].index\n",
    "NA_counts[columns_with_NA]\n"
   ]
  },
  {
   "cell_type": "code",
   "execution_count": null,
   "metadata": {
    "colab": {
     "base_uri": "https://localhost:8080/"
    },
    "id": "YqfPKfX6bq1y",
    "outputId": "e0a56044-1125-4637-9749-effafe039930"
   },
   "outputs": [
    {
     "name": "stdout",
     "output_type": "stream",
     "text": [
      "Number of entries with duration of 0.0 seconds: 284523\n",
      "Number of empty entries with duration : 20808\n"
     ]
    }
   ],
   "source": [
    "# Counting entries with duration of 0.0 seconds and empty entries (-1)\n",
    "zero_duration_count = df[df['duration'] == 0.0].shape[0]\n",
    "Empty_entries_count = df[df['duration']== -1].shape[0]\n",
    "\n",
    "print(f\"Number of entries with duration of 0.0 seconds: {zero_duration_count}\")\n",
    "print(f\"Number of empty entries with duration : {Empty_entries_count}\")"
   ]
  },
  {
   "cell_type": "code",
   "execution_count": null,
   "metadata": {
    "id": "cHMkNE-1bvDU"
   },
   "outputs": [],
   "source": [
    "# Removing entries with duration of 0.0 seconds and -1 entries\n",
    "df = df[df['duration'] != 0.0]\n",
    "df = df[df['duration'] != -1]"
   ]
  },
  {
   "cell_type": "code",
   "execution_count": null,
   "metadata": {
    "colab": {
     "base_uri": "https://localhost:8080/"
    },
    "id": "1k5ZKRM0b8gh",
    "outputId": "fc5c76ac-ed33-4395-fe29-59086fc8d678"
   },
   "outputs": [
    {
     "name": "stdout",
     "output_type": "stream",
     "text": [
      "<class 'pandas.core.frame.DataFrame'>\n",
      "Int64Index: 334511 entries, 2 to 671732\n",
      "Data columns (total 8 columns):\n",
      " #   Column        Non-Null Count   Dtype         \n",
      "---  ------        --------------   -----         \n",
      " 0   Unnamed: 0    334511 non-null  int64         \n",
      " 1   datetime      334511 non-null  datetime64[ns]\n",
      " 2   duration      334511 non-null  float64       \n",
      " 3   title         334511 non-null  object        \n",
      " 4   genres        334511 non-null  object        \n",
      " 5   release_date  334511 non-null  object        \n",
      " 6   movie_id      334511 non-null  object        \n",
      " 7   user_id       334511 non-null  object        \n",
      "dtypes: datetime64[ns](1), float64(1), int64(1), object(5)\n",
      "memory usage: 23.0+ MB\n"
     ]
    }
   ],
   "source": [
    "df.info()"
   ]
  },
  {
   "cell_type": "code",
   "execution_count": null,
   "metadata": {
    "id": "Ya8vxR7XcAbk"
   },
   "outputs": [],
   "source": [
    "df_filtered = df.copy()"
   ]
  },
  {
   "cell_type": "code",
   "execution_count": null,
   "metadata": {
    "colab": {
     "base_uri": "https://localhost:8080/"
    },
    "id": "6f0SnwpxcE9K",
    "outputId": "2e581778-aea6-428c-9d0d-a625138a20dd"
   },
   "outputs": [
    {
     "name": "stdout",
     "output_type": "stream",
     "text": [
      "<class 'pandas.core.frame.DataFrame'>\n",
      "Int64Index: 334511 entries, 2 to 671732\n",
      "Data columns (total 8 columns):\n",
      " #   Column        Non-Null Count   Dtype         \n",
      "---  ------        --------------   -----         \n",
      " 0   Unnamed: 0    334511 non-null  int64         \n",
      " 1   datetime      334511 non-null  datetime64[ns]\n",
      " 2   duration      334511 non-null  float64       \n",
      " 3   title         334511 non-null  object        \n",
      " 4   genres        334511 non-null  object        \n",
      " 5   release_date  334511 non-null  object        \n",
      " 6   movie_id      334511 non-null  object        \n",
      " 7   user_id       334511 non-null  object        \n",
      "dtypes: datetime64[ns](1), float64(1), int64(1), object(5)\n",
      "memory usage: 23.0+ MB\n"
     ]
    }
   ],
   "source": [
    "df_filtered.info()"
   ]
  },
  {
   "cell_type": "markdown",
   "metadata": {
    "id": "MPMJ7DvGcjyD"
   },
   "source": [
    "#### **2.1.2 Sometimes, the features (variables, fields) are not given in a dataset but can be created from it; this is known as feature engineering. For example, the original dataset has several clicks done by the same user, so grouping data by user_id will allow you to create new features for each user:**\n",
    "\n",
    "a) Favorite genre (i.e., the genre on which the user spent the most time)\n",
    "\n",
    "b) Average click duration\n",
    "\n",
    "c) Time of the day (Morning/Afternoon/Night) when the user spends the most time on the platform (the time spent is tracked through the duration of the clicks)\n",
    "\n",
    "d) Is the user an old movie lover, or is he into more recent stuff (content released after 2010)?\n",
    "\n",
    "e) Average time spent a day by the user (considering only the days he logs in)"
   ]
  },
  {
   "cell_type": "code",
   "execution_count": null,
   "metadata": {
    "id": "BFEY8fhic18X"
   },
   "outputs": [],
   "source": [
    "# a) Favorite genre (i.e., the genre on which the user spent the most time)\n",
    "favorite_genre = df_filtered.groupby(['user_id', 'genres'])['duration'].sum().reset_index()\n",
    "favorite_genre = favorite_genre.sort_values('duration', ascending=False).drop_duplicates('user_id')\n",
    "favorite_genre = favorite_genre[['user_id', 'genres']].rename(columns={'genres': 'favorite_genre'})\n"
   ]
  },
  {
   "cell_type": "code",
   "execution_count": null,
   "metadata": {
    "id": "yC7EB8xodDSw"
   },
   "outputs": [],
   "source": [
    "# b) Average click duration\n",
    "average_click_duration = df_filtered.groupby('user_id')['duration'].mean().reset_index()\n",
    "average_click_duration.rename(columns={'duration': 'average_click_duration'}, inplace=True)\n"
   ]
  },
  {
   "cell_type": "code",
   "execution_count": null,
   "metadata": {
    "id": "R7czLePfdKkB"
   },
   "outputs": [],
   "source": [
    "# c) Time of the day (Morning/Afternoon/Night) when the user spends the most time\n",
    "\n",
    "df_filtered['hour'] = df['datetime'].dt.hour\n",
    "\n",
    "def get_time_of_day(hour):\n",
    "    if 5 <= hour < 12:\n",
    "        return 'Morning'\n",
    "    elif 12 <= hour < 18:\n",
    "        return 'Afternoon'\n",
    "    else:\n",
    "        return 'Night'\n",
    "\n",
    "df_filtered['time_of_day'] = df_filtered['hour'].apply(get_time_of_day)\n",
    "time_of_day_most_spent = df_filtered.groupby(['user_id', 'time_of_day'])['duration'].sum().reset_index()\n",
    "time_of_day_most_spent = time_of_day_most_spent.sort_values('duration', ascending=False).drop_duplicates('user_id')\n",
    "time_of_day_most_spent = time_of_day_most_spent[['user_id', 'time_of_day']]\n",
    "\n"
   ]
  },
  {
   "cell_type": "code",
   "execution_count": null,
   "metadata": {
    "id": "rkI5GUavdn7G"
   },
   "outputs": [],
   "source": [
    "# d) Is the user an old movie lover, or is he into more recent stuff (content released after 2010)?\n",
    "\n",
    "df_filtered['release_year'] = pd.to_datetime(df_filtered['release_date'], errors='coerce').dt.year\n",
    "user_preference = df_filtered.groupby('user_id')['release_year'].max().reset_index()\n",
    "user_preference['preference'] = user_preference['release_year'].apply(lambda x: 'Old Movie Lover' if x <= 2010 else 'Into Recent Stuff')\n",
    "user_preference = user_preference[['user_id', 'preference']]\n"
   ]
  },
  {
   "cell_type": "code",
   "execution_count": null,
   "metadata": {
    "id": "ASU9td5mdwvq"
   },
   "outputs": [],
   "source": [
    "# e) Average time spent a day by the user (considering only the days he logs in)\n",
    "\n",
    "average_time_spent_per_day = df_filtered.groupby(['user_id', df_filtered['datetime'].dt.date])['duration'].sum().reset_index()\n",
    "average_time_spent_per_day = average_time_spent_per_day.groupby('user_id')['duration'].mean().reset_index()\n",
    "average_time_spent_per_day.rename(columns={'duration': 'average_time_spent_per_day'}, inplace=True)"
   ]
  },
  {
   "cell_type": "code",
   "execution_count": null,
   "metadata": {
    "id": "f8y8nOFOd1dS"
   },
   "outputs": [],
   "source": [
    "# Merging all the features\n",
    "\n",
    "features = pd.merge(favorite_genre, average_click_duration, on='user_id', how='outer')\n",
    "features = pd.merge(features, time_of_day_most_spent, on='user_id', how='outer')\n",
    "features = pd.merge(features, user_preference, on='user_id', how='outer')\n",
    "features = pd.merge(features, average_time_spent_per_day, on='user_id', how='outer')\n"
   ]
  },
  {
   "cell_type": "code",
   "execution_count": null,
   "metadata": {
    "colab": {
     "base_uri": "https://localhost:8080/"
    },
    "id": "4uVjx_B_etwh",
    "outputId": "627f6af7-5be6-413b-80c1-62b217d30a76"
   },
   "outputs": [
    {
     "name": "stdout",
     "output_type": "stream",
     "text": [
      "<class 'pandas.core.frame.DataFrame'>\n",
      "Int64Index: 106591 entries, 0 to 106590\n",
      "Data columns (total 6 columns):\n",
      " #   Column                      Non-Null Count   Dtype  \n",
      "---  ------                      --------------   -----  \n",
      " 0   user_id                     106591 non-null  object \n",
      " 1   favorite_genre              106591 non-null  object \n",
      " 2   average_click_duration      106591 non-null  float64\n",
      " 3   time_of_day                 106591 non-null  object \n",
      " 4   preference                  106591 non-null  object \n",
      " 5   average_time_spent_per_day  106591 non-null  float64\n",
      "dtypes: float64(2), object(4)\n",
      "memory usage: 5.7+ MB\n"
     ]
    }
   ],
   "source": [
    "features.info()"
   ]
  },
  {
   "cell_type": "markdown",
   "metadata": {
    "id": "xwiWXhBCeyqM"
   },
   "source": [
    "#### **2.1.3. Consider at least 10 additional features that can be generated for each user_id (you can use chatGPT or other LLM tools for suggesting features to create). Describe each of them and add them to the previous dataset you made (the one with five features). In the end, you should have for each user at least 15 features (5 recommended + 10 suggested by you).**"
   ]
  },
  {
   "cell_type": "code",
   "execution_count": null,
   "metadata": {
    "id": "2p64fkAJe_up"
   },
   "outputs": [],
   "source": [
    "# Feature 6: Total Clicks (Represents the total number of clicks made by the user)\n",
    "\n",
    "total_clicks = df_filtered.groupby('user_id').size().reset_index(name='total_clicks')\n"
   ]
  },
  {
   "cell_type": "code",
   "execution_count": null,
   "metadata": {
    "id": "a37udkaMffZS"
   },
   "outputs": [],
   "source": [
    "# Feature 7: Distinct Genres Count (Indicates the number of distinct genres clicked by the user)\n",
    "distinct_genres_count = df_filtered.groupby('user_id')['genres'].nunique().reset_index(name='distinct_genres_count')\n"
   ]
  },
  {
   "cell_type": "code",
   "execution_count": null,
   "metadata": {
    "id": "Xvio4QSkfo8s"
   },
   "outputs": [],
   "source": [
    "# Feature 8: Longest Session Duration (Represents the longest duration of a single click session for the user)\n",
    "longest_session_duration = df_filtered.groupby('user_id')['duration'].max().reset_index(name='longest_session_duration')\n"
   ]
  },
  {
   "cell_type": "code",
   "execution_count": null,
   "metadata": {
    "id": "T9OGb7Iifv-u"
   },
   "outputs": [],
   "source": [
    "# Feature 9: Shortest Session Duration (Represents the shortest duration of a single click session for the user)\n",
    "shortest_session_duration = df_filtered.groupby('user_id')['duration'].min().reset_index(name='shortest_session_duration')\n"
   ]
  },
  {
   "cell_type": "code",
   "execution_count": null,
   "metadata": {
    "id": "vByCfHKuiyGh"
   },
   "outputs": [],
   "source": [
    "# Extracting day of the week from the 'datetime' column\n",
    "df_filtered['day_of_week'] = df_filtered['datetime'].dt.day_name()"
   ]
  },
  {
   "cell_type": "code",
   "execution_count": null,
   "metadata": {
    "id": "-6KXrQGVhBER"
   },
   "outputs": [],
   "source": [
    "# Feature 10: Weekday vs Weekend Activity (Represents the ratio between weekday and weekend)\n",
    "\n",
    "df_filtered['is_weekday'] = df_filtered['day_of_week'].isin(['Monday', 'Tuesday', 'Wednesday', 'Thursday', 'Friday'])\n",
    "weekday_activity_ratio = df_filtered.groupby('user_id')['is_weekday'].mean().reset_index(name='weekday_activity_ratio')\n"
   ]
  },
  {
   "cell_type": "code",
   "execution_count": null,
   "metadata": {
    "id": "tTHDy5GqhveR"
   },
   "outputs": [],
   "source": [
    "# Feature 11: Days Active (Represents the number of days the user has been active.)\n",
    "\n",
    "days_active = df_filtered.groupby('user_id')['datetime'].apply(lambda x: x.dt.date.nunique()).reset_index(name='days_active')\n"
   ]
  },
  {
   "cell_type": "code",
   "execution_count": null,
   "metadata": {
    "id": "As72JiPZhiR_"
   },
   "outputs": [],
   "source": [
    "# Extract day of the week from 'datetime'\n",
    "df_filtered['day_of_week'] = df_filtered['datetime'].dt.day_name()\n",
    "\n",
    "# Feature 12: Most Active Day of the Week (Represents the most active day of the week for the user)\n",
    "\n",
    "most_active_day = df_filtered.groupby(['user_id', 'day_of_week'])['duration'].sum().reset_index(name='total_duration')\n",
    "most_active_day = most_active_day.loc[most_active_day.groupby('user_id')['total_duration'].idxmax()]\n",
    "most_active_day = most_active_day[['user_id', 'day_of_week']]\n",
    "\n"
   ]
  },
  {
   "cell_type": "code",
   "execution_count": null,
   "metadata": {
    "id": "Eg1jKanfhiOb"
   },
   "outputs": [],
   "source": [
    "# Feature 13: Average Clicks per Day ( Represents the average number of clicks per day for the user.)\n",
    "\n",
    "average_clicks_per_day = total_clicks['total_clicks'] / days_active['days_active']\n",
    "average_clicks_per_day = pd.DataFrame({'user_id': total_clicks['user_id'], 'average_clicks_per_day': average_clicks_per_day})"
   ]
  },
  {
   "cell_type": "code",
   "execution_count": null,
   "metadata": {
    "id": "2QFZ-kkbhiJN"
   },
   "outputs": [],
   "source": [
    "# Feature 14: Weekend Clicks Ratio (Represents the ratio of clicks that occurred on weekends for the user)\n",
    "\n",
    "df_filtered['is_weekend'] = df_filtered['day_of_week'].isin(['Saturday', 'Sunday'])\n",
    "weekend_clicks_ratio = df_filtered.groupby('user_id')['is_weekend'].mean().reset_index(name='weekend_clicks_ratio')\n"
   ]
  },
  {
   "cell_type": "code",
   "execution_count": null,
   "metadata": {
    "id": "w9qAos28hiHD"
   },
   "outputs": [],
   "source": [
    "# Feature 15: Evening Clicks Ratio (Represents the ratio of clicks that occurred in the evening for the user)\n",
    "\n",
    "df_filtered['is_evening'] = df_filtered['hour'].between(18, 23)\n",
    "evening_clicks_ratio = df_filtered.groupby('user_id')['is_evening'].mean().reset_index(name='evening_clicks_ratio')\n"
   ]
  },
  {
   "cell_type": "code",
   "execution_count": null,
   "metadata": {
    "id": "gZllJtS0hiEt"
   },
   "outputs": [],
   "source": [
    "# Merge all additional features into a single DataFrame\n",
    "\n",
    "additional_features = pd.merge(total_clicks, distinct_genres_count, on='user_id')\n",
    "additional_features = pd.merge(additional_features, longest_session_duration, on='user_id')\n",
    "additional_features = pd.merge(additional_features, shortest_session_duration, on='user_id')\n",
    "additional_features = pd.merge(additional_features, weekday_activity_ratio, on='user_id')\n",
    "additional_features = pd.merge(additional_features, days_active, on='user_id')\n",
    "additional_features = pd.merge(additional_features, most_active_day, on='user_id')\n",
    "additional_features = pd.merge(additional_features, average_clicks_per_day, on='user_id')\n",
    "additional_features = pd.merge(additional_features, weekend_clicks_ratio, on='user_id')\n",
    "additional_features = pd.merge(additional_features, evening_clicks_ratio, on='user_id')\n"
   ]
  },
  {
   "cell_type": "code",
   "execution_count": null,
   "metadata": {
    "colab": {
     "base_uri": "https://localhost:8080/",
     "height": 129
    },
    "id": "VuJUEcVchh_x",
    "outputId": "0a3c6385-46b7-49fc-a6c8-1edc9ea49cdd"
   },
   "outputs": [
    {
     "data": {
      "text/html": [
       "\n",
       "  <div id=\"df-b493edbe-6628-4108-8981-c72cae24e01f\" class=\"colab-df-container\">\n",
       "    <div>\n",
       "<style scoped>\n",
       "    .dataframe tbody tr th:only-of-type {\n",
       "        vertical-align: middle;\n",
       "    }\n",
       "\n",
       "    .dataframe tbody tr th {\n",
       "        vertical-align: top;\n",
       "    }\n",
       "\n",
       "    .dataframe thead th {\n",
       "        text-align: right;\n",
       "    }\n",
       "</style>\n",
       "<table border=\"1\" class=\"dataframe\">\n",
       "  <thead>\n",
       "    <tr style=\"text-align: right;\">\n",
       "      <th></th>\n",
       "      <th>user_id</th>\n",
       "      <th>total_clicks</th>\n",
       "      <th>distinct_genres_count</th>\n",
       "      <th>longest_session_duration</th>\n",
       "      <th>shortest_session_duration</th>\n",
       "      <th>weekday_activity_ratio</th>\n",
       "      <th>days_active</th>\n",
       "      <th>day_of_week</th>\n",
       "      <th>average_clicks_per_day</th>\n",
       "      <th>weekend_clicks_ratio</th>\n",
       "      <th>evening_clicks_ratio</th>\n",
       "    </tr>\n",
       "  </thead>\n",
       "  <tbody>\n",
       "    <tr>\n",
       "      <th>0</th>\n",
       "      <td>000052a0a0</td>\n",
       "      <td>14</td>\n",
       "      <td>9</td>\n",
       "      <td>7857.0</td>\n",
       "      <td>600.0</td>\n",
       "      <td>0.714286</td>\n",
       "      <td>8</td>\n",
       "      <td>Friday</td>\n",
       "      <td>1.75</td>\n",
       "      <td>0.285714</td>\n",
       "      <td>0.714286</td>\n",
       "    </tr>\n",
       "    <tr>\n",
       "      <th>1</th>\n",
       "      <td>000296842d</td>\n",
       "      <td>4</td>\n",
       "      <td>1</td>\n",
       "      <td>62860.0</td>\n",
       "      <td>600.0</td>\n",
       "      <td>0.750000</td>\n",
       "      <td>2</td>\n",
       "      <td>Monday</td>\n",
       "      <td>2.00</td>\n",
       "      <td>0.250000</td>\n",
       "      <td>0.500000</td>\n",
       "    </tr>\n",
       "  </tbody>\n",
       "</table>\n",
       "</div>\n",
       "    <div class=\"colab-df-buttons\">\n",
       "\n",
       "  <div class=\"colab-df-container\">\n",
       "    <button class=\"colab-df-convert\" onclick=\"convertToInteractive('df-b493edbe-6628-4108-8981-c72cae24e01f')\"\n",
       "            title=\"Convert this dataframe to an interactive table.\"\n",
       "            style=\"display:none;\">\n",
       "\n",
       "  <svg xmlns=\"http://www.w3.org/2000/svg\" height=\"24px\" viewBox=\"0 -960 960 960\">\n",
       "    <path d=\"M120-120v-720h720v720H120Zm60-500h600v-160H180v160Zm220 220h160v-160H400v160Zm0 220h160v-160H400v160ZM180-400h160v-160H180v160Zm440 0h160v-160H620v160ZM180-180h160v-160H180v160Zm440 0h160v-160H620v160Z\"/>\n",
       "  </svg>\n",
       "    </button>\n",
       "\n",
       "  <style>\n",
       "    .colab-df-container {\n",
       "      display:flex;\n",
       "      gap: 12px;\n",
       "    }\n",
       "\n",
       "    .colab-df-convert {\n",
       "      background-color: #E8F0FE;\n",
       "      border: none;\n",
       "      border-radius: 50%;\n",
       "      cursor: pointer;\n",
       "      display: none;\n",
       "      fill: #1967D2;\n",
       "      height: 32px;\n",
       "      padding: 0 0 0 0;\n",
       "      width: 32px;\n",
       "    }\n",
       "\n",
       "    .colab-df-convert:hover {\n",
       "      background-color: #E2EBFA;\n",
       "      box-shadow: 0px 1px 2px rgba(60, 64, 67, 0.3), 0px 1px 3px 1px rgba(60, 64, 67, 0.15);\n",
       "      fill: #174EA6;\n",
       "    }\n",
       "\n",
       "    .colab-df-buttons div {\n",
       "      margin-bottom: 4px;\n",
       "    }\n",
       "\n",
       "    [theme=dark] .colab-df-convert {\n",
       "      background-color: #3B4455;\n",
       "      fill: #D2E3FC;\n",
       "    }\n",
       "\n",
       "    [theme=dark] .colab-df-convert:hover {\n",
       "      background-color: #434B5C;\n",
       "      box-shadow: 0px 1px 3px 1px rgba(0, 0, 0, 0.15);\n",
       "      filter: drop-shadow(0px 1px 2px rgba(0, 0, 0, 0.3));\n",
       "      fill: #FFFFFF;\n",
       "    }\n",
       "  </style>\n",
       "\n",
       "    <script>\n",
       "      const buttonEl =\n",
       "        document.querySelector('#df-b493edbe-6628-4108-8981-c72cae24e01f button.colab-df-convert');\n",
       "      buttonEl.style.display =\n",
       "        google.colab.kernel.accessAllowed ? 'block' : 'none';\n",
       "\n",
       "      async function convertToInteractive(key) {\n",
       "        const element = document.querySelector('#df-b493edbe-6628-4108-8981-c72cae24e01f');\n",
       "        const dataTable =\n",
       "          await google.colab.kernel.invokeFunction('convertToInteractive',\n",
       "                                                    [key], {});\n",
       "        if (!dataTable) return;\n",
       "\n",
       "        const docLinkHtml = 'Like what you see? Visit the ' +\n",
       "          '<a target=\"_blank\" href=https://colab.research.google.com/notebooks/data_table.ipynb>data table notebook</a>'\n",
       "          + ' to learn more about interactive tables.';\n",
       "        element.innerHTML = '';\n",
       "        dataTable['output_type'] = 'display_data';\n",
       "        await google.colab.output.renderOutput(dataTable, element);\n",
       "        const docLink = document.createElement('div');\n",
       "        docLink.innerHTML = docLinkHtml;\n",
       "        element.appendChild(docLink);\n",
       "      }\n",
       "    </script>\n",
       "  </div>\n",
       "\n",
       "\n",
       "<div id=\"df-bb2b4af9-83a8-4bec-8201-8b80ce013442\">\n",
       "  <button class=\"colab-df-quickchart\" onclick=\"quickchart('df-bb2b4af9-83a8-4bec-8201-8b80ce013442')\"\n",
       "            title=\"Suggest charts\"\n",
       "            style=\"display:none;\">\n",
       "\n",
       "<svg xmlns=\"http://www.w3.org/2000/svg\" height=\"24px\"viewBox=\"0 0 24 24\"\n",
       "     width=\"24px\">\n",
       "    <g>\n",
       "        <path d=\"M19 3H5c-1.1 0-2 .9-2 2v14c0 1.1.9 2 2 2h14c1.1 0 2-.9 2-2V5c0-1.1-.9-2-2-2zM9 17H7v-7h2v7zm4 0h-2V7h2v10zm4 0h-2v-4h2v4z\"/>\n",
       "    </g>\n",
       "</svg>\n",
       "  </button>\n",
       "\n",
       "<style>\n",
       "  .colab-df-quickchart {\n",
       "      --bg-color: #E8F0FE;\n",
       "      --fill-color: #1967D2;\n",
       "      --hover-bg-color: #E2EBFA;\n",
       "      --hover-fill-color: #174EA6;\n",
       "      --disabled-fill-color: #AAA;\n",
       "      --disabled-bg-color: #DDD;\n",
       "  }\n",
       "\n",
       "  [theme=dark] .colab-df-quickchart {\n",
       "      --bg-color: #3B4455;\n",
       "      --fill-color: #D2E3FC;\n",
       "      --hover-bg-color: #434B5C;\n",
       "      --hover-fill-color: #FFFFFF;\n",
       "      --disabled-bg-color: #3B4455;\n",
       "      --disabled-fill-color: #666;\n",
       "  }\n",
       "\n",
       "  .colab-df-quickchart {\n",
       "    background-color: var(--bg-color);\n",
       "    border: none;\n",
       "    border-radius: 50%;\n",
       "    cursor: pointer;\n",
       "    display: none;\n",
       "    fill: var(--fill-color);\n",
       "    height: 32px;\n",
       "    padding: 0;\n",
       "    width: 32px;\n",
       "  }\n",
       "\n",
       "  .colab-df-quickchart:hover {\n",
       "    background-color: var(--hover-bg-color);\n",
       "    box-shadow: 0 1px 2px rgba(60, 64, 67, 0.3), 0 1px 3px 1px rgba(60, 64, 67, 0.15);\n",
       "    fill: var(--button-hover-fill-color);\n",
       "  }\n",
       "\n",
       "  .colab-df-quickchart-complete:disabled,\n",
       "  .colab-df-quickchart-complete:disabled:hover {\n",
       "    background-color: var(--disabled-bg-color);\n",
       "    fill: var(--disabled-fill-color);\n",
       "    box-shadow: none;\n",
       "  }\n",
       "\n",
       "  .colab-df-spinner {\n",
       "    border: 2px solid var(--fill-color);\n",
       "    border-color: transparent;\n",
       "    border-bottom-color: var(--fill-color);\n",
       "    animation:\n",
       "      spin 1s steps(1) infinite;\n",
       "  }\n",
       "\n",
       "  @keyframes spin {\n",
       "    0% {\n",
       "      border-color: transparent;\n",
       "      border-bottom-color: var(--fill-color);\n",
       "      border-left-color: var(--fill-color);\n",
       "    }\n",
       "    20% {\n",
       "      border-color: transparent;\n",
       "      border-left-color: var(--fill-color);\n",
       "      border-top-color: var(--fill-color);\n",
       "    }\n",
       "    30% {\n",
       "      border-color: transparent;\n",
       "      border-left-color: var(--fill-color);\n",
       "      border-top-color: var(--fill-color);\n",
       "      border-right-color: var(--fill-color);\n",
       "    }\n",
       "    40% {\n",
       "      border-color: transparent;\n",
       "      border-right-color: var(--fill-color);\n",
       "      border-top-color: var(--fill-color);\n",
       "    }\n",
       "    60% {\n",
       "      border-color: transparent;\n",
       "      border-right-color: var(--fill-color);\n",
       "    }\n",
       "    80% {\n",
       "      border-color: transparent;\n",
       "      border-right-color: var(--fill-color);\n",
       "      border-bottom-color: var(--fill-color);\n",
       "    }\n",
       "    90% {\n",
       "      border-color: transparent;\n",
       "      border-bottom-color: var(--fill-color);\n",
       "    }\n",
       "  }\n",
       "</style>\n",
       "\n",
       "  <script>\n",
       "    async function quickchart(key) {\n",
       "      const quickchartButtonEl =\n",
       "        document.querySelector('#' + key + ' button');\n",
       "      quickchartButtonEl.disabled = true;  // To prevent multiple clicks.\n",
       "      quickchartButtonEl.classList.add('colab-df-spinner');\n",
       "      try {\n",
       "        const charts = await google.colab.kernel.invokeFunction(\n",
       "            'suggestCharts', [key], {});\n",
       "      } catch (error) {\n",
       "        console.error('Error during call to suggestCharts:', error);\n",
       "      }\n",
       "      quickchartButtonEl.classList.remove('colab-df-spinner');\n",
       "      quickchartButtonEl.classList.add('colab-df-quickchart-complete');\n",
       "    }\n",
       "    (() => {\n",
       "      let quickchartButtonEl =\n",
       "        document.querySelector('#df-bb2b4af9-83a8-4bec-8201-8b80ce013442 button');\n",
       "      quickchartButtonEl.style.display =\n",
       "        google.colab.kernel.accessAllowed ? 'block' : 'none';\n",
       "    })();\n",
       "  </script>\n",
       "</div>\n",
       "    </div>\n",
       "  </div>\n"
      ],
      "text/plain": [
       "      user_id  total_clicks  distinct_genres_count  longest_session_duration  \\\n",
       "0  000052a0a0            14                      9                    7857.0   \n",
       "1  000296842d             4                      1                   62860.0   \n",
       "\n",
       "   shortest_session_duration  weekday_activity_ratio  days_active day_of_week  \\\n",
       "0                      600.0                0.714286            8      Friday   \n",
       "1                      600.0                0.750000            2      Monday   \n",
       "\n",
       "   average_clicks_per_day  weekend_clicks_ratio  evening_clicks_ratio  \n",
       "0                    1.75              0.285714              0.714286  \n",
       "1                    2.00              0.250000              0.500000  "
      ]
     },
     "execution_count": 33,
     "metadata": {},
     "output_type": "execute_result"
    }
   ],
   "source": [
    "additional_features.head(2)"
   ]
  },
  {
   "cell_type": "code",
   "execution_count": null,
   "metadata": {
    "id": "QZPkUzLDhh6D"
   },
   "outputs": [],
   "source": [
    "# merging the previous 5 features along with this 10 features to get the 15 features for each userID in total\n",
    "\n",
    "New_features = pd.merge(features,additional_features, on='user_id')"
   ]
  },
  {
   "cell_type": "code",
   "execution_count": null,
   "metadata": {
    "colab": {
     "base_uri": "https://localhost:8080/"
    },
    "id": "mbRdzM0yhh00",
    "outputId": "c34d0865-b9ed-44d9-fb19-d50386d64614"
   },
   "outputs": [
    {
     "name": "stdout",
     "output_type": "stream",
     "text": [
      "<class 'pandas.core.frame.DataFrame'>\n",
      "Int64Index: 106591 entries, 0 to 106590\n",
      "Data columns (total 16 columns):\n",
      " #   Column                      Non-Null Count   Dtype  \n",
      "---  ------                      --------------   -----  \n",
      " 0   user_id                     106591 non-null  object \n",
      " 1   favorite_genre              106591 non-null  object \n",
      " 2   average_click_duration      106591 non-null  float64\n",
      " 3   time_of_day                 106591 non-null  object \n",
      " 4   preference                  106591 non-null  object \n",
      " 5   average_time_spent_per_day  106591 non-null  float64\n",
      " 6   total_clicks                106591 non-null  int64  \n",
      " 7   distinct_genres_count       106591 non-null  int64  \n",
      " 8   longest_session_duration    106591 non-null  float64\n",
      " 9   shortest_session_duration   106591 non-null  float64\n",
      " 10  weekday_activity_ratio      106591 non-null  float64\n",
      " 11  days_active                 106591 non-null  int64  \n",
      " 12  day_of_week                 106591 non-null  object \n",
      " 13  average_clicks_per_day      106591 non-null  float64\n",
      " 14  weekend_clicks_ratio        106591 non-null  float64\n",
      " 15  evening_clicks_ratio        106591 non-null  float64\n",
      "dtypes: float64(8), int64(3), object(5)\n",
      "memory usage: 13.8+ MB\n"
     ]
    }
   ],
   "source": [
    "New_features.info()"
   ]
  },
  {
   "cell_type": "code",
   "execution_count": null,
   "metadata": {
    "colab": {
     "base_uri": "https://localhost:8080/"
    },
    "id": "1WP3PICHhhyd",
    "outputId": "bccbd4df-896e-44a8-acdd-b0b8a5f75160"
   },
   "outputs": [
    {
     "name": "stdout",
     "output_type": "stream",
     "text": [
      "user_id                       0\n",
      "favorite_genre                0\n",
      "average_click_duration        0\n",
      "time_of_day                   0\n",
      "preference                    0\n",
      "average_time_spent_per_day    0\n",
      "total_clicks                  0\n",
      "distinct_genres_count         0\n",
      "longest_session_duration      0\n",
      "shortest_session_duration     0\n",
      "weekday_activity_ratio        0\n",
      "days_active                   0\n",
      "day_of_week                   0\n",
      "average_clicks_per_day        0\n",
      "weekend_clicks_ratio          0\n",
      "evening_clicks_ratio          0\n",
      "dtype: int64\n"
     ]
    }
   ],
   "source": [
    "missing_values =  New_features.isnull().sum()\n",
    "print(missing_values)\n"
   ]
  },
  {
   "cell_type": "code",
   "execution_count": null,
   "metadata": {
    "colab": {
     "base_uri": "https://localhost:8080/",
     "height": 115
    },
    "id": "CUmUrhP6hhv5",
    "outputId": "fc5f1082-9796-4c4c-f11c-eaf81fdf8790"
   },
   "outputs": [
    {
     "data": {
      "text/html": [
       "\n",
       "  <div id=\"df-85ad0788-5c9e-4d22-8f1f-80d854c30663\" class=\"colab-df-container\">\n",
       "    <div>\n",
       "<style scoped>\n",
       "    .dataframe tbody tr th:only-of-type {\n",
       "        vertical-align: middle;\n",
       "    }\n",
       "\n",
       "    .dataframe tbody tr th {\n",
       "        vertical-align: top;\n",
       "    }\n",
       "\n",
       "    .dataframe thead th {\n",
       "        text-align: right;\n",
       "    }\n",
       "</style>\n",
       "<table border=\"1\" class=\"dataframe\">\n",
       "  <thead>\n",
       "    <tr style=\"text-align: right;\">\n",
       "      <th></th>\n",
       "      <th>user_id</th>\n",
       "      <th>favorite_genre</th>\n",
       "      <th>average_click_duration</th>\n",
       "      <th>time_of_day</th>\n",
       "      <th>preference</th>\n",
       "      <th>average_time_spent_per_day</th>\n",
       "      <th>total_clicks</th>\n",
       "      <th>distinct_genres_count</th>\n",
       "      <th>longest_session_duration</th>\n",
       "      <th>shortest_session_duration</th>\n",
       "      <th>weekday_activity_ratio</th>\n",
       "      <th>days_active</th>\n",
       "      <th>day_of_week</th>\n",
       "      <th>average_clicks_per_day</th>\n",
       "      <th>weekend_clicks_ratio</th>\n",
       "      <th>evening_clicks_ratio</th>\n",
       "    </tr>\n",
       "  </thead>\n",
       "  <tbody>\n",
       "    <tr>\n",
       "      <th>0</th>\n",
       "      <td>322abe045c</td>\n",
       "      <td>Action, Biography, Crime, Drama</td>\n",
       "      <td>2.354187e+06</td>\n",
       "      <td>Morning</td>\n",
       "      <td>Into Recent Stuff</td>\n",
       "      <td>2648460.625</td>\n",
       "      <td>9</td>\n",
       "      <td>4</td>\n",
       "      <td>18237253.0</td>\n",
       "      <td>2.0</td>\n",
       "      <td>1.0</td>\n",
       "      <td>8</td>\n",
       "      <td>Thursday</td>\n",
       "      <td>1.125</td>\n",
       "      <td>0.0</td>\n",
       "      <td>0.0</td>\n",
       "    </tr>\n",
       "  </tbody>\n",
       "</table>\n",
       "</div>\n",
       "    <div class=\"colab-df-buttons\">\n",
       "\n",
       "  <div class=\"colab-df-container\">\n",
       "    <button class=\"colab-df-convert\" onclick=\"convertToInteractive('df-85ad0788-5c9e-4d22-8f1f-80d854c30663')\"\n",
       "            title=\"Convert this dataframe to an interactive table.\"\n",
       "            style=\"display:none;\">\n",
       "\n",
       "  <svg xmlns=\"http://www.w3.org/2000/svg\" height=\"24px\" viewBox=\"0 -960 960 960\">\n",
       "    <path d=\"M120-120v-720h720v720H120Zm60-500h600v-160H180v160Zm220 220h160v-160H400v160Zm0 220h160v-160H400v160ZM180-400h160v-160H180v160Zm440 0h160v-160H620v160ZM180-180h160v-160H180v160Zm440 0h160v-160H620v160Z\"/>\n",
       "  </svg>\n",
       "    </button>\n",
       "\n",
       "  <style>\n",
       "    .colab-df-container {\n",
       "      display:flex;\n",
       "      gap: 12px;\n",
       "    }\n",
       "\n",
       "    .colab-df-convert {\n",
       "      background-color: #E8F0FE;\n",
       "      border: none;\n",
       "      border-radius: 50%;\n",
       "      cursor: pointer;\n",
       "      display: none;\n",
       "      fill: #1967D2;\n",
       "      height: 32px;\n",
       "      padding: 0 0 0 0;\n",
       "      width: 32px;\n",
       "    }\n",
       "\n",
       "    .colab-df-convert:hover {\n",
       "      background-color: #E2EBFA;\n",
       "      box-shadow: 0px 1px 2px rgba(60, 64, 67, 0.3), 0px 1px 3px 1px rgba(60, 64, 67, 0.15);\n",
       "      fill: #174EA6;\n",
       "    }\n",
       "\n",
       "    .colab-df-buttons div {\n",
       "      margin-bottom: 4px;\n",
       "    }\n",
       "\n",
       "    [theme=dark] .colab-df-convert {\n",
       "      background-color: #3B4455;\n",
       "      fill: #D2E3FC;\n",
       "    }\n",
       "\n",
       "    [theme=dark] .colab-df-convert:hover {\n",
       "      background-color: #434B5C;\n",
       "      box-shadow: 0px 1px 3px 1px rgba(0, 0, 0, 0.15);\n",
       "      filter: drop-shadow(0px 1px 2px rgba(0, 0, 0, 0.3));\n",
       "      fill: #FFFFFF;\n",
       "    }\n",
       "  </style>\n",
       "\n",
       "    <script>\n",
       "      const buttonEl =\n",
       "        document.querySelector('#df-85ad0788-5c9e-4d22-8f1f-80d854c30663 button.colab-df-convert');\n",
       "      buttonEl.style.display =\n",
       "        google.colab.kernel.accessAllowed ? 'block' : 'none';\n",
       "\n",
       "      async function convertToInteractive(key) {\n",
       "        const element = document.querySelector('#df-85ad0788-5c9e-4d22-8f1f-80d854c30663');\n",
       "        const dataTable =\n",
       "          await google.colab.kernel.invokeFunction('convertToInteractive',\n",
       "                                                    [key], {});\n",
       "        if (!dataTable) return;\n",
       "\n",
       "        const docLinkHtml = 'Like what you see? Visit the ' +\n",
       "          '<a target=\"_blank\" href=https://colab.research.google.com/notebooks/data_table.ipynb>data table notebook</a>'\n",
       "          + ' to learn more about interactive tables.';\n",
       "        element.innerHTML = '';\n",
       "        dataTable['output_type'] = 'display_data';\n",
       "        await google.colab.output.renderOutput(dataTable, element);\n",
       "        const docLink = document.createElement('div');\n",
       "        docLink.innerHTML = docLinkHtml;\n",
       "        element.appendChild(docLink);\n",
       "      }\n",
       "    </script>\n",
       "  </div>\n",
       "\n",
       "    </div>\n",
       "  </div>\n"
      ],
      "text/plain": [
       "      user_id                   favorite_genre  average_click_duration  \\\n",
       "0  322abe045c  Action, Biography, Crime, Drama            2.354187e+06   \n",
       "\n",
       "  time_of_day         preference  average_time_spent_per_day  total_clicks  \\\n",
       "0     Morning  Into Recent Stuff                 2648460.625             9   \n",
       "\n",
       "   distinct_genres_count  longest_session_duration  shortest_session_duration  \\\n",
       "0                      4                18237253.0                        2.0   \n",
       "\n",
       "   weekday_activity_ratio  days_active day_of_week  average_clicks_per_day  \\\n",
       "0                     1.0            8    Thursday                   1.125   \n",
       "\n",
       "   weekend_clicks_ratio  evening_clicks_ratio  \n",
       "0                   0.0                   0.0  "
      ]
     },
     "execution_count": 37,
     "metadata": {},
     "output_type": "execute_result"
    }
   ],
   "source": [
    "New_features.head(1)"
   ]
  },
  {
   "cell_type": "code",
   "execution_count": null,
   "metadata": {
    "colab": {
     "base_uri": "https://localhost:8080/",
     "height": 1000
    },
    "id": "TPYn_yi5ldlD",
    "outputId": "db965143-863c-4a2b-b30d-4941ea6a243e"
   },
   "outputs": [
    {
     "data": {
      "image/png": "[encoded data removed]",
      "text/plain": [
       "<Figure size 1500x1000 with 11 Axes>"
      ]
     },
     "metadata": {},
     "output_type": "display_data"
    }
   ],
   "source": [
    "# Visulaizing the Numerical features to see the distributions\n",
    "\n",
    "import matplotlib.pyplot as plt\n",
    "import seaborn as sns\n",
    "\n",
    "numerical_features = New_features.select_dtypes(include=['float64', 'int64']).columns\n",
    "\n",
    "\n",
    "fig, axes = plt.subplots(nrows=3, ncols=4, figsize=(15, 10))\n",
    "fig.subplots_adjust(hspace=0.5)\n",
    "\n",
    "\n",
    "for i, feature in enumerate(numerical_features):\n",
    "    row, col = divmod(i, 4)\n",
    "    sns.histplot(New_features[feature], bins=20, kde=True, ax=axes[row, col])\n",
    "    axes[row, col].set_title(feature)\n",
    "\n",
    "\n",
    "for i in range(len(numerical_features), 12):\n",
    "    fig.delaxes(axes.flatten()[i])\n",
    "\n",
    "plt.tight_layout()\n",
    "plt.show()\n"
   ]
  },
  {
   "cell_type": "markdown",
   "metadata": {
    "id": "X4FOfLfrl2QK"
   },
   "source": [
    "From the above plots , it can be seen that the skewedness are there for majority of the features in our dataframe , so before proceeding with the further analysis normalization is needed for the features. The next section is all about the normalization and Dimensionality reduction."
   ]
  },
  {
   "cell_type": "markdown",
   "metadata": {
    "id": "ZY3nDMhsQA9p"
   },
   "source": [
    "## **2.2 Choose your features (variables)!**"
   ]
  },
  {
   "cell_type": "markdown",
   "metadata": {
    "id": "ov565d3Ko-73"
   },
   "source": [
    "Normalization, or scaling, is a critical data preprocessing technique that transforms features to a common scale to prevent larger magnitudes from overshadowing others during analysis. The decision to normalize depends on the algorithms used and data characteristics. It is beneficial for scale-sensitive algorithms like k-Nearest Neighbors and gradient descent-based methods, aiding in faster convergence and improved model performance. However, normalization may be unnecessary or even detrimental for tree-based algorithms like Decision Trees and Random Forests, which are generally insensitive to feature scale. If interpretability is a priority and the scale has meaningful units, avoiding normalization helps retain the original scale of features. The approach involves assessing the impact of scale on algorithm performance and applying normalization techniques like Min-Max Scaling, Standard Scaling, or Robust Scaling if needed, while preserving data integrity. In conclusion, normalization is valuable for aligning feature scales, but its application depends on the chosen algorithms and data characteristics."
   ]
  },
  {
   "cell_type": "code",
   "execution_count": null,
   "metadata": {
    "colab": {
     "base_uri": "https://localhost:8080/"
    },
    "id": "YS3fkYefQHwA",
    "outputId": "b9a2ea67-9ccc-4a08-a5e9-ee88e775f888"
   },
   "outputs": [
    {
     "name": "stdout",
     "output_type": "stream",
     "text": [
      "   average_click_duration  average_time_spent_per_day  total_clicks  \\\n",
      "0                  9.1734                    9.623559      1.055731   \n",
      "\n",
      "   distinct_genres_count  longest_session_duration  shortest_session_duration  \\\n",
      "0               0.587746                  51.55349                  -0.255914   \n",
      "\n",
      "   weekday_activity_ratio  days_active  average_clicks_per_day  \\\n",
      "0                0.873653     2.406489               -0.274736   \n",
      "\n",
      "   weekend_clicks_ratio  evening_clicks_ratio  \n",
      "0             -0.873653             -1.222086  \n"
     ]
    }
   ],
   "source": [
    "from sklearn.preprocessing import StandardScaler\n",
    "\n",
    "dfn = New_features.copy()\n",
    "\n",
    "numerical_features = ['average_click_duration', 'average_time_spent_per_day', 'total_clicks',\n",
    "                      'distinct_genres_count', 'longest_session_duration', 'shortest_session_duration',\n",
    "                      'weekday_activity_ratio', 'days_active', 'average_clicks_per_day',\n",
    "                      'weekend_clicks_ratio', 'evening_clicks_ratio']\n",
    "\n",
    "\n",
    "scaler = StandardScaler()\n",
    "\n",
    "# Normalize numerical features\n",
    "dfn[numerical_features] = scaler.fit_transform(dfn[numerical_features])\n",
    "\n",
    "\n",
    "print(dfn[numerical_features].head(1))\n"
   ]
  },
  {
   "cell_type": "code",
   "execution_count": null,
   "metadata": {
    "colab": {
     "base_uri": "https://localhost:8080/"
    },
    "id": "LnKTNPGnrY1X",
    "outputId": "da2f6ddf-a1da-4b4a-a794-5bc5eb602389"
   },
   "outputs": [
    {
     "name": "stdout",
     "output_type": "stream",
     "text": [
      "      user_id  average_click_duration  average_time_spent_per_day  \\\n",
      "0  322abe045c                  9.1734                    9.623559   \n",
      "\n",
      "   total_clicks  distinct_genres_count  longest_session_duration  \\\n",
      "0      1.055731               0.587746                  51.55349   \n",
      "\n",
      "   shortest_session_duration  weekday_activity_ratio  days_active  \\\n",
      "0                  -0.255914                0.873653     2.406489   \n",
      "\n",
      "   average_clicks_per_day  ...  time_of_day_Night  \\\n",
      "0               -0.274736  ...                0.0   \n",
      "\n",
      "   preference_Into Recent Stuff  preference_Old Movie Lover  \\\n",
      "0                           1.0                         0.0   \n",
      "\n",
      "   day_of_week_Friday  day_of_week_Monday  day_of_week_Saturday  \\\n",
      "0                 0.0                 0.0                   0.0   \n",
      "\n",
      "   day_of_week_Sunday  day_of_week_Thursday  day_of_week_Tuesday  \\\n",
      "0                 0.0                   1.0                  0.0   \n",
      "\n",
      "   day_of_week_Wednesday  \n",
      "0                    0.0  \n",
      "\n",
      "[1 rows x 50 columns]\n"
     ]
    }
   ],
   "source": [
    "from sklearn.preprocessing import OneHotEncoder, MultiLabelBinarizer\n",
    "\n",
    "\n",
    "categorical_features = ['time_of_day', 'preference', 'day_of_week', 'favorite_genre']\n",
    "\n",
    "\n",
    "mlb = MultiLabelBinarizer()\n",
    "\n",
    "# Apply MultiLabelBinarizer to 'favorite_genre'\n",
    "df_genre_encoded = pd.DataFrame(mlb.fit_transform(dfn['favorite_genre'].str.split(', ')),\n",
    "                                columns=mlb.classes_, index=dfn.index)\n",
    "\n",
    "dfn = pd.concat([dfn, df_genre_encoded], axis=1)\n",
    "dfn = dfn.drop('favorite_genre', axis=1)\n",
    "\n",
    "encoder = OneHotEncoder()\n",
    "\n",
    "\n",
    "df_encoded = pd.DataFrame(encoder.fit_transform(dfn[categorical_features[:-1]]).toarray(),\n",
    "                          columns=encoder.get_feature_names_out(categorical_features[:-1]))\n",
    "\n",
    "dfn = pd.concat([dfn, df_encoded], axis=1)\n",
    "dfn = dfn.drop(categorical_features[:-1], axis=1)\n",
    "\n",
    "print(dfn.head(1))\n"
   ]
  },
  {
   "cell_type": "code",
   "execution_count": null,
   "metadata": {
    "colab": {
     "base_uri": "https://localhost:8080/"
    },
    "id": "zQcYA4-ErYzH",
    "outputId": "9074f095-87b4-47fe-822a-58a64303f6a2"
   },
   "outputs": [
    {
     "data": {
      "text/plain": [
       "Index(['user_id', 'average_click_duration', 'average_time_spent_per_day',\n",
       "       'total_clicks', 'distinct_genres_count', 'longest_session_duration',\n",
       "       'shortest_session_duration', 'weekday_activity_ratio', 'days_active',\n",
       "       'average_clicks_per_day', 'weekend_clicks_ratio',\n",
       "       'evening_clicks_ratio', 'Action', 'Adventure', 'Animation', 'Biography',\n",
       "       'Comedy', 'Crime', 'Documentary', 'Drama', 'Family', 'Fantasy',\n",
       "       'Film-Noir', 'History', 'Horror', 'Music', 'Musical', 'Mystery', 'News',\n",
       "       'Reality-TV', 'Romance', 'Sci-Fi', 'Short', 'Sport', 'Talk-Show',\n",
       "       'Thriller', 'War', 'Western', 'time_of_day_Afternoon',\n",
       "       'time_of_day_Morning', 'time_of_day_Night',\n",
       "       'preference_Into Recent Stuff', 'preference_Old Movie Lover',\n",
       "       'day_of_week_Friday', 'day_of_week_Monday', 'day_of_week_Saturday',\n",
       "       'day_of_week_Sunday', 'day_of_week_Thursday', 'day_of_week_Tuesday',\n",
       "       'day_of_week_Wednesday'],\n",
       "      dtype='object')"
      ]
     },
     "execution_count": 79,
     "metadata": {},
     "output_type": "execute_result"
    }
   ],
   "source": [
    "dfn.columns"
   ]
  },
  {
   "cell_type": "code",
   "execution_count": null,
   "metadata": {
    "id": "76G4uM0crYxH"
   },
   "outputs": [],
   "source": [
    "from sklearn.decomposition import PCA\n",
    "\n",
    "numerical_features_for_pca = ['average_click_duration', 'average_time_spent_per_day', 'total_clicks',\n",
    "                               'distinct_genres_count', 'longest_session_duration', 'shortest_session_duration',\n",
    "                               'weekday_activity_ratio', 'days_active', 'average_clicks_per_day',\n",
    "                               'weekend_clicks_ratio', 'evening_clicks_ratio']\n",
    "\n",
    "# Creating a DataFrame with only numerical features\n",
    "df_numerical = dfn[numerical_features_for_pca]\n",
    "\n",
    "pca = PCA(random_state=42)\n",
    "pca.fit(df_numerical)  # X is your data\n",
    "explained_variance_ratio = pca.explained_variance_ratio_\n",
    "cumulative_variance_ratio = explained_variance_ratio.cumsum()\n"
   ]
  },
  {
   "cell_type": "code",
   "execution_count": null,
   "metadata": {
    "colab": {
     "base_uri": "https://localhost:8080/",
     "height": 448
    },
    "id": "dgAwpz91rYtq",
    "outputId": "e114ac33-3d9b-4362-af5a-350c1b11e5b6"
   },
   "outputs": [
    {
     "data": {
      "image/png": "[encoded data removed]",
      "text/plain": [
       "<Figure size 640x480 with 1 Axes>"
      ]
     },
     "metadata": {},
     "output_type": "display_data"
    }
   ],
   "source": [
    "# Plotting  cumulative explained variance with a marker for the chosen number of components\n",
    "plt.plot(range(1, len(cumulative_variance_ratio) + 1), cumulative_variance_ratio, marker='o')\n",
    "plt.xlabel('Number of Components')\n",
    "plt.ylabel('Cumulative Explained Variance')\n",
    "plt.show()"
   ]
  },
  {
   "cell_type": "code",
   "execution_count": null,
   "metadata": {
    "colab": {
     "base_uri": "https://localhost:8080/"
    },
    "id": "mfb0AUv7rYoC",
    "outputId": "00ccf034-db78-4720-b322-2a3b0ff4c690"
   },
   "outputs": [
    {
     "name": "stdout",
     "output_type": "stream",
     "text": [
      "Explained Variance Ratios: [3.24664089e-01 2.59461964e-01 1.81950067e-01 9.18870640e-02\n",
      " 8.10169748e-02 3.39755816e-02 1.37818918e-02 8.36665385e-03\n",
      " 3.84605439e-03 1.04966019e-03 7.25989230e-34]\n"
     ]
    }
   ],
   "source": [
    "print(\"Explained Variance Ratios:\", explained_variance_ratio)\n"
   ]
  },
  {
   "cell_type": "markdown",
   "metadata": {
    "id": "pIx9Ryc9vM9k"
   },
   "source": [
    "- Upon visually inspecting the plot and noticeing that the explained variance starts to level off or reaches a plateau after 6 components), it suggests that these components capture the majority of the variance. Based on our observation, we choose n_components = 6 for our PCA analysis. This means that we will retain three principal components, which collectively explain a significant portion of the variance in our dataset."
   ]
  },
  {
   "cell_type": "code",
   "execution_count": null,
   "metadata": {
    "colab": {
     "base_uri": "https://localhost:8080/"
    },
    "id": "sXbyktNnrYlv",
    "outputId": "9030fa2a-25bd-4ab6-b7b5-1cb9cb3edad6"
   },
   "outputs": [
    {
     "name": "stdout",
     "output_type": "stream",
     "text": [
      "        PCA_1      PCA_2     PCA_3     PCA_4     PCA_5      PCA_6\n",
      "0   32.366794  12.778736 -0.490123  1.167793 -0.823221  35.826071\n",
      "1  103.127987  16.630449  0.352278  2.054051  2.416002 -14.308534\n",
      "2   84.366739  13.444773  0.046433  1.490906  2.011927 -11.731185\n",
      "3   28.487305   8.016400 -0.659837  1.575778 -0.142441  21.401240\n",
      "4   72.483476  11.473167 -0.032412  3.325830  0.933824 -10.080605\n"
     ]
    }
   ],
   "source": [
    "from sklearn.decomposition import PCA\n",
    "\n",
    "\n",
    "pca = PCA(n_components=6,random_state=42)  # Retain 95% of the variance and number of components is 6 for the analysis.\n",
    "\n",
    "df_pca_result = pd.DataFrame(pca.fit_transform(df_numerical), columns=[f'PCA_{i}' for i in range(1, pca.n_components_ + 1)])\n",
    "\n",
    "print(df_pca_result.head())\n"
   ]
  },
  {
   "cell_type": "code",
   "execution_count": null,
   "metadata": {
    "colab": {
     "base_uri": "https://localhost:8080/"
    },
    "id": "XFLL2eCGvdm5",
    "outputId": "eb7bc58d-a22d-44cd-98a0-a561dcc81489"
   },
   "outputs": [
    {
     "name": "stdout",
     "output_type": "stream",
     "text": [
      "Collecting prince\n",
      "  Downloading prince-0.13.0-py3-none-any.whl (415 kB)\n",
      "\u001b[2K     \u001b[90m━━━━━━━━━━━━━━━━━━━━━━━━━━━━━━━━━━━━━━━━\u001b[0m \u001b[32m415.6/415.6 kB\u001b[0m \u001b[31m4.4 MB/s\u001b[0m eta \u001b[36m0:00:00\u001b[0m\n",
      "\u001b[?25hRequirement already satisfied: altair<6.0.0,>=4.2.2 in /usr/local/lib/python3.10/dist-packages (from prince) (4.2.2)\n",
      "Requirement already satisfied: pandas<3.0.0,>=1.4.1 in /usr/local/lib/python3.10/dist-packages (from prince) (1.5.3)\n",
      "Requirement already satisfied: scikit-learn<2.0.0,>=1.0.2 in /usr/local/lib/python3.10/dist-packages (from prince) (1.2.2)\n",
      "Requirement already satisfied: entrypoints in /usr/local/lib/python3.10/dist-packages (from altair<6.0.0,>=4.2.2->prince) (0.4)\n",
      "Requirement already satisfied: jinja2 in /usr/local/lib/python3.10/dist-packages (from altair<6.0.0,>=4.2.2->prince) (3.1.2)\n",
      "Requirement already satisfied: jsonschema>=3.0 in /usr/local/lib/python3.10/dist-packages (from altair<6.0.0,>=4.2.2->prince) (4.19.2)\n",
      "Requirement already satisfied: numpy in /usr/local/lib/python3.10/dist-packages (from altair<6.0.0,>=4.2.2->prince) (1.23.5)\n",
      "Requirement already satisfied: toolz in /usr/local/lib/python3.10/dist-packages (from altair<6.0.0,>=4.2.2->prince) (0.12.0)\n",
      "Requirement already satisfied: python-dateutil>=2.8.1 in /usr/local/lib/python3.10/dist-packages (from pandas<3.0.0,>=1.4.1->prince) (2.8.2)\n",
      "Requirement already satisfied: pytz>=2020.1 in /usr/local/lib/python3.10/dist-packages (from pandas<3.0.0,>=1.4.1->prince) (2023.3.post1)\n",
      "Requirement already satisfied: scipy>=1.3.2 in /usr/local/lib/python3.10/dist-packages (from scikit-learn<2.0.0,>=1.0.2->prince) (1.11.4)\n",
      "Requirement already satisfied: joblib>=1.1.1 in /usr/local/lib/python3.10/dist-packages (from scikit-learn<2.0.0,>=1.0.2->prince) (1.3.2)\n",
      "Requirement already satisfied: threadpoolctl>=2.0.0 in /usr/local/lib/python3.10/dist-packages (from scikit-learn<2.0.0,>=1.0.2->prince) (3.2.0)\n",
      "Requirement already satisfied: attrs>=22.2.0 in /usr/local/lib/python3.10/dist-packages (from jsonschema>=3.0->altair<6.0.0,>=4.2.2->prince) (23.1.0)\n",
      "Requirement already satisfied: jsonschema-specifications>=2023.03.6 in /usr/local/lib/python3.10/dist-packages (from jsonschema>=3.0->altair<6.0.0,>=4.2.2->prince) (2023.11.2)\n",
      "Requirement already satisfied: referencing>=0.28.4 in /usr/local/lib/python3.10/dist-packages (from jsonschema>=3.0->altair<6.0.0,>=4.2.2->prince) (0.32.0)\n",
      "Requirement already satisfied: rpds-py>=0.7.1 in /usr/local/lib/python3.10/dist-packages (from jsonschema>=3.0->altair<6.0.0,>=4.2.2->prince) (0.13.2)\n",
      "Requirement already satisfied: six>=1.5 in /usr/local/lib/python3.10/dist-packages (from python-dateutil>=2.8.1->pandas<3.0.0,>=1.4.1->prince) (1.16.0)\n",
      "Requirement already satisfied: MarkupSafe>=2.0 in /usr/local/lib/python3.10/dist-packages (from jinja2->altair<6.0.0,>=4.2.2->prince) (2.1.3)\n",
      "Installing collected packages: prince\n",
      "Successfully installed prince-0.13.0\n"
     ]
    }
   ],
   "source": [
    "pip install prince"
   ]
  },
  {
   "cell_type": "code",
   "execution_count": null,
   "metadata": {
    "colab": {
     "base_uri": "https://localhost:8080/",
     "height": 563
    },
    "id": "IOd2RRrBvddt",
    "outputId": "dbae0859-a884-4f95-d23d-1142e92fb8bf"
   },
   "outputs": [
    {
     "data": {
      "image/png": "[encoded data removed]",
      "text/plain": [
       "<Figure size 1000x600 with 1 Axes>"
      ]
     },
     "metadata": {},
     "output_type": "display_data"
    }
   ],
   "source": [
    "from prince import MCA\n",
    "import matplotlib.pyplot as plt\n",
    "\n",
    "categorical_features = dfn.columns.difference(numerical_features + ['user_id']).tolist()\n",
    "categorical_df = dfn[categorical_features].copy()\n",
    "\n",
    "\n",
    "mca = MCA(n_components=38,random_state=42)\n",
    "mca.fit(categorical_df)\n",
    "\n",
    "# Plot the eigenvalues manually\n",
    "plt.figure(figsize=(10, 6))\n",
    "plt.plot(range(1, len(mca.eigenvalues_) + 1), mca.eigenvalues_, marker='o')\n",
    "plt.xlabel('Number of Components')\n",
    "plt.ylabel('Eigenvalues')\n",
    "plt.title('Scree Plot for MCA')\n",
    "plt.show()\n",
    "\n"
   ]
  },
  {
   "cell_type": "code",
   "execution_count": null,
   "metadata": {
    "colab": {
     "base_uri": "https://localhost:8080/"
    },
    "id": "LUyP8jQRvdbL",
    "outputId": "0443f639-8301-4d4c-c888-f488dff78b51"
   },
   "outputs": [
    {
     "name": "stdout",
     "output_type": "stream",
     "text": [
      "Eigenvalues: [7.23596911e-02 6.80483958e-02 5.21639276e-02 4.80992501e-02\n",
      " 4.36054166e-02 4.11934073e-02 3.62774451e-02 3.21862845e-02\n",
      " 3.17340370e-02 3.12032577e-02 3.08038249e-02 3.05790694e-02\n",
      " 3.03047347e-02 3.01307552e-02 3.00482690e-02 2.99544044e-02\n",
      " 2.71551126e-02 2.66559642e-02 2.64437104e-02 2.63145538e-02\n",
      " 2.62697541e-02 2.53841452e-02 2.40678121e-02 2.20581208e-02\n",
      " 2.16380929e-02 2.02879101e-02 1.86135840e-02 1.75389960e-02\n",
      " 1.62301510e-02 1.41809698e-02 1.27489093e-02 1.11007252e-02\n",
      " 9.39974937e-03 8.46402119e-03 6.75554758e-03 3.40775892e-31\n",
      " 8.32304015e-34 6.82123186e-34]\n"
     ]
    }
   ],
   "source": [
    "print(\"Eigenvalues:\", mca.eigenvalues_)"
   ]
  },
  {
   "cell_type": "markdown",
   "metadata": {
    "id": "_8-DA-Z6vzO-"
   },
   "source": [
    "- Upon Careful observation , The eigenvalues start to become small after the 12th component. This indicates that the first 12th components capture most of the variation in the data, and that the remaining components are not as important. Therefore, we consider retaining the first 12th components for our analysis. This will allow us to capture most of the variation in the data while also keeping our analysis relatively simple and interpretable."
   ]
  },
  {
   "cell_type": "code",
   "execution_count": null,
   "metadata": {
    "colab": {
     "base_uri": "https://localhost:8080/"
    },
    "id": "YUagHaJCvdYq",
    "outputId": "f09c796f-da9a-4c24-fc58-0eb591041ea3"
   },
   "outputs": [
    {
     "name": "stdout",
     "output_type": "stream",
     "text": [
      "      MCA_0     MCA_1     MCA_2     MCA_3     MCA_4     MCA_5     MCA_6  \\\n",
      "0 -0.294993  0.005896 -0.032264  0.260207  0.226598  0.075707  0.022587   \n",
      "1 -0.253477 -0.310303  0.175878 -0.138782 -0.111262  0.114283  0.162588   \n",
      "2  0.021521  0.193886 -0.129376 -0.231778 -0.165098  0.241647  0.138216   \n",
      "\n",
      "      MCA_7     MCA_8     MCA_9    MCA_10    MCA_11  \n",
      "0 -0.277784  0.308910 -0.299755  0.274110  0.193494  \n",
      "1  0.066595 -0.167754 -0.011011 -0.082305  0.066988  \n",
      "2 -0.005906 -0.213868 -0.138851 -0.145326  0.438121  \n"
     ]
    }
   ],
   "source": [
    "from prince import MCA\n",
    "\n",
    "categorical_features = dfn.columns.difference(numerical_features + ['user_id']).tolist()\n",
    "mca = MCA(n_components=12,random_state=42)\n",
    "df_categorical_mca = mca.fit_transform(dfn[categorical_features])\n",
    "df_categorical_mca.columns = [f'MCA_{i}' for i in range(df_categorical_mca.shape[1])]\n",
    "print(df_categorical_mca.head(3))\n",
    "\n"
   ]
  },
  {
   "cell_type": "code",
   "execution_count": null,
   "metadata": {
    "colab": {
     "base_uri": "https://localhost:8080/"
    },
    "id": "m1wNVhlKwQmX",
    "outputId": "c84bd3d2-3b1c-4633-8303-17b4273b0be4"
   },
   "outputs": [
    {
     "name": "stdout",
     "output_type": "stream",
     "text": [
      "       PCA_1      PCA_2     PCA_3     PCA_4     PCA_5      PCA_6     MCA_0  \\\n",
      "0  32.366794  12.778736 -0.490123  1.167793 -0.823221  35.826071 -0.294993   \n",
      "\n",
      "      MCA_1     MCA_2     MCA_3     MCA_4     MCA_5     MCA_6     MCA_7  \\\n",
      "0  0.005896 -0.032264  0.260207  0.226598  0.075707  0.022587 -0.277784   \n",
      "\n",
      "     MCA_8     MCA_9   MCA_10    MCA_11  \n",
      "0  0.30891 -0.299755  0.27411  0.193494  \n"
     ]
    }
   ],
   "source": [
    "# Concatenating the results\n",
    "\n",
    "df_combined = pd.concat([df_pca_result , df_categorical_mca], axis=1)\n",
    "\n",
    "# Display the first few rows of the combined dataset\n",
    "print(df_combined.head(1))"
   ]
  },
  {
   "cell_type": "code",
   "execution_count": null,
   "metadata": {
    "colab": {
     "base_uri": "https://localhost:8080/"
    },
    "id": "fYqTnCG2wQjg",
    "outputId": "d08764fd-3bee-4f6d-9ecb-6008b4895a0a"
   },
   "outputs": [
    {
     "name": "stdout",
     "output_type": "stream",
     "text": [
      "<class 'pandas.core.frame.DataFrame'>\n",
      "RangeIndex: 106591 entries, 0 to 106590\n",
      "Data columns (total 18 columns):\n",
      " #   Column  Non-Null Count   Dtype  \n",
      "---  ------  --------------   -----  \n",
      " 0   PCA_1   106591 non-null  float64\n",
      " 1   PCA_2   106591 non-null  float64\n",
      " 2   PCA_3   106591 non-null  float64\n",
      " 3   PCA_4   106591 non-null  float64\n",
      " 4   PCA_5   106591 non-null  float64\n",
      " 5   PCA_6   106591 non-null  float64\n",
      " 6   MCA_0   106591 non-null  float64\n",
      " 7   MCA_1   106591 non-null  float64\n",
      " 8   MCA_2   106591 non-null  float64\n",
      " 9   MCA_3   106591 non-null  float64\n",
      " 10  MCA_4   106591 non-null  float64\n",
      " 11  MCA_5   106591 non-null  float64\n",
      " 12  MCA_6   106591 non-null  float64\n",
      " 13  MCA_7   106591 non-null  float64\n",
      " 14  MCA_8   106591 non-null  float64\n",
      " 15  MCA_9   106591 non-null  float64\n",
      " 16  MCA_10  106591 non-null  float64\n",
      " 17  MCA_11  106591 non-null  float64\n",
      "dtypes: float64(18)\n",
      "memory usage: 14.6 MB\n"
     ]
    }
   ],
   "source": [
    "df_combined.info()"
   ]
  },
  {
   "cell_type": "code",
   "execution_count": null,
   "metadata": {
    "id": "DlSAFkORwniF"
   },
   "outputs": [],
   "source": [
    "df_combined = df_combined.astype('float32')\n",
    "#reducing the float size so as to reduce the overall dataframe size"
   ]
  },
  {
   "cell_type": "code",
   "execution_count": null,
   "metadata": {
    "colab": {
     "base_uri": "https://localhost:8080/"
    },
    "id": "XiEg1sMNwxWl",
    "outputId": "a36209e0-2540-403e-def9-163898281af1"
   },
   "outputs": [
    {
     "name": "stdout",
     "output_type": "stream",
     "text": [
      "<class 'pandas.core.frame.DataFrame'>\n",
      "RangeIndex: 106591 entries, 0 to 106590\n",
      "Data columns (total 18 columns):\n",
      " #   Column  Non-Null Count   Dtype  \n",
      "---  ------  --------------   -----  \n",
      " 0   PCA_1   106591 non-null  float32\n",
      " 1   PCA_2   106591 non-null  float32\n",
      " 2   PCA_3   106591 non-null  float32\n",
      " 3   PCA_4   106591 non-null  float32\n",
      " 4   PCA_5   106591 non-null  float32\n",
      " 5   PCA_6   106591 non-null  float32\n",
      " 6   MCA_0   106591 non-null  float32\n",
      " 7   MCA_1   106591 non-null  float32\n",
      " 8   MCA_2   106591 non-null  float32\n",
      " 9   MCA_3   106591 non-null  float32\n",
      " 10  MCA_4   106591 non-null  float32\n",
      " 11  MCA_5   106591 non-null  float32\n",
      " 12  MCA_6   106591 non-null  float32\n",
      " 13  MCA_7   106591 non-null  float32\n",
      " 14  MCA_8   106591 non-null  float32\n",
      " 15  MCA_9   106591 non-null  float32\n",
      " 16  MCA_10  106591 non-null  float32\n",
      " 17  MCA_11  106591 non-null  float32\n",
      "dtypes: float32(18)\n",
      "memory usage: 7.3 MB\n"
     ]
    }
   ],
   "source": [
    "df_combined.info()"
   ]
  },
  {
   "cell_type": "code",
   "execution_count": null,
   "metadata": {
    "id": "LWoNTD96asKH"
   },
   "outputs": [],
   "source": [
    "df_combined.to_csv('dimensionality_reduced_df.csv', index=False)"
   ]
  },
  {
   "cell_type": "markdown",
   "metadata": {
    "id": "VNPnK65iQIKt"
   },
   "source": [
    "## **2.3 Clustering!**"
   ]
  },
  {
   "cell_type": "markdown",
   "metadata": {
    "id": "zpdoDPEfT0H0"
   },
   "source": [
    "#### **2.3.1. Implement the K-means clustering algorithm (not ++: random initialization) using MapReduce. We ask you to write the algorithm from scratch following what you learned in class.**\n"
   ]
  },
  {
   "cell_type": "markdown",
   "metadata": {
    "id": "s6fNyNXs9nyc"
   },
   "source": [
    "- For easy implementation of the K mean Clustering Algorithm from Scratch using MapReduce we used SparkFramework to setup the pipeline for the K mean MapReduce. An **RDD(Resilient Distributed Datasets)** has been created to collect the dataframe which is dimensionally reduced and hence apply the algorithm iteratively according to MapReduce Framework.\n",
    "\n",
    "- Basic algorithm that we have learned in our class is as follow;\n",
    "\n",
    "**Algorithm:**\n",
    "\n",
    "**1. Randomly initialize k centroids.**\n",
    "     \n",
    "The centroids are the centers of the clusters. They can be initialized randomly or using a more informed heuristic. For example, if the data points are clustered in a known way, the centroids can be initialized at the means of the known clusters.\n",
    "\n",
    "**2. Repeat until there is no change in cluster assignments:**\n",
    "\n",
    "   This is the main loop of the K-means algorithm. It repeats until the algorithm has found a local minimum of the within-cluster variance.\n",
    "\n",
    "   ***2.1. Assign each data point to the cluster with the nearest centroid.***\n",
    "\n",
    "   To assign a data point to a cluster, we calculate the distance between the data point and each centroid. The data point is then assigned to the cluster with the nearest centroid.\n",
    "\n",
    "   ***2.2. Update the centroid of each cluster to be the mean of its assigned data points.***\n",
    "\n",
    "   Once each data point has been assigned to a cluster, we can update the centroids. To do this, we calculate the mean of the data points assigned to each cluster. The new centroids are then the means of their assigned data points.\n",
    "\n",
    "**3. Terminate the algorithm when there is no change in cluster assignments.**\n",
    "\n",
    "The algorithm terminates when there is no change in cluster assignments. This means that the algorithm has found a local minimum of the within-cluster variance."
   ]
  },
  {
   "cell_type": "code",
   "execution_count": null,
   "metadata": {
    "colab": {
     "base_uri": "https://localhost:8080/"
    },
    "id": "qSUXAjZkQMvg",
    "outputId": "a17ae35d-df10-42a2-dce3-caea23f8dc97"
   },
   "outputs": [
    {
     "name": "stdout",
     "output_type": "stream",
     "text": [
      "Collecting pyspark\n",
      "  Downloading pyspark-3.5.0.tar.gz (316.9 MB)\n",
      "\u001b[2K     \u001b[90m━━━━━━━━━━━━━━━━━━━━━━━━━━━━━━━━━━━━━━━━\u001b[0m \u001b[32m316.9/316.9 MB\u001b[0m \u001b[31m2.6 MB/s\u001b[0m eta \u001b[36m0:00:00\u001b[0m\n",
      "\u001b[?25h  Preparing metadata (setup.py) ... \u001b[?25l\u001b[?25hdone\n",
      "Requirement already satisfied: py4j==0.10.9.7 in /usr/local/lib/python3.10/dist-packages (from pyspark) (0.10.9.7)\n",
      "Building wheels for collected packages: pyspark\n",
      "  Building wheel for pyspark (setup.py) ... \u001b[?25l\u001b[?25hdone\n",
      "  Created wheel for pyspark: filename=pyspark-3.5.0-py2.py3-none-any.whl size=317425345 sha256=f07d74e8e8ecb36dc899b53674d85b7b301b4c4ff5ebb8fb883272e95fd4782a\n",
      "  Stored in directory: /root/.cache/pip/wheels/41/4e/10/c2cf2467f71c678cfc8a6b9ac9241e5e44a01940da8fbb17fc\n",
      "Successfully built pyspark\n",
      "Installing collected packages: pyspark\n",
      "Successfully installed pyspark-3.5.0\n"
     ]
    }
   ],
   "source": [
    "pip install pyspark"
   ]
  },
  {
   "cell_type": "code",
   "execution_count": null,
   "metadata": {
    "id": "rz_sLZS4giw1"
   },
   "outputs": [],
   "source": [
    "df_points = [tuple([round(x,2) for x in r]) for r in df_combined.to_numpy()]\n"
   ]
  },
  {
   "cell_type": "code",
   "execution_count": null,
   "metadata": {
    "id": "yPROdHC0gitY"
   },
   "outputs": [],
   "source": [
    "# Creating Spark Context\n",
    "from pyspark.sql import SparkSession\n",
    "from pyspark import SparkContext\n",
    "\n",
    "spark = SparkSession.builder.master(\"local[1]\").appName('KmeansClustering').getOrCreate()\n",
    "sparkcontext = SparkContext.getOrCreate()\n",
    "rdd = sparkcontext.parallelize(df_points)\n"
   ]
  },
  {
   "cell_type": "code",
   "execution_count": null,
   "metadata": {
    "id": "2Zio8u4Wgiq9"
   },
   "outputs": [],
   "source": [
    "def reduce_func(x):\n",
    "    return (np.mean(list(x), axis=0).tolist(), list(x))\n",
    "\n",
    "def kmeans_MR(rdd, reduce_func, k, points, max_iters):\n",
    "\n",
    "    # Initializing centroids: randomly selecting k points\n",
    "    centroids = np.array(rdd.takeSample(False, k, 1))\n",
    "\n",
    "    # Run MapReduce\n",
    "    for i in range(max_iters):\n",
    "\n",
    "        # Map: associate each point to the closest centroid\n",
    "        map_result = rdd.map(lambda x: (tuple(centroids[np.argmin([np.sum((np.array(x)-np.array(c))**2) for c in centroids])]), x))\n",
    "\n",
    "\n",
    "        # Reduce: find new centroid for each cluster\n",
    "        reduce_result = map_result.groupByKey().mapValues(reduce_func).values().collect()\n",
    "\n",
    "        centroids = np.array([tuple(x[0]) for x in reduce_result])\n",
    "        clusters = [list(x[1]) for x in reduce_result]\n",
    "\n",
    "    return centroids, clusters"
   ]
  },
  {
   "cell_type": "markdown",
   "metadata": {
    "id": "NuP4j2_b8k1i"
   },
   "source": [
    "#### **2.3.2 Find an optimal number of clusters. Use at least two different methods. If your algorithms provide diverse optimal K's, select one of them and explain why you chose it.**"
   ]
  },
  {
   "cell_type": "code",
   "execution_count": null,
   "metadata": {
    "id": "XoYQoW5Ekn3t"
   },
   "outputs": [],
   "source": [
    "# Compute inertia\n",
    "def inertia(points, centroids):\n",
    "\n",
    "    out = 0\n",
    "\n",
    "    for point in points:\n",
    "        out+=min([np.sum((np.array(point)-np.array(c))**2) for c in centroids])\n",
    "\n",
    "    return out"
   ]
  },
  {
   "cell_type": "code",
   "execution_count": null,
   "metadata": {
    "id": "Bj7_J-RgknyC"
   },
   "outputs": [],
   "source": [
    "# Set hyperparameters\n",
    "max_clusters = 10\n",
    "max_iters = 10"
   ]
  },
  {
   "cell_type": "code",
   "execution_count": null,
   "metadata": {
    "id": "qpwKCUJ4knvv"
   },
   "outputs": [],
   "source": [
    "inertia_values = []\n",
    "silhouette_values = [0]\n",
    "kmeans_results = {}"
   ]
  },
  {
   "cell_type": "code",
   "execution_count": null,
   "metadata": {
    "id": "AcD3_2aQknsy"
   },
   "outputs": [],
   "source": [
    "from sklearn.metrics import silhouette_score\n",
    "import numpy as np\n",
    "\n",
    "# Run K-means for different values of k\n",
    "for k in range(1, max_clusters+1):\n",
    "  centroids, clusters = kmeans_MR(rdd, reduce_func, k, df_points, max_iters)\n",
    "\n",
    "  clust_id = {}\n",
    "  for i in range(k):\n",
    "    for point in clusters[i]:\n",
    "      clust_id[point] = i\n",
    "\n",
    "  inertia_values.append(inertia(df_points, centroids))\n",
    "  if k > 1:\n",
    "    silhouette_values.append(silhouette_score(df_points, [clust_id[point] for point in df_points]))\n",
    "  kmeans_results[k] = {\"centroids\": centroids, \"clusters\": [clust_id[point] for point in df_points]}"
   ]
  },
  {
   "cell_type": "code",
   "execution_count": null,
   "metadata": {
    "colab": {
     "base_uri": "https://localhost:8080/",
     "height": 529
    },
    "id": "slg50kOaknpK",
    "outputId": "186ed66d-c991-47e3-e36f-7c9bcecea266"
   },
   "outputs": [
    {
     "data": {
      "image/png": "[encoded data removed]",
      "text/plain": [
       "<Figure size 640x480 with 1 Axes>"
      ]
     },
     "metadata": {},
     "output_type": "display_data"
    },
    {
     "data": {
      "text/plain": [
       "<Figure size 1400x800 with 0 Axes>"
      ]
     },
     "metadata": {},
     "output_type": "display_data"
    }
   ],
   "source": [
    "import matplotlib.pyplot as plt\n",
    "# Plot inertia values vs. number of clusters\n",
    "plt.figure()\n",
    "plt.xticks(range(1, max_clusters + 1))\n",
    "plt.ylabel(\"Inertia / Sum of squared distances\", fontsize=14, labelpad=20)\n",
    "plt.xlabel(\"Number of cluster(K)\", fontsize=14, labelpad=20)\n",
    "plt.title(\"Elbow method for optimal number of clusters\", fontsize=15, pad=15)\n",
    "plt.plot([x for x in range(1, max_clusters + 1)], inertia_values, '--yo')\n",
    "plt.figure(figsize=(14, 8))\n",
    "plt.show()"
   ]
  },
  {
   "cell_type": "code",
   "execution_count": null,
   "metadata": {
    "colab": {
     "base_uri": "https://localhost:8080/",
     "height": 529
    },
    "id": "6jpR5nswpazL",
    "outputId": "a6d029dc-8ce1-4c26-cab0-701695bbc632"
   },
   "outputs": [
    {
     "data": {
      "image/png": "[encoded data removed]",
      "text/plain": [
       "<Figure size 640x480 with 1 Axes>"
      ]
     },
     "metadata": {},
     "output_type": "display_data"
    },
    {
     "data": {
      "text/plain": [
       "<Figure size 1400x800 with 0 Axes>"
      ]
     },
     "metadata": {},
     "output_type": "display_data"
    }
   ],
   "source": [
    "# Plot silhouette scores vs. number of clusters\n",
    "plt.figure()\n",
    "plt.xticks(range(1, max_clusters + 1))\n",
    "plt.ylabel(\"Silhouette Coefficient\", fontsize=14, labelpad=20)\n",
    "plt.xlabel(\"Number of cluster (k)\", fontsize=14, labelpad=20)\n",
    "plt.title(\"Silhouette analysis for optimal number of clusters\", fontsize=15, pad=15)\n",
    "plt.plot([x for x in range(1, max_clusters+1)], silhouette_values, '--ko')\n",
    "\n",
    "\n",
    "# Set figure size\n",
    "plt.figure(figsize=(14, 8))\n",
    "\n",
    "plt.show()"
   ]
  },
  {
   "cell_type": "markdown",
   "metadata": {
    "id": "BSVXYw5N74QP"
   },
   "source": [
    "#### **2.3.3 Run the algorithm on the data obtained from the dimensionality reduction.**"
   ]
  },
  {
   "cell_type": "code",
   "execution_count": null,
   "metadata": {
    "id": "E1f13Ih4gin1"
   },
   "outputs": [],
   "source": [
    "k = 2  # Set the number of clusters\n",
    "centroids, clusters = kmeans_MR(rdd, reduce_func, k, df_points, max_iters=10)"
   ]
  },
  {
   "cell_type": "code",
   "execution_count": null,
   "metadata": {
    "colab": {
     "base_uri": "https://localhost:8080/"
    },
    "id": "exd1ZJylgij6",
    "outputId": "b72c04ff-1759-4d76-fbf6-8af05d38fd11"
   },
   "outputs": [
    {
     "name": "stdout",
     "output_type": "stream",
     "text": [
      "Final Centroids:\n",
      "[[-1.94666162e-02  2.35364601e-01 -9.37584162e-01  1.83488596e-02\n",
      "  -1.03084696e-02  9.78940399e-04 -1.84800278e-03 -4.55953646e-03\n",
      "  -4.00573015e-03 -1.74789168e-02  1.65262341e-03 -5.36217773e-03\n",
      "  -8.94318742e-04 -1.45126581e-02 -3.06838881e-02 -8.90706331e-02\n",
      "  -2.02220492e-02 -5.35107125e-03]\n",
      " [ 3.57429758e-02 -4.33681846e-01  1.72635782e+00 -3.50858271e-02\n",
      "   1.76897608e-02 -2.16342160e-03  3.34743620e-03  8.26594885e-03\n",
      "   7.39410706e-03  3.20583098e-02 -3.06910835e-03  1.01344278e-02\n",
      "   1.48482504e-03  2.66745985e-02  5.65045364e-02  1.63713500e-01\n",
      "   3.69404443e-02  9.55957174e-03]]\n"
     ]
    }
   ],
   "source": [
    "print(\"Final Centroids:\")\n",
    "print(centroids[:2])  # Print only the first 5 elements for example"
   ]
  },
  {
   "cell_type": "markdown",
   "metadata": {
    "id": "Lx_yEt8QwzCV"
   },
   "source": [
    " #### **2.3.4 Implement K-means++ from scratch and explain the differences with the results you got earlier.**"
   ]
  },
  {
   "cell_type": "code",
   "execution_count": null,
   "metadata": {
    "colab": {
     "base_uri": "https://localhost:8080/"
    },
    "id": "xnj4U9QCpavH",
    "outputId": "66a9170f-8945-43ea-eb95-88a965914021"
   },
   "outputs": [
    {
     "name": "stdout",
     "output_type": "stream",
     "text": [
      "Initial Centroids: [[ 0.56264246 -0.7852331  -1.3197366  -1.0245926   0.20697437 -0.21849713\n",
      "  -0.03544913 -0.05461484  0.02062601 -0.19078393 -0.07300037 -0.12006661\n",
      "  -0.13294959 -0.13249929  0.28486884 -0.17308116 -0.1049334   0.14038326]\n",
      " [-0.4371578  -1.0448529   2.1921785   0.9533956  -0.65859425 -0.0581505\n",
      "  -0.27692035 -0.07412685  0.07507095  0.38421756 -0.14893024  0.0772543\n",
      "   0.11811628  0.19999336  0.38140574  0.06215829 -0.11817028 -0.03469489]]\n"
     ]
    }
   ],
   "source": [
    "\n",
    "def kmeans_plusplus_init(data, k):\n",
    "    # Randomly choose the first centroid\n",
    "    centroids = [data.sample().values[0]]\n",
    "\n",
    "    # Choose the remaining centroids using the k-means++ algorithm\n",
    "    for _ in range(1, k):\n",
    "        distances = np.array([min([np.linalg.norm(x - c) ** 2 for c in centroids]) for x in data.values])\n",
    "        probability_distribution = distances / distances.sum()\n",
    "        cumulative_distribution = np.cumsum(probability_distribution)\n",
    "\n",
    "        # Randomly choose a new centroid based on the distribution\n",
    "        random_value = np.random.rand()\n",
    "        new_centroid_index = np.searchsorted(cumulative_distribution, random_value)\n",
    "        centroids.append(data.iloc[new_centroid_index].values)\n",
    "\n",
    "    return np.array(centroids)\n",
    "\n",
    "k = 2\n",
    "\n",
    "initial_centroids = kmeans_plusplus_init(df_combined, k)\n",
    "print(\"Initial Centroids:\", initial_centroids)\n"
   ]
  },
  {
   "cell_type": "markdown",
   "metadata": {
    "id": "-S_uvhFfN_En"
   },
   "source": [
    "**Comparision of the results from K mean vs K mean ++**\n",
    "\n",
    "- From Custom K-mean clustering algorithm , the obtained final centroids for cluster component k=2 , the values obtained are different from what we obtained from K-mean ++ algorithm as Initial centroid values.\n",
    "\n",
    "This could be because that the final centroids are adjusted based on the distribution of data points and the iterative nature of the k-means algorithm. If the algorithm converges successfully, the final centroids should represent the centers of the clusters in the data. The initial centroids play a crucial role in the convergence and quality of the final clustering solution for the later algorithm implementation.\n",
    "\n",
    "**Our observation while execution :**  We observe that the K-Mean ++ algorithm excute very fast than the K-Mean algorithm. This could be because of the above mentioned reason."
   ]
  },
  {
   "cell_type": "markdown",
   "metadata": {
    "id": "PcPhhQx96Lav"
   },
   "source": [
    "#### **2.3.5 Ask ChatGPT to recommend other clustering algorithms and choose one. Explain your choice, then ask ChatGPT to implement it or use already implemented versions (e.g., the one provided in the scikit-learn library) and run it on your data. Explain the differences (if there are any) in the results. Which one is the best, in your opinion, and why?**\n",
    "\n"
   ]
  },
  {
   "cell_type": "markdown",
   "metadata": {
    "id": "WTctvyX39hRz"
   },
   "source": [
    "Upon giving the prompt to the LLM chatbot, we have few suggestions including DBSCAN , we are not considering it as it has been used in the Bonus part of the assignment. Instead we are opting for the Gaussian Mixture Model (GMM) clustering algorithm, was chosen for its flexibility in handling clusters with different shapes and orientations.\n",
    "\n",
    "Unlike K-Means, GMM assumes that data points are generated from a mixture of Gaussian distributions, making it suitable for datasets where clusters may not exhibit spherical shapes. GMM provides probabilistic cluster assignments, assigning a likelihood score to each data point for belonging to a particular cluster, offering more nuanced information compared to the hard assignments of K-Means and DBSCAN. Additionally, GMM can handle clusters with varying shapes and sizes, providing greater flexibility.\n",
    "\n",
    "The choice is grounded in the desire to introduce a probabilistic clustering method with the capability to capture uncertainty in cluster assignments, particularly beneficial for datasets with diverse and complex structures. Ultimately, the selection of GMM aims to explore the probabilistic nature of cluster assignments and its adaptability to diverse cluster structures."
   ]
  },
  {
   "cell_type": "code",
   "execution_count": null,
   "metadata": {
    "id": "Wag1bS-SpaoZ"
   },
   "outputs": [],
   "source": [
    "# Initializing a range of cluster numbers to test\n",
    "n_components_range = range(1, 11)\n",
    "\n",
    "# Initializing lists to store BIC and AIC values\n",
    "bic_values = []\n",
    "aic_values = []\n"
   ]
  },
  {
   "cell_type": "code",
   "execution_count": null,
   "metadata": {
    "id": "_lt7T681pamD"
   },
   "outputs": [],
   "source": [
    "from sklearn.mixture import GaussianMixture\n",
    "from sklearn.preprocessing import StandardScaler\n",
    "import matplotlib.pyplot as plt\n",
    "import numpy as np\n",
    "\n",
    "datatest = df_combined.values\n",
    "\n",
    "for n_components in n_components_range:\n",
    "    # Fit GMM with current number of components\n",
    "    gmm = GaussianMixture(n_components=n_components)\n",
    "    gmm.fit(datatest)\n",
    "\n",
    "    # Append BIC and AIC values to the lists\n",
    "    bic_values.append(gmm.bic(datatest))\n",
    "    aic_values.append(gmm.aic(datatest))\n"
   ]
  },
  {
   "cell_type": "code",
   "execution_count": null,
   "metadata": {
    "colab": {
     "base_uri": "https://localhost:8080/",
     "height": 507
    },
    "id": "ACAXml6xpajN",
    "outputId": "4636f314-1186-420c-8649-932654ddfbf7"
   },
   "outputs": [
    {
     "data": {
      "image/png": "[encoded data removed]",
      "text/plain": [
       "<Figure size 1200x500 with 2 Axes>"
      ]
     },
     "metadata": {},
     "output_type": "display_data"
    }
   ],
   "source": [
    "# Create a subplot with two plots (1 row, 2 columns)\n",
    "fig, (ax1, ax2) = plt.subplots(1, 2, figsize=(12, 5))\n",
    "\n",
    "# Plot AIC values\n",
    "ax1.plot(n_components_range, aic_values, label='AIC', marker='o')\n",
    "ax1.set_xlabel('Number of Components')\n",
    "ax1.set_ylabel('AIC Score')\n",
    "ax1.set_title('AIC for Different Numbers of Components')\n",
    "ax1.legend()\n",
    "\n",
    "# Plot BIC values\n",
    "ax2.plot(n_components_range, bic_values, label='BIC', marker='o')\n",
    "ax2.set_xlabel('Number of Components')\n",
    "ax2.set_ylabel('BIC Score')\n",
    "ax2.set_title('BIC for Different Numbers of Components')\n",
    "ax2.legend()\n",
    "\n",
    "# Adjust layout to prevent overlap\n",
    "plt.tight_layout()\n",
    "plt.show()\n"
   ]
  },
  {
   "cell_type": "markdown",
   "metadata": {
    "id": "L4Fw-sgLHDnI"
   },
   "source": [
    "For GMM, the AIC and BIC scores represent the relative complexity of the model compared to the likelihood of the data. A lower AIC or BIC score indicates a better fit to the data, but it also penalizes more complex models.\n",
    "\n",
    "**Upon Examination:**\n",
    "\n",
    "- the AIC and BIC scores are minimized at K=2. This suggests that the optimal number of clusters for the data is 2.\n",
    "\n",
    "But comparing with the above implementation of K mean , the optimal cluster that we found is 2 , so to some extent the result given by gmm can be true."
   ]
  },
  {
   "cell_type": "markdown",
   "metadata": {
    "id": "2gUbys1eQM-z"
   },
   "source": [
    "## **2.4 Analysing your results!**"
   ]
  },
  {
   "cell_type": "markdown",
   "metadata": {
    "id": "M4tUe9zsQhIK"
   },
   "source": [
    "#### **2.4.1 Select 2-3 variables you think are relevant to identify the cluster of the customer. For example, Time_Day, Average Click Duration, etc.**"
   ]
  },
  {
   "cell_type": "markdown",
   "metadata": {
    "id": "ZMYC-4uXRc9L"
   },
   "source": [
    "We are considering the features like 'total_clicks','distinct_genres_count','days_active' that we have created to select the 2-3 variables that are relevant to identify the cluster of customer.\n",
    "\n",
    "We are justifying our reason for that as follows;\n",
    "\n",
    "1.   **total_clicks:** Total clicks can serve as a measure of user engagement. Users who click more frequently are likely more active and engaged with the platform. High total clicks may indicate a more involved and interested user.\n",
    "\n",
    "2.   **distinct_genres_count:** The diversity of genres a user interacts with can provide insights into their preferences and interests. Users with a higher count of distinct genres may have varied tastes, and this information can be valuable for understanding user behavior and tailoring recommendations or content.\n",
    "\n",
    "3. **days_active:** The number of days a user is active is a measure of the user's consistency in using the platform. Users who are active on more days may exhibit more regular behavior.\n"
   ]
  },
  {
   "cell_type": "code",
   "execution_count": null,
   "metadata": {
    "colab": {
     "base_uri": "https://localhost:8080/"
    },
    "id": "8UlY_XAiLFAb",
    "outputId": "017f6d3a-58ae-4daa-d573-09e88969ac3f"
   },
   "outputs": [
    {
     "name": "stdout",
     "output_type": "stream",
     "text": [
      "Point (32.37, 12.78, -0.49, 1.17, -0.82, 35.83, -0.29, 0.01, -0.03, 0.26, 0.23, 0.08, 0.02, -0.28, 0.31, -0.3, 0.27, 0.19) is assigned to Cluster 0\n",
      "Point (103.13, 16.63, 0.35, 2.05, 2.42, -14.31, -0.25, -0.31, 0.18, -0.14, -0.11, 0.11, 0.16, 0.07, -0.17, -0.01, -0.08, 0.07) is assigned to Cluster 0\n",
      "Point (84.37, 13.44, 0.05, 1.49, 2.01, -11.73, 0.02, 0.19, -0.13, -0.23, -0.17, 0.24, 0.14, -0.01, -0.21, -0.14, -0.15, 0.44) is assigned to Cluster 0\n",
      "Point (28.49, 8.02, -0.66, 1.58, -0.14, 21.4, 0.03, 0.24, -0.09, -0.24, -0.25, 0.03, -0.17, -0.03, -0.0, -0.1, -0.06, -0.07) is assigned to Cluster 0\n",
      "Point (72.48, 11.47, -0.03, 3.33, 0.93, -10.08, 0.94, -0.02, 0.15, 0.35, 0.39, -0.04, 0.3, 0.02, -0.04, -0.06, -0.28, -0.01) is assigned to Cluster 0\n",
      "Point (20.51, 6.53, -0.87, -0.32, 0.06, 16.69, -0.32, 0.33, -0.06, -0.12, 0.49, 0.39, -0.12, 0.0, 0.04, -0.03, -0.07, -0.08) is assigned to Cluster 0\n",
      "Point (17.94, 5.19, -0.06, 0.17, -0.15, 14.62, 0.21, 0.45, 0.37, -0.12, -0.11, -0.17, -0.19, 0.02, -0.12, -0.08, -0.05, -0.02) is assigned to Cluster 0\n",
      "Point (24.47, 5.49, -0.77, 1.68, 0.03, 13.48, -0.13, -0.55, 0.13, 0.33, -0.2, 0.2, 0.25, 0.15, -0.45, -0.08, 0.08, -0.38) is assigned to Cluster 0\n",
      "Point (13.51, 6.63, -0.4, 0.26, -1.07, 14.11, 0.82, -0.01, -0.35, 0.11, 0.12, 0.17, 0.41, -0.14, 0.15, -0.16, 0.26, 0.12) is assigned to Cluster 0\n",
      "Point (15.88, 6.32, -0.85, 0.72, -0.04, 14.18, -0.22, 0.23, -0.4, -0.23, 0.02, -0.41, 0.17, 0.12, -0.23, 0.03, -0.12, 0.25) is assigned to Cluster 0\n"
     ]
    }
   ],
   "source": [
    "cluster_assignments = []\n",
    "for i, cluster in enumerate(clusters):\n",
    "    for point in cluster:\n",
    "        cluster_assignments.append((point, i))\n",
    "\n",
    "# Print the first 10 cluster assignments for each observation\n",
    "lines_printed = 0\n",
    "for point, cluster in cluster_assignments:\n",
    "    if lines_printed < 10:\n",
    "        print(f\"Point {point} is assigned to Cluster {cluster}\")\n",
    "        lines_printed += 1\n",
    "    else:\n",
    "        break  # Stop printing after 10 lines\n"
   ]
  },
  {
   "cell_type": "code",
   "execution_count": null,
   "metadata": {
    "id": "AqL-KVZT_OoW"
   },
   "outputs": [],
   "source": [
    "dfn.index = dfn['user_id']"
   ]
  },
  {
   "cell_type": "code",
   "execution_count": null,
   "metadata": {
    "id": "CI5P5mk6r_ah"
   },
   "outputs": [],
   "source": [
    "dfn['cluster'] = [cluster for point, cluster in cluster_assignments]"
   ]
  },
  {
   "cell_type": "code",
   "execution_count": null,
   "metadata": {
    "colab": {
     "base_uri": "https://localhost:8080/"
    },
    "id": "7TVl5AW28kqe",
    "outputId": "b1ab447e-eb2b-4177-96f3-0ace16798e28"
   },
   "outputs": [
    {
     "data": {
      "text/plain": [
       "user_id\n",
       "322abe045c    0\n",
       "28afa6a44d    0\n",
       "ea2b1ea81e    0\n",
       "2863be3386    0\n",
       "7fad36635f    0\n",
       "Name: cluster, dtype: int64"
      ]
     },
     "execution_count": 115,
     "metadata": {},
     "output_type": "execute_result"
    }
   ],
   "source": [
    "dfn['cluster'].head()"
   ]
  },
  {
   "cell_type": "code",
   "execution_count": null,
   "metadata": {
    "colab": {
     "base_uri": "https://localhost:8080/"
    },
    "id": "Du60z9oM_5iR",
    "outputId": "12fe6fe5-bfae-47da-a4b3-17e3043ca2e8"
   },
   "outputs": [
    {
     "name": "stdout",
     "output_type": "stream",
     "text": [
      "0    69072\n",
      "1    37519\n",
      "Name: cluster, dtype: int64\n"
     ]
    }
   ],
   "source": [
    "# Assuming dfn is your Pandas DataFrame\n",
    "cluster_counts = dfn['cluster'].value_counts()\n",
    "\n",
    "# Print the counts\n",
    "print(cluster_counts)"
   ]
  },
  {
   "cell_type": "code",
   "execution_count": null,
   "metadata": {
    "id": "geNUnXy9Lemp"
   },
   "outputs": [],
   "source": [
    "dfc = dfn.copy()"
   ]
  },
  {
   "cell_type": "markdown",
   "metadata": {
    "id": "Z21-UGGpTxeB"
   },
   "source": [
    "#### **2.4.2 Most of your selected variables will be numerical (continuous or discrete), then categorize them into four categories.**"
   ]
  },
  {
   "cell_type": "markdown",
   "metadata": {
    "id": "4S-c9_D_F5U3"
   },
   "source": [
    "The entries in the total_clicks ranges from -0.385 to 129.471. To divide it into four categories , we will be using **pd.qcut** function to variables into four categories (quartiles) based on the specified quantile intervals."
   ]
  },
  {
   "cell_type": "code",
   "execution_count": null,
   "metadata": {
    "id": "LdwCJck_QSNS"
   },
   "outputs": [],
   "source": [
    "def create_category_column(data, column_name):\n",
    "\n",
    "    # Define the bin edges for quartiles\n",
    "    bin_edges = [0, 0.25, 0.5, 0.75, 1]\n",
    "\n",
    "    new_column_name = f'Categories_{column_name}'\n",
    "    data[new_column_name] = pd.qcut(data[column_name], bin_edges, labels=False, duplicates='drop') + 1\n"
   ]
  },
  {
   "cell_type": "code",
   "execution_count": null,
   "metadata": {
    "id": "QxqvjdwpLYk6"
   },
   "outputs": [],
   "source": [
    "create_category_column(dfc, \"total_clicks\")"
   ]
  },
  {
   "cell_type": "code",
   "execution_count": null,
   "metadata": {
    "colab": {
     "base_uri": "https://localhost:8080/"
    },
    "id": "89qpXHleMrxl",
    "outputId": "2f0c2b68-3577-427c-ed54-d51ec99c2af7"
   },
   "outputs": [
    {
     "data": {
      "text/plain": [
       "user_id\n",
       "322abe045c    3\n",
       "28afa6a44d    1\n",
       "ea2b1ea81e    1\n",
       "2863be3386    2\n",
       "7fad36635f    1\n",
       "Name: Categories_total_clicks, dtype: int64"
      ]
     },
     "execution_count": 145,
     "metadata": {},
     "output_type": "execute_result"
    }
   ],
   "source": [
    "dfc['Categories_total_clicks'].head()"
   ]
  },
  {
   "cell_type": "code",
   "execution_count": null,
   "metadata": {
    "id": "WhzmlC0pM0Jz"
   },
   "outputs": [],
   "source": [
    "create_category_column(dfc, \"distinct_genres_count\")"
   ]
  },
  {
   "cell_type": "code",
   "execution_count": null,
   "metadata": {
    "colab": {
     "base_uri": "https://localhost:8080/"
    },
    "id": "nO32nA5aM7Wc",
    "outputId": "a61365c4-45ab-4e86-b8fd-b3355013cba3"
   },
   "outputs": [
    {
     "data": {
      "text/plain": [
       "user_id\n",
       "322abe045c    2\n",
       "28afa6a44d    1\n",
       "ea2b1ea81e    1\n",
       "2863be3386    1\n",
       "7fad36635f    1\n",
       "Name: Categories_distinct_genres_count, dtype: int64"
      ]
     },
     "execution_count": 147,
     "metadata": {},
     "output_type": "execute_result"
    }
   ],
   "source": [
    "dfc['Categories_distinct_genres_count'].head()"
   ]
  },
  {
   "cell_type": "code",
   "execution_count": null,
   "metadata": {
    "id": "WLpmswgkNCMy"
   },
   "outputs": [],
   "source": [
    "create_category_column(dfc, \"days_active\")"
   ]
  },
  {
   "cell_type": "code",
   "execution_count": null,
   "metadata": {
    "colab": {
     "base_uri": "https://localhost:8080/"
    },
    "id": "kzvrwMuZNINr",
    "outputId": "b1b9e167-9c0a-41d3-c0b3-ce0ed2e0578c"
   },
   "outputs": [
    {
     "data": {
      "text/plain": [
       "user_id\n",
       "322abe045c    2\n",
       "28afa6a44d    1\n",
       "ea2b1ea81e    1\n",
       "2863be3386    2\n",
       "7fad36635f    1\n",
       "Name: Categories_days_active, dtype: int64"
      ]
     },
     "execution_count": 149,
     "metadata": {},
     "output_type": "execute_result"
    }
   ],
   "source": [
    "dfc['Categories_days_active'].head()"
   ]
  },
  {
   "cell_type": "markdown",
   "metadata": {
    "id": "tGYN73iiVqbY"
   },
   "source": [
    "#### **2.4.3 With the selected variables, perform pivot tables. On the horizontal axis, you will have the clusters, and on the vertical axis, you will have the categories of each variable. Notice that you have to do one pivot table per variable.**"
   ]
  },
  {
   "cell_type": "code",
   "execution_count": null,
   "metadata": {
    "colab": {
     "base_uri": "https://localhost:8080/",
     "height": 140
    },
    "id": "Nich0DXDVxMB",
    "outputId": "5fbf7459-6cc7-4c14-abcc-700d3142df8a"
   },
   "outputs": [
    {
     "data": {
      "text/html": [
       "\n",
       "  <div id=\"df-f1790ef5-30d0-4a71-bac3-3671eec548f2\" class=\"colab-df-container\">\n",
       "    <div>\n",
       "<style scoped>\n",
       "    .dataframe tbody tr th:only-of-type {\n",
       "        vertical-align: middle;\n",
       "    }\n",
       "\n",
       "    .dataframe tbody tr th {\n",
       "        vertical-align: top;\n",
       "    }\n",
       "\n",
       "    .dataframe thead th {\n",
       "        text-align: right;\n",
       "    }\n",
       "</style>\n",
       "<table border=\"1\" class=\"dataframe\">\n",
       "  <thead>\n",
       "    <tr style=\"text-align: right;\">\n",
       "      <th>Categories_total_clicks</th>\n",
       "      <th>1</th>\n",
       "      <th>2</th>\n",
       "      <th>3</th>\n",
       "    </tr>\n",
       "    <tr>\n",
       "      <th>cluster</th>\n",
       "      <th></th>\n",
       "      <th></th>\n",
       "      <th></th>\n",
       "    </tr>\n",
       "  </thead>\n",
       "  <tbody>\n",
       "    <tr>\n",
       "      <th>0</th>\n",
       "      <td>37466</td>\n",
       "      <td>8919</td>\n",
       "      <td>22687</td>\n",
       "    </tr>\n",
       "    <tr>\n",
       "      <th>1</th>\n",
       "      <td>32827</td>\n",
       "      <td>2481</td>\n",
       "      <td>2211</td>\n",
       "    </tr>\n",
       "  </tbody>\n",
       "</table>\n",
       "</div>\n",
       "    <div class=\"colab-df-buttons\">\n",
       "\n",
       "  <div class=\"colab-df-container\">\n",
       "    <button class=\"colab-df-convert\" onclick=\"convertToInteractive('df-f1790ef5-30d0-4a71-bac3-3671eec548f2')\"\n",
       "            title=\"Convert this dataframe to an interactive table.\"\n",
       "            style=\"display:none;\">\n",
       "\n",
       "  <svg xmlns=\"http://www.w3.org/2000/svg\" height=\"24px\" viewBox=\"0 -960 960 960\">\n",
       "    <path d=\"M120-120v-720h720v720H120Zm60-500h600v-160H180v160Zm220 220h160v-160H400v160Zm0 220h160v-160H400v160ZM180-400h160v-160H180v160Zm440 0h160v-160H620v160ZM180-180h160v-160H180v160Zm440 0h160v-160H620v160Z\"/>\n",
       "  </svg>\n",
       "    </button>\n",
       "\n",
       "  <style>\n",
       "    .colab-df-container {\n",
       "      display:flex;\n",
       "      gap: 12px;\n",
       "    }\n",
       "\n",
       "    .colab-df-convert {\n",
       "      background-color: #E8F0FE;\n",
       "      border: none;\n",
       "      border-radius: 50%;\n",
       "      cursor: pointer;\n",
       "      display: none;\n",
       "      fill: #1967D2;\n",
       "      height: 32px;\n",
       "      padding: 0 0 0 0;\n",
       "      width: 32px;\n",
       "    }\n",
       "\n",
       "    .colab-df-convert:hover {\n",
       "      background-color: #E2EBFA;\n",
       "      box-shadow: 0px 1px 2px rgba(60, 64, 67, 0.3), 0px 1px 3px 1px rgba(60, 64, 67, 0.15);\n",
       "      fill: #174EA6;\n",
       "    }\n",
       "\n",
       "    .colab-df-buttons div {\n",
       "      margin-bottom: 4px;\n",
       "    }\n",
       "\n",
       "    [theme=dark] .colab-df-convert {\n",
       "      background-color: #3B4455;\n",
       "      fill: #D2E3FC;\n",
       "    }\n",
       "\n",
       "    [theme=dark] .colab-df-convert:hover {\n",
       "      background-color: #434B5C;\n",
       "      box-shadow: 0px 1px 3px 1px rgba(0, 0, 0, 0.15);\n",
       "      filter: drop-shadow(0px 1px 2px rgba(0, 0, 0, 0.3));\n",
       "      fill: #FFFFFF;\n",
       "    }\n",
       "  </style>\n",
       "\n",
       "    <script>\n",
       "      const buttonEl =\n",
       "        document.querySelector('#df-f1790ef5-30d0-4a71-bac3-3671eec548f2 button.colab-df-convert');\n",
       "      buttonEl.style.display =\n",
       "        google.colab.kernel.accessAllowed ? 'block' : 'none';\n",
       "\n",
       "      async function convertToInteractive(key) {\n",
       "        const element = document.querySelector('#df-f1790ef5-30d0-4a71-bac3-3671eec548f2');\n",
       "        const dataTable =\n",
       "          await google.colab.kernel.invokeFunction('convertToInteractive',\n",
       "                                                    [key], {});\n",
       "        if (!dataTable) return;\n",
       "\n",
       "        const docLinkHtml = 'Like what you see? Visit the ' +\n",
       "          '<a target=\"_blank\" href=https://colab.research.google.com/notebooks/data_table.ipynb>data table notebook</a>'\n",
       "          + ' to learn more about interactive tables.';\n",
       "        element.innerHTML = '';\n",
       "        dataTable['output_type'] = 'display_data';\n",
       "        await google.colab.output.renderOutput(dataTable, element);\n",
       "        const docLink = document.createElement('div');\n",
       "        docLink.innerHTML = docLinkHtml;\n",
       "        element.appendChild(docLink);\n",
       "      }\n",
       "    </script>\n",
       "  </div>\n",
       "\n",
       "\n",
       "<div id=\"df-81479daf-8960-43fc-890b-feb22662dda1\">\n",
       "  <button class=\"colab-df-quickchart\" onclick=\"quickchart('df-81479daf-8960-43fc-890b-feb22662dda1')\"\n",
       "            title=\"Suggest charts\"\n",
       "            style=\"display:none;\">\n",
       "\n",
       "<svg xmlns=\"http://www.w3.org/2000/svg\" height=\"24px\"viewBox=\"0 0 24 24\"\n",
       "     width=\"24px\">\n",
       "    <g>\n",
       "        <path d=\"M19 3H5c-1.1 0-2 .9-2 2v14c0 1.1.9 2 2 2h14c1.1 0 2-.9 2-2V5c0-1.1-.9-2-2-2zM9 17H7v-7h2v7zm4 0h-2V7h2v10zm4 0h-2v-4h2v4z\"/>\n",
       "    </g>\n",
       "</svg>\n",
       "  </button>\n",
       "\n",
       "<style>\n",
       "  .colab-df-quickchart {\n",
       "      --bg-color: #E8F0FE;\n",
       "      --fill-color: #1967D2;\n",
       "      --hover-bg-color: #E2EBFA;\n",
       "      --hover-fill-color: #174EA6;\n",
       "      --disabled-fill-color: #AAA;\n",
       "      --disabled-bg-color: #DDD;\n",
       "  }\n",
       "\n",
       "  [theme=dark] .colab-df-quickchart {\n",
       "      --bg-color: #3B4455;\n",
       "      --fill-color: #D2E3FC;\n",
       "      --hover-bg-color: #434B5C;\n",
       "      --hover-fill-color: #FFFFFF;\n",
       "      --disabled-bg-color: #3B4455;\n",
       "      --disabled-fill-color: #666;\n",
       "  }\n",
       "\n",
       "  .colab-df-quickchart {\n",
       "    background-color: var(--bg-color);\n",
       "    border: none;\n",
       "    border-radius: 50%;\n",
       "    cursor: pointer;\n",
       "    display: none;\n",
       "    fill: var(--fill-color);\n",
       "    height: 32px;\n",
       "    padding: 0;\n",
       "    width: 32px;\n",
       "  }\n",
       "\n",
       "  .colab-df-quickchart:hover {\n",
       "    background-color: var(--hover-bg-color);\n",
       "    box-shadow: 0 1px 2px rgba(60, 64, 67, 0.3), 0 1px 3px 1px rgba(60, 64, 67, 0.15);\n",
       "    fill: var(--button-hover-fill-color);\n",
       "  }\n",
       "\n",
       "  .colab-df-quickchart-complete:disabled,\n",
       "  .colab-df-quickchart-complete:disabled:hover {\n",
       "    background-color: var(--disabled-bg-color);\n",
       "    fill: var(--disabled-fill-color);\n",
       "    box-shadow: none;\n",
       "  }\n",
       "\n",
       "  .colab-df-spinner {\n",
       "    border: 2px solid var(--fill-color);\n",
       "    border-color: transparent;\n",
       "    border-bottom-color: var(--fill-color);\n",
       "    animation:\n",
       "      spin 1s steps(1) infinite;\n",
       "  }\n",
       "\n",
       "  @keyframes spin {\n",
       "    0% {\n",
       "      border-color: transparent;\n",
       "      border-bottom-color: var(--fill-color);\n",
       "      border-left-color: var(--fill-color);\n",
       "    }\n",
       "    20% {\n",
       "      border-color: transparent;\n",
       "      border-left-color: var(--fill-color);\n",
       "      border-top-color: var(--fill-color);\n",
       "    }\n",
       "    30% {\n",
       "      border-color: transparent;\n",
       "      border-left-color: var(--fill-color);\n",
       "      border-top-color: var(--fill-color);\n",
       "      border-right-color: var(--fill-color);\n",
       "    }\n",
       "    40% {\n",
       "      border-color: transparent;\n",
       "      border-right-color: var(--fill-color);\n",
       "      border-top-color: var(--fill-color);\n",
       "    }\n",
       "    60% {\n",
       "      border-color: transparent;\n",
       "      border-right-color: var(--fill-color);\n",
       "    }\n",
       "    80% {\n",
       "      border-color: transparent;\n",
       "      border-right-color: var(--fill-color);\n",
       "      border-bottom-color: var(--fill-color);\n",
       "    }\n",
       "    90% {\n",
       "      border-color: transparent;\n",
       "      border-bottom-color: var(--fill-color);\n",
       "    }\n",
       "  }\n",
       "</style>\n",
       "\n",
       "  <script>\n",
       "    async function quickchart(key) {\n",
       "      const quickchartButtonEl =\n",
       "        document.querySelector('#' + key + ' button');\n",
       "      quickchartButtonEl.disabled = true;  // To prevent multiple clicks.\n",
       "      quickchartButtonEl.classList.add('colab-df-spinner');\n",
       "      try {\n",
       "        const charts = await google.colab.kernel.invokeFunction(\n",
       "            'suggestCharts', [key], {});\n",
       "      } catch (error) {\n",
       "        console.error('Error during call to suggestCharts:', error);\n",
       "      }\n",
       "      quickchartButtonEl.classList.remove('colab-df-spinner');\n",
       "      quickchartButtonEl.classList.add('colab-df-quickchart-complete');\n",
       "    }\n",
       "    (() => {\n",
       "      let quickchartButtonEl =\n",
       "        document.querySelector('#df-81479daf-8960-43fc-890b-feb22662dda1 button');\n",
       "      quickchartButtonEl.style.display =\n",
       "        google.colab.kernel.accessAllowed ? 'block' : 'none';\n",
       "    })();\n",
       "  </script>\n",
       "</div>\n",
       "    </div>\n",
       "  </div>\n"
      ],
      "text/plain": [
       "Categories_total_clicks      1     2      3\n",
       "cluster                                    \n",
       "0                        37466  8919  22687\n",
       "1                        32827  2481   2211"
      ]
     },
     "execution_count": 160,
     "metadata": {},
     "output_type": "execute_result"
    }
   ],
   "source": [
    "dp1= dfc.pivot_table(\"total_clicks\",[\"cluster\"],[\"Categories_total_clicks\"],aggfunc= {\"Categories_total_clicks\":\"count\"})\n",
    "dp1"
   ]
  },
  {
   "cell_type": "code",
   "execution_count": null,
   "metadata": {
    "colab": {
     "base_uri": "https://localhost:8080/",
     "height": 140
    },
    "id": "GDhKSobWO1kf",
    "outputId": "872e53f8-e57c-48b9-a4a9-f10116f64499"
   },
   "outputs": [
    {
     "data": {
      "text/html": [
       "\n",
       "  <div id=\"df-a8a050ba-66d6-4a7b-a48f-d1dfa78b6866\" class=\"colab-df-container\">\n",
       "    <div>\n",
       "<style scoped>\n",
       "    .dataframe tbody tr th:only-of-type {\n",
       "        vertical-align: middle;\n",
       "    }\n",
       "\n",
       "    .dataframe tbody tr th {\n",
       "        vertical-align: top;\n",
       "    }\n",
       "\n",
       "    .dataframe thead th {\n",
       "        text-align: right;\n",
       "    }\n",
       "</style>\n",
       "<table border=\"1\" class=\"dataframe\">\n",
       "  <thead>\n",
       "    <tr style=\"text-align: right;\">\n",
       "      <th>Categories_distinct_genres_count</th>\n",
       "      <th>1</th>\n",
       "      <th>2</th>\n",
       "    </tr>\n",
       "    <tr>\n",
       "      <th>cluster</th>\n",
       "      <th></th>\n",
       "      <th></th>\n",
       "    </tr>\n",
       "  </thead>\n",
       "  <tbody>\n",
       "    <tr>\n",
       "      <th>0</th>\n",
       "      <td>53104</td>\n",
       "      <td>15968</td>\n",
       "    </tr>\n",
       "    <tr>\n",
       "      <th>1</th>\n",
       "      <td>36257</td>\n",
       "      <td>1262</td>\n",
       "    </tr>\n",
       "  </tbody>\n",
       "</table>\n",
       "</div>\n",
       "    <div class=\"colab-df-buttons\">\n",
       "\n",
       "  <div class=\"colab-df-container\">\n",
       "    <button class=\"colab-df-convert\" onclick=\"convertToInteractive('df-a8a050ba-66d6-4a7b-a48f-d1dfa78b6866')\"\n",
       "            title=\"Convert this dataframe to an interactive table.\"\n",
       "            style=\"display:none;\">\n",
       "\n",
       "  <svg xmlns=\"http://www.w3.org/2000/svg\" height=\"24px\" viewBox=\"0 -960 960 960\">\n",
       "    <path d=\"M120-120v-720h720v720H120Zm60-500h600v-160H180v160Zm220 220h160v-160H400v160Zm0 220h160v-160H400v160ZM180-400h160v-160H180v160Zm440 0h160v-160H620v160ZM180-180h160v-160H180v160Zm440 0h160v-160H620v160Z\"/>\n",
       "  </svg>\n",
       "    </button>\n",
       "\n",
       "  <style>\n",
       "    .colab-df-container {\n",
       "      display:flex;\n",
       "      gap: 12px;\n",
       "    }\n",
       "\n",
       "    .colab-df-convert {\n",
       "      background-color: #E8F0FE;\n",
       "      border: none;\n",
       "      border-radius: 50%;\n",
       "      cursor: pointer;\n",
       "      display: none;\n",
       "      fill: #1967D2;\n",
       "      height: 32px;\n",
       "      padding: 0 0 0 0;\n",
       "      width: 32px;\n",
       "    }\n",
       "\n",
       "    .colab-df-convert:hover {\n",
       "      background-color: #E2EBFA;\n",
       "      box-shadow: 0px 1px 2px rgba(60, 64, 67, 0.3), 0px 1px 3px 1px rgba(60, 64, 67, 0.15);\n",
       "      fill: #174EA6;\n",
       "    }\n",
       "\n",
       "    .colab-df-buttons div {\n",
       "      margin-bottom: 4px;\n",
       "    }\n",
       "\n",
       "    [theme=dark] .colab-df-convert {\n",
       "      background-color: #3B4455;\n",
       "      fill: #D2E3FC;\n",
       "    }\n",
       "\n",
       "    [theme=dark] .colab-df-convert:hover {\n",
       "      background-color: #434B5C;\n",
       "      box-shadow: 0px 1px 3px 1px rgba(0, 0, 0, 0.15);\n",
       "      filter: drop-shadow(0px 1px 2px rgba(0, 0, 0, 0.3));\n",
       "      fill: #FFFFFF;\n",
       "    }\n",
       "  </style>\n",
       "\n",
       "    <script>\n",
       "      const buttonEl =\n",
       "        document.querySelector('#df-a8a050ba-66d6-4a7b-a48f-d1dfa78b6866 button.colab-df-convert');\n",
       "      buttonEl.style.display =\n",
       "        google.colab.kernel.accessAllowed ? 'block' : 'none';\n",
       "\n",
       "      async function convertToInteractive(key) {\n",
       "        const element = document.querySelector('#df-a8a050ba-66d6-4a7b-a48f-d1dfa78b6866');\n",
       "        const dataTable =\n",
       "          await google.colab.kernel.invokeFunction('convertToInteractive',\n",
       "                                                    [key], {});\n",
       "        if (!dataTable) return;\n",
       "\n",
       "        const docLinkHtml = 'Like what you see? Visit the ' +\n",
       "          '<a target=\"_blank\" href=https://colab.research.google.com/notebooks/data_table.ipynb>data table notebook</a>'\n",
       "          + ' to learn more about interactive tables.';\n",
       "        element.innerHTML = '';\n",
       "        dataTable['output_type'] = 'display_data';\n",
       "        await google.colab.output.renderOutput(dataTable, element);\n",
       "        const docLink = document.createElement('div');\n",
       "        docLink.innerHTML = docLinkHtml;\n",
       "        element.appendChild(docLink);\n",
       "      }\n",
       "    </script>\n",
       "  </div>\n",
       "\n",
       "\n",
       "<div id=\"df-234b5f89-da23-4d69-9015-3d2595b58617\">\n",
       "  <button class=\"colab-df-quickchart\" onclick=\"quickchart('df-234b5f89-da23-4d69-9015-3d2595b58617')\"\n",
       "            title=\"Suggest charts\"\n",
       "            style=\"display:none;\">\n",
       "\n",
       "<svg xmlns=\"http://www.w3.org/2000/svg\" height=\"24px\"viewBox=\"0 0 24 24\"\n",
       "     width=\"24px\">\n",
       "    <g>\n",
       "        <path d=\"M19 3H5c-1.1 0-2 .9-2 2v14c0 1.1.9 2 2 2h14c1.1 0 2-.9 2-2V5c0-1.1-.9-2-2-2zM9 17H7v-7h2v7zm4 0h-2V7h2v10zm4 0h-2v-4h2v4z\"/>\n",
       "    </g>\n",
       "</svg>\n",
       "  </button>\n",
       "\n",
       "<style>\n",
       "  .colab-df-quickchart {\n",
       "      --bg-color: #E8F0FE;\n",
       "      --fill-color: #1967D2;\n",
       "      --hover-bg-color: #E2EBFA;\n",
       "      --hover-fill-color: #174EA6;\n",
       "      --disabled-fill-color: #AAA;\n",
       "      --disabled-bg-color: #DDD;\n",
       "  }\n",
       "\n",
       "  [theme=dark] .colab-df-quickchart {\n",
       "      --bg-color: #3B4455;\n",
       "      --fill-color: #D2E3FC;\n",
       "      --hover-bg-color: #434B5C;\n",
       "      --hover-fill-color: #FFFFFF;\n",
       "      --disabled-bg-color: #3B4455;\n",
       "      --disabled-fill-color: #666;\n",
       "  }\n",
       "\n",
       "  .colab-df-quickchart {\n",
       "    background-color: var(--bg-color);\n",
       "    border: none;\n",
       "    border-radius: 50%;\n",
       "    cursor: pointer;\n",
       "    display: none;\n",
       "    fill: var(--fill-color);\n",
       "    height: 32px;\n",
       "    padding: 0;\n",
       "    width: 32px;\n",
       "  }\n",
       "\n",
       "  .colab-df-quickchart:hover {\n",
       "    background-color: var(--hover-bg-color);\n",
       "    box-shadow: 0 1px 2px rgba(60, 64, 67, 0.3), 0 1px 3px 1px rgba(60, 64, 67, 0.15);\n",
       "    fill: var(--button-hover-fill-color);\n",
       "  }\n",
       "\n",
       "  .colab-df-quickchart-complete:disabled,\n",
       "  .colab-df-quickchart-complete:disabled:hover {\n",
       "    background-color: var(--disabled-bg-color);\n",
       "    fill: var(--disabled-fill-color);\n",
       "    box-shadow: none;\n",
       "  }\n",
       "\n",
       "  .colab-df-spinner {\n",
       "    border: 2px solid var(--fill-color);\n",
       "    border-color: transparent;\n",
       "    border-bottom-color: var(--fill-color);\n",
       "    animation:\n",
       "      spin 1s steps(1) infinite;\n",
       "  }\n",
       "\n",
       "  @keyframes spin {\n",
       "    0% {\n",
       "      border-color: transparent;\n",
       "      border-bottom-color: var(--fill-color);\n",
       "      border-left-color: var(--fill-color);\n",
       "    }\n",
       "    20% {\n",
       "      border-color: transparent;\n",
       "      border-left-color: var(--fill-color);\n",
       "      border-top-color: var(--fill-color);\n",
       "    }\n",
       "    30% {\n",
       "      border-color: transparent;\n",
       "      border-left-color: var(--fill-color);\n",
       "      border-top-color: var(--fill-color);\n",
       "      border-right-color: var(--fill-color);\n",
       "    }\n",
       "    40% {\n",
       "      border-color: transparent;\n",
       "      border-right-color: var(--fill-color);\n",
       "      border-top-color: var(--fill-color);\n",
       "    }\n",
       "    60% {\n",
       "      border-color: transparent;\n",
       "      border-right-color: var(--fill-color);\n",
       "    }\n",
       "    80% {\n",
       "      border-color: transparent;\n",
       "      border-right-color: var(--fill-color);\n",
       "      border-bottom-color: var(--fill-color);\n",
       "    }\n",
       "    90% {\n",
       "      border-color: transparent;\n",
       "      border-bottom-color: var(--fill-color);\n",
       "    }\n",
       "  }\n",
       "</style>\n",
       "\n",
       "  <script>\n",
       "    async function quickchart(key) {\n",
       "      const quickchartButtonEl =\n",
       "        document.querySelector('#' + key + ' button');\n",
       "      quickchartButtonEl.disabled = true;  // To prevent multiple clicks.\n",
       "      quickchartButtonEl.classList.add('colab-df-spinner');\n",
       "      try {\n",
       "        const charts = await google.colab.kernel.invokeFunction(\n",
       "            'suggestCharts', [key], {});\n",
       "      } catch (error) {\n",
       "        console.error('Error during call to suggestCharts:', error);\n",
       "      }\n",
       "      quickchartButtonEl.classList.remove('colab-df-spinner');\n",
       "      quickchartButtonEl.classList.add('colab-df-quickchart-complete');\n",
       "    }\n",
       "    (() => {\n",
       "      let quickchartButtonEl =\n",
       "        document.querySelector('#df-234b5f89-da23-4d69-9015-3d2595b58617 button');\n",
       "      quickchartButtonEl.style.display =\n",
       "        google.colab.kernel.accessAllowed ? 'block' : 'none';\n",
       "    })();\n",
       "  </script>\n",
       "</div>\n",
       "    </div>\n",
       "  </div>\n"
      ],
      "text/plain": [
       "Categories_distinct_genres_count      1      2\n",
       "cluster                                       \n",
       "0                                 53104  15968\n",
       "1                                 36257   1262"
      ]
     },
     "execution_count": 161,
     "metadata": {},
     "output_type": "execute_result"
    }
   ],
   "source": [
    "dp2= dfc.pivot_table(\"distinct_genres_count\",[\"cluster\"],[\"Categories_distinct_genres_count\"],aggfunc= {\"Categories_distinct_genres_count\":\"count\"})\n",
    "dp2"
   ]
  },
  {
   "cell_type": "code",
   "execution_count": null,
   "metadata": {
    "colab": {
     "base_uri": "https://localhost:8080/",
     "height": 140
    },
    "id": "fnNCWaTuPALq",
    "outputId": "5e833a80-3b07-416e-cba1-b1af599be96f"
   },
   "outputs": [
    {
     "data": {
      "text/html": [
       "\n",
       "  <div id=\"df-0e891c25-6b8f-44ee-92fe-816ecd36205b\" class=\"colab-df-container\">\n",
       "    <div>\n",
       "<style scoped>\n",
       "    .dataframe tbody tr th:only-of-type {\n",
       "        vertical-align: middle;\n",
       "    }\n",
       "\n",
       "    .dataframe tbody tr th {\n",
       "        vertical-align: top;\n",
       "    }\n",
       "\n",
       "    .dataframe thead th {\n",
       "        text-align: right;\n",
       "    }\n",
       "</style>\n",
       "<table border=\"1\" class=\"dataframe\">\n",
       "  <thead>\n",
       "    <tr style=\"text-align: right;\">\n",
       "      <th>Categories_days_active</th>\n",
       "      <th>1</th>\n",
       "      <th>2</th>\n",
       "    </tr>\n",
       "    <tr>\n",
       "      <th>cluster</th>\n",
       "      <th></th>\n",
       "      <th></th>\n",
       "    </tr>\n",
       "  </thead>\n",
       "  <tbody>\n",
       "    <tr>\n",
       "      <th>0</th>\n",
       "      <td>44773</td>\n",
       "      <td>24299</td>\n",
       "    </tr>\n",
       "    <tr>\n",
       "      <th>1</th>\n",
       "      <td>35857</td>\n",
       "      <td>1662</td>\n",
       "    </tr>\n",
       "  </tbody>\n",
       "</table>\n",
       "</div>\n",
       "    <div class=\"colab-df-buttons\">\n",
       "\n",
       "  <div class=\"colab-df-container\">\n",
       "    <button class=\"colab-df-convert\" onclick=\"convertToInteractive('df-0e891c25-6b8f-44ee-92fe-816ecd36205b')\"\n",
       "            title=\"Convert this dataframe to an interactive table.\"\n",
       "            style=\"display:none;\">\n",
       "\n",
       "  <svg xmlns=\"http://www.w3.org/2000/svg\" height=\"24px\" viewBox=\"0 -960 960 960\">\n",
       "    <path d=\"M120-120v-720h720v720H120Zm60-500h600v-160H180v160Zm220 220h160v-160H400v160Zm0 220h160v-160H400v160ZM180-400h160v-160H180v160Zm440 0h160v-160H620v160ZM180-180h160v-160H180v160Zm440 0h160v-160H620v160Z\"/>\n",
       "  </svg>\n",
       "    </button>\n",
       "\n",
       "  <style>\n",
       "    .colab-df-container {\n",
       "      display:flex;\n",
       "      gap: 12px;\n",
       "    }\n",
       "\n",
       "    .colab-df-convert {\n",
       "      background-color: #E8F0FE;\n",
       "      border: none;\n",
       "      border-radius: 50%;\n",
       "      cursor: pointer;\n",
       "      display: none;\n",
       "      fill: #1967D2;\n",
       "      height: 32px;\n",
       "      padding: 0 0 0 0;\n",
       "      width: 32px;\n",
       "    }\n",
       "\n",
       "    .colab-df-convert:hover {\n",
       "      background-color: #E2EBFA;\n",
       "      box-shadow: 0px 1px 2px rgba(60, 64, 67, 0.3), 0px 1px 3px 1px rgba(60, 64, 67, 0.15);\n",
       "      fill: #174EA6;\n",
       "    }\n",
       "\n",
       "    .colab-df-buttons div {\n",
       "      margin-bottom: 4px;\n",
       "    }\n",
       "\n",
       "    [theme=dark] .colab-df-convert {\n",
       "      background-color: #3B4455;\n",
       "      fill: #D2E3FC;\n",
       "    }\n",
       "\n",
       "    [theme=dark] .colab-df-convert:hover {\n",
       "      background-color: #434B5C;\n",
       "      box-shadow: 0px 1px 3px 1px rgba(0, 0, 0, 0.15);\n",
       "      filter: drop-shadow(0px 1px 2px rgba(0, 0, 0, 0.3));\n",
       "      fill: #FFFFFF;\n",
       "    }\n",
       "  </style>\n",
       "\n",
       "    <script>\n",
       "      const buttonEl =\n",
       "        document.querySelector('#df-0e891c25-6b8f-44ee-92fe-816ecd36205b button.colab-df-convert');\n",
       "      buttonEl.style.display =\n",
       "        google.colab.kernel.accessAllowed ? 'block' : 'none';\n",
       "\n",
       "      async function convertToInteractive(key) {\n",
       "        const element = document.querySelector('#df-0e891c25-6b8f-44ee-92fe-816ecd36205b');\n",
       "        const dataTable =\n",
       "          await google.colab.kernel.invokeFunction('convertToInteractive',\n",
       "                                                    [key], {});\n",
       "        if (!dataTable) return;\n",
       "\n",
       "        const docLinkHtml = 'Like what you see? Visit the ' +\n",
       "          '<a target=\"_blank\" href=https://colab.research.google.com/notebooks/data_table.ipynb>data table notebook</a>'\n",
       "          + ' to learn more about interactive tables.';\n",
       "        element.innerHTML = '';\n",
       "        dataTable['output_type'] = 'display_data';\n",
       "        await google.colab.output.renderOutput(dataTable, element);\n",
       "        const docLink = document.createElement('div');\n",
       "        docLink.innerHTML = docLinkHtml;\n",
       "        element.appendChild(docLink);\n",
       "      }\n",
       "    </script>\n",
       "  </div>\n",
       "\n",
       "\n",
       "<div id=\"df-54e5cbc4-fef3-4c8c-9fc6-e3054a54fbfb\">\n",
       "  <button class=\"colab-df-quickchart\" onclick=\"quickchart('df-54e5cbc4-fef3-4c8c-9fc6-e3054a54fbfb')\"\n",
       "            title=\"Suggest charts\"\n",
       "            style=\"display:none;\">\n",
       "\n",
       "<svg xmlns=\"http://www.w3.org/2000/svg\" height=\"24px\"viewBox=\"0 0 24 24\"\n",
       "     width=\"24px\">\n",
       "    <g>\n",
       "        <path d=\"M19 3H5c-1.1 0-2 .9-2 2v14c0 1.1.9 2 2 2h14c1.1 0 2-.9 2-2V5c0-1.1-.9-2-2-2zM9 17H7v-7h2v7zm4 0h-2V7h2v10zm4 0h-2v-4h2v4z\"/>\n",
       "    </g>\n",
       "</svg>\n",
       "  </button>\n",
       "\n",
       "<style>\n",
       "  .colab-df-quickchart {\n",
       "      --bg-color: #E8F0FE;\n",
       "      --fill-color: #1967D2;\n",
       "      --hover-bg-color: #E2EBFA;\n",
       "      --hover-fill-color: #174EA6;\n",
       "      --disabled-fill-color: #AAA;\n",
       "      --disabled-bg-color: #DDD;\n",
       "  }\n",
       "\n",
       "  [theme=dark] .colab-df-quickchart {\n",
       "      --bg-color: #3B4455;\n",
       "      --fill-color: #D2E3FC;\n",
       "      --hover-bg-color: #434B5C;\n",
       "      --hover-fill-color: #FFFFFF;\n",
       "      --disabled-bg-color: #3B4455;\n",
       "      --disabled-fill-color: #666;\n",
       "  }\n",
       "\n",
       "  .colab-df-quickchart {\n",
       "    background-color: var(--bg-color);\n",
       "    border: none;\n",
       "    border-radius: 50%;\n",
       "    cursor: pointer;\n",
       "    display: none;\n",
       "    fill: var(--fill-color);\n",
       "    height: 32px;\n",
       "    padding: 0;\n",
       "    width: 32px;\n",
       "  }\n",
       "\n",
       "  .colab-df-quickchart:hover {\n",
       "    background-color: var(--hover-bg-color);\n",
       "    box-shadow: 0 1px 2px rgba(60, 64, 67, 0.3), 0 1px 3px 1px rgba(60, 64, 67, 0.15);\n",
       "    fill: var(--button-hover-fill-color);\n",
       "  }\n",
       "\n",
       "  .colab-df-quickchart-complete:disabled,\n",
       "  .colab-df-quickchart-complete:disabled:hover {\n",
       "    background-color: var(--disabled-bg-color);\n",
       "    fill: var(--disabled-fill-color);\n",
       "    box-shadow: none;\n",
       "  }\n",
       "\n",
       "  .colab-df-spinner {\n",
       "    border: 2px solid var(--fill-color);\n",
       "    border-color: transparent;\n",
       "    border-bottom-color: var(--fill-color);\n",
       "    animation:\n",
       "      spin 1s steps(1) infinite;\n",
       "  }\n",
       "\n",
       "  @keyframes spin {\n",
       "    0% {\n",
       "      border-color: transparent;\n",
       "      border-bottom-color: var(--fill-color);\n",
       "      border-left-color: var(--fill-color);\n",
       "    }\n",
       "    20% {\n",
       "      border-color: transparent;\n",
       "      border-left-color: var(--fill-color);\n",
       "      border-top-color: var(--fill-color);\n",
       "    }\n",
       "    30% {\n",
       "      border-color: transparent;\n",
       "      border-left-color: var(--fill-color);\n",
       "      border-top-color: var(--fill-color);\n",
       "      border-right-color: var(--fill-color);\n",
       "    }\n",
       "    40% {\n",
       "      border-color: transparent;\n",
       "      border-right-color: var(--fill-color);\n",
       "      border-top-color: var(--fill-color);\n",
       "    }\n",
       "    60% {\n",
       "      border-color: transparent;\n",
       "      border-right-color: var(--fill-color);\n",
       "    }\n",
       "    80% {\n",
       "      border-color: transparent;\n",
       "      border-right-color: var(--fill-color);\n",
       "      border-bottom-color: var(--fill-color);\n",
       "    }\n",
       "    90% {\n",
       "      border-color: transparent;\n",
       "      border-bottom-color: var(--fill-color);\n",
       "    }\n",
       "  }\n",
       "</style>\n",
       "\n",
       "  <script>\n",
       "    async function quickchart(key) {\n",
       "      const quickchartButtonEl =\n",
       "        document.querySelector('#' + key + ' button');\n",
       "      quickchartButtonEl.disabled = true;  // To prevent multiple clicks.\n",
       "      quickchartButtonEl.classList.add('colab-df-spinner');\n",
       "      try {\n",
       "        const charts = await google.colab.kernel.invokeFunction(\n",
       "            'suggestCharts', [key], {});\n",
       "      } catch (error) {\n",
       "        console.error('Error during call to suggestCharts:', error);\n",
       "      }\n",
       "      quickchartButtonEl.classList.remove('colab-df-spinner');\n",
       "      quickchartButtonEl.classList.add('colab-df-quickchart-complete');\n",
       "    }\n",
       "    (() => {\n",
       "      let quickchartButtonEl =\n",
       "        document.querySelector('#df-54e5cbc4-fef3-4c8c-9fc6-e3054a54fbfb button');\n",
       "      quickchartButtonEl.style.display =\n",
       "        google.colab.kernel.accessAllowed ? 'block' : 'none';\n",
       "    })();\n",
       "  </script>\n",
       "</div>\n",
       "    </div>\n",
       "  </div>\n"
      ],
      "text/plain": [
       "Categories_days_active      1      2\n",
       "cluster                             \n",
       "0                       44773  24299\n",
       "1                       35857   1662"
      ]
     },
     "execution_count": 162,
     "metadata": {},
     "output_type": "execute_result"
    }
   ],
   "source": [
    "dp3=dfc.pivot_table(\"days_active\",[\"cluster\"],[\"Categories_days_active\"],aggfunc= {\"Categories_days_active\":\"count\"})\n",
    "dp3"
   ]
  },
  {
   "cell_type": "markdown",
   "metadata": {
    "id": "tBbUTBKvVxy-"
   },
   "source": [
    "#### **2.4.4 calculate the percentage by column for each pivot table. The sum of each row (cluster) must be 100. The sample example for clustering with K = 4 and Time_Day variable:**\n",
    "\n",
    "| Time_Day | Afternoon | Morning | Night |\n",
    "|---|---|---|---|\n",
    "| Cluster 1 | 3 | 94 | 3 |\n",
    "| Cluster 2 | 83 | 5 | 12 |\n",
    "| Cluster 3 | 16 | 10 | 74 |\n",
    "| Cluster 4 | 34 | 18 | 48 |\n"
   ]
  },
  {
   "cell_type": "code",
   "execution_count": null,
   "metadata": {
    "colab": {
     "base_uri": "https://localhost:8080/",
     "height": 140
    },
    "id": "j4PtYITyWlWr",
    "outputId": "3db0d9b7-858c-41b9-966c-5d0d213439d0"
   },
   "outputs": [
    {
     "data": {
      "text/html": [
       "\n",
       "  <div id=\"df-928e1bda-bd84-4cdd-a649-8e69ba7f17e6\" class=\"colab-df-container\">\n",
       "    <div>\n",
       "<style scoped>\n",
       "    .dataframe tbody tr th:only-of-type {\n",
       "        vertical-align: middle;\n",
       "    }\n",
       "\n",
       "    .dataframe tbody tr th {\n",
       "        vertical-align: top;\n",
       "    }\n",
       "\n",
       "    .dataframe thead th {\n",
       "        text-align: right;\n",
       "    }\n",
       "</style>\n",
       "<table border=\"1\" class=\"dataframe\">\n",
       "  <thead>\n",
       "    <tr style=\"text-align: right;\">\n",
       "      <th>Categories_total_clicks</th>\n",
       "      <th>1</th>\n",
       "      <th>2</th>\n",
       "      <th>3</th>\n",
       "    </tr>\n",
       "    <tr>\n",
       "      <th>cluster</th>\n",
       "      <th></th>\n",
       "      <th></th>\n",
       "      <th></th>\n",
       "    </tr>\n",
       "  </thead>\n",
       "  <tbody>\n",
       "    <tr>\n",
       "      <th>0</th>\n",
       "      <td>54.241950</td>\n",
       "      <td>12.912613</td>\n",
       "      <td>32.845437</td>\n",
       "    </tr>\n",
       "    <tr>\n",
       "      <th>1</th>\n",
       "      <td>87.494336</td>\n",
       "      <td>6.612650</td>\n",
       "      <td>5.893014</td>\n",
       "    </tr>\n",
       "  </tbody>\n",
       "</table>\n",
       "</div>\n",
       "    <div class=\"colab-df-buttons\">\n",
       "\n",
       "  <div class=\"colab-df-container\">\n",
       "    <button class=\"colab-df-convert\" onclick=\"convertToInteractive('df-928e1bda-bd84-4cdd-a649-8e69ba7f17e6')\"\n",
       "            title=\"Convert this dataframe to an interactive table.\"\n",
       "            style=\"display:none;\">\n",
       "\n",
       "  <svg xmlns=\"http://www.w3.org/2000/svg\" height=\"24px\" viewBox=\"0 -960 960 960\">\n",
       "    <path d=\"M120-120v-720h720v720H120Zm60-500h600v-160H180v160Zm220 220h160v-160H400v160Zm0 220h160v-160H400v160ZM180-400h160v-160H180v160Zm440 0h160v-160H620v160ZM180-180h160v-160H180v160Zm440 0h160v-160H620v160Z\"/>\n",
       "  </svg>\n",
       "    </button>\n",
       "\n",
       "  <style>\n",
       "    .colab-df-container {\n",
       "      display:flex;\n",
       "      gap: 12px;\n",
       "    }\n",
       "\n",
       "    .colab-df-convert {\n",
       "      background-color: #E8F0FE;\n",
       "      border: none;\n",
       "      border-radius: 50%;\n",
       "      cursor: pointer;\n",
       "      display: none;\n",
       "      fill: #1967D2;\n",
       "      height: 32px;\n",
       "      padding: 0 0 0 0;\n",
       "      width: 32px;\n",
       "    }\n",
       "\n",
       "    .colab-df-convert:hover {\n",
       "      background-color: #E2EBFA;\n",
       "      box-shadow: 0px 1px 2px rgba(60, 64, 67, 0.3), 0px 1px 3px 1px rgba(60, 64, 67, 0.15);\n",
       "      fill: #174EA6;\n",
       "    }\n",
       "\n",
       "    .colab-df-buttons div {\n",
       "      margin-bottom: 4px;\n",
       "    }\n",
       "\n",
       "    [theme=dark] .colab-df-convert {\n",
       "      background-color: #3B4455;\n",
       "      fill: #D2E3FC;\n",
       "    }\n",
       "\n",
       "    [theme=dark] .colab-df-convert:hover {\n",
       "      background-color: #434B5C;\n",
       "      box-shadow: 0px 1px 3px 1px rgba(0, 0, 0, 0.15);\n",
       "      filter: drop-shadow(0px 1px 2px rgba(0, 0, 0, 0.3));\n",
       "      fill: #FFFFFF;\n",
       "    }\n",
       "  </style>\n",
       "\n",
       "    <script>\n",
       "      const buttonEl =\n",
       "        document.querySelector('#df-928e1bda-bd84-4cdd-a649-8e69ba7f17e6 button.colab-df-convert');\n",
       "      buttonEl.style.display =\n",
       "        google.colab.kernel.accessAllowed ? 'block' : 'none';\n",
       "\n",
       "      async function convertToInteractive(key) {\n",
       "        const element = document.querySelector('#df-928e1bda-bd84-4cdd-a649-8e69ba7f17e6');\n",
       "        const dataTable =\n",
       "          await google.colab.kernel.invokeFunction('convertToInteractive',\n",
       "                                                    [key], {});\n",
       "        if (!dataTable) return;\n",
       "\n",
       "        const docLinkHtml = 'Like what you see? Visit the ' +\n",
       "          '<a target=\"_blank\" href=https://colab.research.google.com/notebooks/data_table.ipynb>data table notebook</a>'\n",
       "          + ' to learn more about interactive tables.';\n",
       "        element.innerHTML = '';\n",
       "        dataTable['output_type'] = 'display_data';\n",
       "        await google.colab.output.renderOutput(dataTable, element);\n",
       "        const docLink = document.createElement('div');\n",
       "        docLink.innerHTML = docLinkHtml;\n",
       "        element.appendChild(docLink);\n",
       "      }\n",
       "    </script>\n",
       "  </div>\n",
       "\n",
       "\n",
       "<div id=\"df-28dd5b40-14f3-4e5c-9b1a-20eed0150cbb\">\n",
       "  <button class=\"colab-df-quickchart\" onclick=\"quickchart('df-28dd5b40-14f3-4e5c-9b1a-20eed0150cbb')\"\n",
       "            title=\"Suggest charts\"\n",
       "            style=\"display:none;\">\n",
       "\n",
       "<svg xmlns=\"http://www.w3.org/2000/svg\" height=\"24px\"viewBox=\"0 0 24 24\"\n",
       "     width=\"24px\">\n",
       "    <g>\n",
       "        <path d=\"M19 3H5c-1.1 0-2 .9-2 2v14c0 1.1.9 2 2 2h14c1.1 0 2-.9 2-2V5c0-1.1-.9-2-2-2zM9 17H7v-7h2v7zm4 0h-2V7h2v10zm4 0h-2v-4h2v4z\"/>\n",
       "    </g>\n",
       "</svg>\n",
       "  </button>\n",
       "\n",
       "<style>\n",
       "  .colab-df-quickchart {\n",
       "      --bg-color: #E8F0FE;\n",
       "      --fill-color: #1967D2;\n",
       "      --hover-bg-color: #E2EBFA;\n",
       "      --hover-fill-color: #174EA6;\n",
       "      --disabled-fill-color: #AAA;\n",
       "      --disabled-bg-color: #DDD;\n",
       "  }\n",
       "\n",
       "  [theme=dark] .colab-df-quickchart {\n",
       "      --bg-color: #3B4455;\n",
       "      --fill-color: #D2E3FC;\n",
       "      --hover-bg-color: #434B5C;\n",
       "      --hover-fill-color: #FFFFFF;\n",
       "      --disabled-bg-color: #3B4455;\n",
       "      --disabled-fill-color: #666;\n",
       "  }\n",
       "\n",
       "  .colab-df-quickchart {\n",
       "    background-color: var(--bg-color);\n",
       "    border: none;\n",
       "    border-radius: 50%;\n",
       "    cursor: pointer;\n",
       "    display: none;\n",
       "    fill: var(--fill-color);\n",
       "    height: 32px;\n",
       "    padding: 0;\n",
       "    width: 32px;\n",
       "  }\n",
       "\n",
       "  .colab-df-quickchart:hover {\n",
       "    background-color: var(--hover-bg-color);\n",
       "    box-shadow: 0 1px 2px rgba(60, 64, 67, 0.3), 0 1px 3px 1px rgba(60, 64, 67, 0.15);\n",
       "    fill: var(--button-hover-fill-color);\n",
       "  }\n",
       "\n",
       "  .colab-df-quickchart-complete:disabled,\n",
       "  .colab-df-quickchart-complete:disabled:hover {\n",
       "    background-color: var(--disabled-bg-color);\n",
       "    fill: var(--disabled-fill-color);\n",
       "    box-shadow: none;\n",
       "  }\n",
       "\n",
       "  .colab-df-spinner {\n",
       "    border: 2px solid var(--fill-color);\n",
       "    border-color: transparent;\n",
       "    border-bottom-color: var(--fill-color);\n",
       "    animation:\n",
       "      spin 1s steps(1) infinite;\n",
       "  }\n",
       "\n",
       "  @keyframes spin {\n",
       "    0% {\n",
       "      border-color: transparent;\n",
       "      border-bottom-color: var(--fill-color);\n",
       "      border-left-color: var(--fill-color);\n",
       "    }\n",
       "    20% {\n",
       "      border-color: transparent;\n",
       "      border-left-color: var(--fill-color);\n",
       "      border-top-color: var(--fill-color);\n",
       "    }\n",
       "    30% {\n",
       "      border-color: transparent;\n",
       "      border-left-color: var(--fill-color);\n",
       "      border-top-color: var(--fill-color);\n",
       "      border-right-color: var(--fill-color);\n",
       "    }\n",
       "    40% {\n",
       "      border-color: transparent;\n",
       "      border-right-color: var(--fill-color);\n",
       "      border-top-color: var(--fill-color);\n",
       "    }\n",
       "    60% {\n",
       "      border-color: transparent;\n",
       "      border-right-color: var(--fill-color);\n",
       "    }\n",
       "    80% {\n",
       "      border-color: transparent;\n",
       "      border-right-color: var(--fill-color);\n",
       "      border-bottom-color: var(--fill-color);\n",
       "    }\n",
       "    90% {\n",
       "      border-color: transparent;\n",
       "      border-bottom-color: var(--fill-color);\n",
       "    }\n",
       "  }\n",
       "</style>\n",
       "\n",
       "  <script>\n",
       "    async function quickchart(key) {\n",
       "      const quickchartButtonEl =\n",
       "        document.querySelector('#' + key + ' button');\n",
       "      quickchartButtonEl.disabled = true;  // To prevent multiple clicks.\n",
       "      quickchartButtonEl.classList.add('colab-df-spinner');\n",
       "      try {\n",
       "        const charts = await google.colab.kernel.invokeFunction(\n",
       "            'suggestCharts', [key], {});\n",
       "      } catch (error) {\n",
       "        console.error('Error during call to suggestCharts:', error);\n",
       "      }\n",
       "      quickchartButtonEl.classList.remove('colab-df-spinner');\n",
       "      quickchartButtonEl.classList.add('colab-df-quickchart-complete');\n",
       "    }\n",
       "    (() => {\n",
       "      let quickchartButtonEl =\n",
       "        document.querySelector('#df-28dd5b40-14f3-4e5c-9b1a-20eed0150cbb button');\n",
       "      quickchartButtonEl.style.display =\n",
       "        google.colab.kernel.accessAllowed ? 'block' : 'none';\n",
       "    })();\n",
       "  </script>\n",
       "</div>\n",
       "    </div>\n",
       "  </div>\n"
      ],
      "text/plain": [
       "Categories_total_clicks          1          2          3\n",
       "cluster                                                 \n",
       "0                        54.241950  12.912613  32.845437\n",
       "1                        87.494336   6.612650   5.893014"
      ]
     },
     "execution_count": 163,
     "metadata": {},
     "output_type": "execute_result"
    }
   ],
   "source": [
    "dp1_percentage = dp1.apply(lambda x: x / x.sum() * 100, axis=1)\n",
    "dp1_percentage"
   ]
  },
  {
   "cell_type": "code",
   "execution_count": null,
   "metadata": {
    "colab": {
     "base_uri": "https://localhost:8080/",
     "height": 140
    },
    "id": "wboGv1o_SUB9",
    "outputId": "4c09f88f-ad85-4d63-fe40-61cb5cac6163"
   },
   "outputs": [
    {
     "data": {
      "text/html": [
       "\n",
       "  <div id=\"df-97b8c7f0-fccb-40c8-83a6-2d2dd2fb17f0\" class=\"colab-df-container\">\n",
       "    <div>\n",
       "<style scoped>\n",
       "    .dataframe tbody tr th:only-of-type {\n",
       "        vertical-align: middle;\n",
       "    }\n",
       "\n",
       "    .dataframe tbody tr th {\n",
       "        vertical-align: top;\n",
       "    }\n",
       "\n",
       "    .dataframe thead th {\n",
       "        text-align: right;\n",
       "    }\n",
       "</style>\n",
       "<table border=\"1\" class=\"dataframe\">\n",
       "  <thead>\n",
       "    <tr style=\"text-align: right;\">\n",
       "      <th>Categories_distinct_genres_count</th>\n",
       "      <th>1</th>\n",
       "      <th>2</th>\n",
       "    </tr>\n",
       "    <tr>\n",
       "      <th>cluster</th>\n",
       "      <th></th>\n",
       "      <th></th>\n",
       "    </tr>\n",
       "  </thead>\n",
       "  <tbody>\n",
       "    <tr>\n",
       "      <th>0</th>\n",
       "      <td>76.882094</td>\n",
       "      <td>23.117906</td>\n",
       "    </tr>\n",
       "    <tr>\n",
       "      <th>1</th>\n",
       "      <td>96.636371</td>\n",
       "      <td>3.363629</td>\n",
       "    </tr>\n",
       "  </tbody>\n",
       "</table>\n",
       "</div>\n",
       "    <div class=\"colab-df-buttons\">\n",
       "\n",
       "  <div class=\"colab-df-container\">\n",
       "    <button class=\"colab-df-convert\" onclick=\"convertToInteractive('df-97b8c7f0-fccb-40c8-83a6-2d2dd2fb17f0')\"\n",
       "            title=\"Convert this dataframe to an interactive table.\"\n",
       "            style=\"display:none;\">\n",
       "\n",
       "  <svg xmlns=\"http://www.w3.org/2000/svg\" height=\"24px\" viewBox=\"0 -960 960 960\">\n",
       "    <path d=\"M120-120v-720h720v720H120Zm60-500h600v-160H180v160Zm220 220h160v-160H400v160Zm0 220h160v-160H400v160ZM180-400h160v-160H180v160Zm440 0h160v-160H620v160ZM180-180h160v-160H180v160Zm440 0h160v-160H620v160Z\"/>\n",
       "  </svg>\n",
       "    </button>\n",
       "\n",
       "  <style>\n",
       "    .colab-df-container {\n",
       "      display:flex;\n",
       "      gap: 12px;\n",
       "    }\n",
       "\n",
       "    .colab-df-convert {\n",
       "      background-color: #E8F0FE;\n",
       "      border: none;\n",
       "      border-radius: 50%;\n",
       "      cursor: pointer;\n",
       "      display: none;\n",
       "      fill: #1967D2;\n",
       "      height: 32px;\n",
       "      padding: 0 0 0 0;\n",
       "      width: 32px;\n",
       "    }\n",
       "\n",
       "    .colab-df-convert:hover {\n",
       "      background-color: #E2EBFA;\n",
       "      box-shadow: 0px 1px 2px rgba(60, 64, 67, 0.3), 0px 1px 3px 1px rgba(60, 64, 67, 0.15);\n",
       "      fill: #174EA6;\n",
       "    }\n",
       "\n",
       "    .colab-df-buttons div {\n",
       "      margin-bottom: 4px;\n",
       "    }\n",
       "\n",
       "    [theme=dark] .colab-df-convert {\n",
       "      background-color: #3B4455;\n",
       "      fill: #D2E3FC;\n",
       "    }\n",
       "\n",
       "    [theme=dark] .colab-df-convert:hover {\n",
       "      background-color: #434B5C;\n",
       "      box-shadow: 0px 1px 3px 1px rgba(0, 0, 0, 0.15);\n",
       "      filter: drop-shadow(0px 1px 2px rgba(0, 0, 0, 0.3));\n",
       "      fill: #FFFFFF;\n",
       "    }\n",
       "  </style>\n",
       "\n",
       "    <script>\n",
       "      const buttonEl =\n",
       "        document.querySelector('#df-97b8c7f0-fccb-40c8-83a6-2d2dd2fb17f0 button.colab-df-convert');\n",
       "      buttonEl.style.display =\n",
       "        google.colab.kernel.accessAllowed ? 'block' : 'none';\n",
       "\n",
       "      async function convertToInteractive(key) {\n",
       "        const element = document.querySelector('#df-97b8c7f0-fccb-40c8-83a6-2d2dd2fb17f0');\n",
       "        const dataTable =\n",
       "          await google.colab.kernel.invokeFunction('convertToInteractive',\n",
       "                                                    [key], {});\n",
       "        if (!dataTable) return;\n",
       "\n",
       "        const docLinkHtml = 'Like what you see? Visit the ' +\n",
       "          '<a target=\"_blank\" href=https://colab.research.google.com/notebooks/data_table.ipynb>data table notebook</a>'\n",
       "          + ' to learn more about interactive tables.';\n",
       "        element.innerHTML = '';\n",
       "        dataTable['output_type'] = 'display_data';\n",
       "        await google.colab.output.renderOutput(dataTable, element);\n",
       "        const docLink = document.createElement('div');\n",
       "        docLink.innerHTML = docLinkHtml;\n",
       "        element.appendChild(docLink);\n",
       "      }\n",
       "    </script>\n",
       "  </div>\n",
       "\n",
       "\n",
       "<div id=\"df-a2f406c1-9bc1-4e2f-af05-0e17c29b68ce\">\n",
       "  <button class=\"colab-df-quickchart\" onclick=\"quickchart('df-a2f406c1-9bc1-4e2f-af05-0e17c29b68ce')\"\n",
       "            title=\"Suggest charts\"\n",
       "            style=\"display:none;\">\n",
       "\n",
       "<svg xmlns=\"http://www.w3.org/2000/svg\" height=\"24px\"viewBox=\"0 0 24 24\"\n",
       "     width=\"24px\">\n",
       "    <g>\n",
       "        <path d=\"M19 3H5c-1.1 0-2 .9-2 2v14c0 1.1.9 2 2 2h14c1.1 0 2-.9 2-2V5c0-1.1-.9-2-2-2zM9 17H7v-7h2v7zm4 0h-2V7h2v10zm4 0h-2v-4h2v4z\"/>\n",
       "    </g>\n",
       "</svg>\n",
       "  </button>\n",
       "\n",
       "<style>\n",
       "  .colab-df-quickchart {\n",
       "      --bg-color: #E8F0FE;\n",
       "      --fill-color: #1967D2;\n",
       "      --hover-bg-color: #E2EBFA;\n",
       "      --hover-fill-color: #174EA6;\n",
       "      --disabled-fill-color: #AAA;\n",
       "      --disabled-bg-color: #DDD;\n",
       "  }\n",
       "\n",
       "  [theme=dark] .colab-df-quickchart {\n",
       "      --bg-color: #3B4455;\n",
       "      --fill-color: #D2E3FC;\n",
       "      --hover-bg-color: #434B5C;\n",
       "      --hover-fill-color: #FFFFFF;\n",
       "      --disabled-bg-color: #3B4455;\n",
       "      --disabled-fill-color: #666;\n",
       "  }\n",
       "\n",
       "  .colab-df-quickchart {\n",
       "    background-color: var(--bg-color);\n",
       "    border: none;\n",
       "    border-radius: 50%;\n",
       "    cursor: pointer;\n",
       "    display: none;\n",
       "    fill: var(--fill-color);\n",
       "    height: 32px;\n",
       "    padding: 0;\n",
       "    width: 32px;\n",
       "  }\n",
       "\n",
       "  .colab-df-quickchart:hover {\n",
       "    background-color: var(--hover-bg-color);\n",
       "    box-shadow: 0 1px 2px rgba(60, 64, 67, 0.3), 0 1px 3px 1px rgba(60, 64, 67, 0.15);\n",
       "    fill: var(--button-hover-fill-color);\n",
       "  }\n",
       "\n",
       "  .colab-df-quickchart-complete:disabled,\n",
       "  .colab-df-quickchart-complete:disabled:hover {\n",
       "    background-color: var(--disabled-bg-color);\n",
       "    fill: var(--disabled-fill-color);\n",
       "    box-shadow: none;\n",
       "  }\n",
       "\n",
       "  .colab-df-spinner {\n",
       "    border: 2px solid var(--fill-color);\n",
       "    border-color: transparent;\n",
       "    border-bottom-color: var(--fill-color);\n",
       "    animation:\n",
       "      spin 1s steps(1) infinite;\n",
       "  }\n",
       "\n",
       "  @keyframes spin {\n",
       "    0% {\n",
       "      border-color: transparent;\n",
       "      border-bottom-color: var(--fill-color);\n",
       "      border-left-color: var(--fill-color);\n",
       "    }\n",
       "    20% {\n",
       "      border-color: transparent;\n",
       "      border-left-color: var(--fill-color);\n",
       "      border-top-color: var(--fill-color);\n",
       "    }\n",
       "    30% {\n",
       "      border-color: transparent;\n",
       "      border-left-color: var(--fill-color);\n",
       "      border-top-color: var(--fill-color);\n",
       "      border-right-color: var(--fill-color);\n",
       "    }\n",
       "    40% {\n",
       "      border-color: transparent;\n",
       "      border-right-color: var(--fill-color);\n",
       "      border-top-color: var(--fill-color);\n",
       "    }\n",
       "    60% {\n",
       "      border-color: transparent;\n",
       "      border-right-color: var(--fill-color);\n",
       "    }\n",
       "    80% {\n",
       "      border-color: transparent;\n",
       "      border-right-color: var(--fill-color);\n",
       "      border-bottom-color: var(--fill-color);\n",
       "    }\n",
       "    90% {\n",
       "      border-color: transparent;\n",
       "      border-bottom-color: var(--fill-color);\n",
       "    }\n",
       "  }\n",
       "</style>\n",
       "\n",
       "  <script>\n",
       "    async function quickchart(key) {\n",
       "      const quickchartButtonEl =\n",
       "        document.querySelector('#' + key + ' button');\n",
       "      quickchartButtonEl.disabled = true;  // To prevent multiple clicks.\n",
       "      quickchartButtonEl.classList.add('colab-df-spinner');\n",
       "      try {\n",
       "        const charts = await google.colab.kernel.invokeFunction(\n",
       "            'suggestCharts', [key], {});\n",
       "      } catch (error) {\n",
       "        console.error('Error during call to suggestCharts:', error);\n",
       "      }\n",
       "      quickchartButtonEl.classList.remove('colab-df-spinner');\n",
       "      quickchartButtonEl.classList.add('colab-df-quickchart-complete');\n",
       "    }\n",
       "    (() => {\n",
       "      let quickchartButtonEl =\n",
       "        document.querySelector('#df-a2f406c1-9bc1-4e2f-af05-0e17c29b68ce button');\n",
       "      quickchartButtonEl.style.display =\n",
       "        google.colab.kernel.accessAllowed ? 'block' : 'none';\n",
       "    })();\n",
       "  </script>\n",
       "</div>\n",
       "    </div>\n",
       "  </div>\n"
      ],
      "text/plain": [
       "Categories_distinct_genres_count          1          2\n",
       "cluster                                               \n",
       "0                                 76.882094  23.117906\n",
       "1                                 96.636371   3.363629"
      ]
     },
     "execution_count": 164,
     "metadata": {},
     "output_type": "execute_result"
    }
   ],
   "source": [
    "dp2_percentage = dp2.apply(lambda x: x / x.sum() * 100, axis=1)\n",
    "dp2_percentage"
   ]
  },
  {
   "cell_type": "code",
   "execution_count": null,
   "metadata": {
    "colab": {
     "base_uri": "https://localhost:8080/",
     "height": 140
    },
    "id": "5W6ICuC2SYB6",
    "outputId": "1b725a1a-2556-4a7c-8b24-40634fd5038d"
   },
   "outputs": [
    {
     "data": {
      "text/html": [
       "\n",
       "  <div id=\"df-971990b6-a9eb-4369-8b8f-1b56fff0cbc4\" class=\"colab-df-container\">\n",
       "    <div>\n",
       "<style scoped>\n",
       "    .dataframe tbody tr th:only-of-type {\n",
       "        vertical-align: middle;\n",
       "    }\n",
       "\n",
       "    .dataframe tbody tr th {\n",
       "        vertical-align: top;\n",
       "    }\n",
       "\n",
       "    .dataframe thead th {\n",
       "        text-align: right;\n",
       "    }\n",
       "</style>\n",
       "<table border=\"1\" class=\"dataframe\">\n",
       "  <thead>\n",
       "    <tr style=\"text-align: right;\">\n",
       "      <th>Categories_days_active</th>\n",
       "      <th>1</th>\n",
       "      <th>2</th>\n",
       "    </tr>\n",
       "    <tr>\n",
       "      <th>cluster</th>\n",
       "      <th></th>\n",
       "      <th></th>\n",
       "    </tr>\n",
       "  </thead>\n",
       "  <tbody>\n",
       "    <tr>\n",
       "      <th>0</th>\n",
       "      <td>64.820767</td>\n",
       "      <td>35.179233</td>\n",
       "    </tr>\n",
       "    <tr>\n",
       "      <th>1</th>\n",
       "      <td>95.570244</td>\n",
       "      <td>4.429756</td>\n",
       "    </tr>\n",
       "  </tbody>\n",
       "</table>\n",
       "</div>\n",
       "    <div class=\"colab-df-buttons\">\n",
       "\n",
       "  <div class=\"colab-df-container\">\n",
       "    <button class=\"colab-df-convert\" onclick=\"convertToInteractive('df-971990b6-a9eb-4369-8b8f-1b56fff0cbc4')\"\n",
       "            title=\"Convert this dataframe to an interactive table.\"\n",
       "            style=\"display:none;\">\n",
       "\n",
       "  <svg xmlns=\"http://www.w3.org/2000/svg\" height=\"24px\" viewBox=\"0 -960 960 960\">\n",
       "    <path d=\"M120-120v-720h720v720H120Zm60-500h600v-160H180v160Zm220 220h160v-160H400v160Zm0 220h160v-160H400v160ZM180-400h160v-160H180v160Zm440 0h160v-160H620v160ZM180-180h160v-160H180v160Zm440 0h160v-160H620v160Z\"/>\n",
       "  </svg>\n",
       "    </button>\n",
       "\n",
       "  <style>\n",
       "    .colab-df-container {\n",
       "      display:flex;\n",
       "      gap: 12px;\n",
       "    }\n",
       "\n",
       "    .colab-df-convert {\n",
       "      background-color: #E8F0FE;\n",
       "      border: none;\n",
       "      border-radius: 50%;\n",
       "      cursor: pointer;\n",
       "      display: none;\n",
       "      fill: #1967D2;\n",
       "      height: 32px;\n",
       "      padding: 0 0 0 0;\n",
       "      width: 32px;\n",
       "    }\n",
       "\n",
       "    .colab-df-convert:hover {\n",
       "      background-color: #E2EBFA;\n",
       "      box-shadow: 0px 1px 2px rgba(60, 64, 67, 0.3), 0px 1px 3px 1px rgba(60, 64, 67, 0.15);\n",
       "      fill: #174EA6;\n",
       "    }\n",
       "\n",
       "    .colab-df-buttons div {\n",
       "      margin-bottom: 4px;\n",
       "    }\n",
       "\n",
       "    [theme=dark] .colab-df-convert {\n",
       "      background-color: #3B4455;\n",
       "      fill: #D2E3FC;\n",
       "    }\n",
       "\n",
       "    [theme=dark] .colab-df-convert:hover {\n",
       "      background-color: #434B5C;\n",
       "      box-shadow: 0px 1px 3px 1px rgba(0, 0, 0, 0.15);\n",
       "      filter: drop-shadow(0px 1px 2px rgba(0, 0, 0, 0.3));\n",
       "      fill: #FFFFFF;\n",
       "    }\n",
       "  </style>\n",
       "\n",
       "    <script>\n",
       "      const buttonEl =\n",
       "        document.querySelector('#df-971990b6-a9eb-4369-8b8f-1b56fff0cbc4 button.colab-df-convert');\n",
       "      buttonEl.style.display =\n",
       "        google.colab.kernel.accessAllowed ? 'block' : 'none';\n",
       "\n",
       "      async function convertToInteractive(key) {\n",
       "        const element = document.querySelector('#df-971990b6-a9eb-4369-8b8f-1b56fff0cbc4');\n",
       "        const dataTable =\n",
       "          await google.colab.kernel.invokeFunction('convertToInteractive',\n",
       "                                                    [key], {});\n",
       "        if (!dataTable) return;\n",
       "\n",
       "        const docLinkHtml = 'Like what you see? Visit the ' +\n",
       "          '<a target=\"_blank\" href=https://colab.research.google.com/notebooks/data_table.ipynb>data table notebook</a>'\n",
       "          + ' to learn more about interactive tables.';\n",
       "        element.innerHTML = '';\n",
       "        dataTable['output_type'] = 'display_data';\n",
       "        await google.colab.output.renderOutput(dataTable, element);\n",
       "        const docLink = document.createElement('div');\n",
       "        docLink.innerHTML = docLinkHtml;\n",
       "        element.appendChild(docLink);\n",
       "      }\n",
       "    </script>\n",
       "  </div>\n",
       "\n",
       "\n",
       "<div id=\"df-45c23f0d-64f4-44b9-b34c-8577615b57e2\">\n",
       "  <button class=\"colab-df-quickchart\" onclick=\"quickchart('df-45c23f0d-64f4-44b9-b34c-8577615b57e2')\"\n",
       "            title=\"Suggest charts\"\n",
       "            style=\"display:none;\">\n",
       "\n",
       "<svg xmlns=\"http://www.w3.org/2000/svg\" height=\"24px\"viewBox=\"0 0 24 24\"\n",
       "     width=\"24px\">\n",
       "    <g>\n",
       "        <path d=\"M19 3H5c-1.1 0-2 .9-2 2v14c0 1.1.9 2 2 2h14c1.1 0 2-.9 2-2V5c0-1.1-.9-2-2-2zM9 17H7v-7h2v7zm4 0h-2V7h2v10zm4 0h-2v-4h2v4z\"/>\n",
       "    </g>\n",
       "</svg>\n",
       "  </button>\n",
       "\n",
       "<style>\n",
       "  .colab-df-quickchart {\n",
       "      --bg-color: #E8F0FE;\n",
       "      --fill-color: #1967D2;\n",
       "      --hover-bg-color: #E2EBFA;\n",
       "      --hover-fill-color: #174EA6;\n",
       "      --disabled-fill-color: #AAA;\n",
       "      --disabled-bg-color: #DDD;\n",
       "  }\n",
       "\n",
       "  [theme=dark] .colab-df-quickchart {\n",
       "      --bg-color: #3B4455;\n",
       "      --fill-color: #D2E3FC;\n",
       "      --hover-bg-color: #434B5C;\n",
       "      --hover-fill-color: #FFFFFF;\n",
       "      --disabled-bg-color: #3B4455;\n",
       "      --disabled-fill-color: #666;\n",
       "  }\n",
       "\n",
       "  .colab-df-quickchart {\n",
       "    background-color: var(--bg-color);\n",
       "    border: none;\n",
       "    border-radius: 50%;\n",
       "    cursor: pointer;\n",
       "    display: none;\n",
       "    fill: var(--fill-color);\n",
       "    height: 32px;\n",
       "    padding: 0;\n",
       "    width: 32px;\n",
       "  }\n",
       "\n",
       "  .colab-df-quickchart:hover {\n",
       "    background-color: var(--hover-bg-color);\n",
       "    box-shadow: 0 1px 2px rgba(60, 64, 67, 0.3), 0 1px 3px 1px rgba(60, 64, 67, 0.15);\n",
       "    fill: var(--button-hover-fill-color);\n",
       "  }\n",
       "\n",
       "  .colab-df-quickchart-complete:disabled,\n",
       "  .colab-df-quickchart-complete:disabled:hover {\n",
       "    background-color: var(--disabled-bg-color);\n",
       "    fill: var(--disabled-fill-color);\n",
       "    box-shadow: none;\n",
       "  }\n",
       "\n",
       "  .colab-df-spinner {\n",
       "    border: 2px solid var(--fill-color);\n",
       "    border-color: transparent;\n",
       "    border-bottom-color: var(--fill-color);\n",
       "    animation:\n",
       "      spin 1s steps(1) infinite;\n",
       "  }\n",
       "\n",
       "  @keyframes spin {\n",
       "    0% {\n",
       "      border-color: transparent;\n",
       "      border-bottom-color: var(--fill-color);\n",
       "      border-left-color: var(--fill-color);\n",
       "    }\n",
       "    20% {\n",
       "      border-color: transparent;\n",
       "      border-left-color: var(--fill-color);\n",
       "      border-top-color: var(--fill-color);\n",
       "    }\n",
       "    30% {\n",
       "      border-color: transparent;\n",
       "      border-left-color: var(--fill-color);\n",
       "      border-top-color: var(--fill-color);\n",
       "      border-right-color: var(--fill-color);\n",
       "    }\n",
       "    40% {\n",
       "      border-color: transparent;\n",
       "      border-right-color: var(--fill-color);\n",
       "      border-top-color: var(--fill-color);\n",
       "    }\n",
       "    60% {\n",
       "      border-color: transparent;\n",
       "      border-right-color: var(--fill-color);\n",
       "    }\n",
       "    80% {\n",
       "      border-color: transparent;\n",
       "      border-right-color: var(--fill-color);\n",
       "      border-bottom-color: var(--fill-color);\n",
       "    }\n",
       "    90% {\n",
       "      border-color: transparent;\n",
       "      border-bottom-color: var(--fill-color);\n",
       "    }\n",
       "  }\n",
       "</style>\n",
       "\n",
       "  <script>\n",
       "    async function quickchart(key) {\n",
       "      const quickchartButtonEl =\n",
       "        document.querySelector('#' + key + ' button');\n",
       "      quickchartButtonEl.disabled = true;  // To prevent multiple clicks.\n",
       "      quickchartButtonEl.classList.add('colab-df-spinner');\n",
       "      try {\n",
       "        const charts = await google.colab.kernel.invokeFunction(\n",
       "            'suggestCharts', [key], {});\n",
       "      } catch (error) {\n",
       "        console.error('Error during call to suggestCharts:', error);\n",
       "      }\n",
       "      quickchartButtonEl.classList.remove('colab-df-spinner');\n",
       "      quickchartButtonEl.classList.add('colab-df-quickchart-complete');\n",
       "    }\n",
       "    (() => {\n",
       "      let quickchartButtonEl =\n",
       "        document.querySelector('#df-45c23f0d-64f4-44b9-b34c-8577615b57e2 button');\n",
       "      quickchartButtonEl.style.display =\n",
       "        google.colab.kernel.accessAllowed ? 'block' : 'none';\n",
       "    })();\n",
       "  </script>\n",
       "</div>\n",
       "    </div>\n",
       "  </div>\n"
      ],
      "text/plain": [
       "Categories_days_active          1          2\n",
       "cluster                                     \n",
       "0                       64.820767  35.179233\n",
       "1                       95.570244   4.429756"
      ]
     },
     "execution_count": 166,
     "metadata": {},
     "output_type": "execute_result"
    }
   ],
   "source": [
    "dp3_percentage = dp3.apply(lambda x: x / x.sum() * 100, axis=1)\n",
    "dp3_percentage"
   ]
  },
  {
   "cell_type": "markdown",
   "metadata": {
    "id": "RvCX5zd2QShJ"
   },
   "source": [
    "# **3. Bonus Question**"
   ]
  },
  {
   "cell_type": "markdown",
   "metadata": {
    "id": "aIcQD6YP4lcA"
   },
   "source": [
    "Chat gpt suggest us as the three algorithms for density based clustering:  \n",
    "\n",
    "-DBSCAN  \n",
    "-OPTICS  \n",
    "-HDBSCAN\n",
    "\n",
    "After asking what are the strenghts and weaknesses of each of those we decided to go with DBSCAN, since it seems to be the faster and more suitable for a quite big dataset like the one we have. We tried also with OPTICS but the only way to get results in an acceptable time frame was using a sample coming from the original dataset.  \n",
    "In order to decide the values of the parameters epsilon and min sample we tried to put several couples of values trying to minimize the number of points classified as noise and the amount of clusters since in a density based cluster analysis we don't choose the number of cluster.  \n",
    "We want to classify as many points as possible into clusters but at the same time we don't want several houndred of clusters with a few units.  \n",
    "While choosing the two variables for the plot axis we followed different approach, choosing in the end the one that seems to guaranteed the best representation.  \n",
    "The first idea was to use the two variables with the highest variance since usually they should be the ones that most explain the cluster division. In this case the two variables are PCA1 and PCA2 because of how the PCA works, but the plot didn't show enough the cluster division. Then we tried checking which variables seemed more correlated among themselves and with the variable cluster labels, trying plotting the data on different couples of variables before\n",
    "ending up on PCA5 and MCA2, the two variables with the highest negative correaltion that seemed to best suit the role."
   ]
  },
  {
   "cell_type": "code",
   "execution_count": null,
   "metadata": {
    "colab": {
     "base_uri": "https://localhost:8080/",
     "height": 1000
    },
    "id": "2YLnxdUWQX9P",
    "outputId": "6ef9a8d3-b53e-4510-b367-93924d345b34"
   },
   "outputs": [
    {
     "name": "stdout",
     "output_type": "stream",
     "text": [
      "Estimated number of clusters: 34\n",
      "Estimated number of noise points: 42747\n",
      "Cardinality of each cluster:\n",
      "Cluster 0: 21343 points\n",
      "Cluster 1: 6296 points\n",
      "Cluster 2: 13708 points\n",
      "Cluster 3: 809 points\n",
      "Cluster 4: 1725 points\n",
      "Cluster 5: 1369 points\n",
      "Cluster 6: 343 points\n",
      "Cluster 7: 1567 points\n",
      "Cluster 8: 5979 points\n",
      "Cluster 9: 2039 points\n",
      "Cluster 10: 326 points\n",
      "Cluster 11: 1464 points\n",
      "Cluster 12: 605 points\n",
      "Cluster 13: 387 points\n",
      "Cluster 14: 656 points\n",
      "Cluster 15: 1433 points\n",
      "Cluster 16: 615 points\n",
      "Cluster 17: 742 points\n",
      "Cluster 18: 224 points\n",
      "Cluster 19: 76 points\n",
      "Cluster 20: 70 points\n",
      "Cluster 21: 157 points\n",
      "Cluster 22: 267 points\n",
      "Cluster 23: 123 points\n",
      "Cluster 24: 70 points\n",
      "Cluster 25: 256 points\n",
      "Cluster 26: 73 points\n",
      "Cluster 27: 186 points\n",
      "Cluster 28: 155 points\n",
      "Cluster 29: 418 points\n",
      "Cluster 30: 196 points\n",
      "Cluster 31: 61 points\n",
      "Cluster 32: 56 points\n",
      "Cluster 33: 50 points\n"
     ]
    },
    {
     "data": {
      "image/png": "[encoded data removed]",
      "text/plain": [
       "<Figure size 640x480 with 1 Axes>"
      ]
     },
     "metadata": {},
     "output_type": "display_data"
    }
   ],
   "source": [
    "import pandas as pd\n",
    "import numpy as np\n",
    "from sklearn.cluster import DBSCAN\n",
    "import matplotlib.pyplot as plt\n",
    "\n",
    "\n",
    "df = pd.read_csv('dimensionality_reduced_df.csv')\n",
    "\n",
    "# Setting the parameters for the DBSCAN\n",
    "# min_sample represent the minimum number of units a cluster must have in\n",
    "# order to not be considered noise and eps is the maximum distance between\n",
    "# two units for one to be considered as in the neighborhood of the other.\n",
    "# We use euclidean distance as specified in metrics and n_jobs=-1 means that\n",
    "# the algorithm uses all the core avaible making it significantly faster.\n",
    "\n",
    "dbscan = DBSCAN(eps=0.6, min_samples=50, metric='euclidean',n_jobs=-1)\n",
    "\n",
    "# Applying the algorithm\n",
    "\n",
    "labels = dbscan.fit_predict(df)\n",
    "\n",
    "# Adding cluster labels to the dataset\n",
    "\n",
    "df['cluster_label'] = labels\n",
    "\n",
    "# Identifing the subdataset of the noise points\n",
    "\n",
    "noise_mask = labels == -1\n",
    "noise_points = df[noise_mask]\n",
    "\n",
    "# Identifing the subdataset of the non-noise points\n",
    "\n",
    "non_noise_mask = labels != -1\n",
    "non_noise_points = df[non_noise_mask]\n",
    "\n",
    "# Printing the estimated number of clusters and of noise points\n",
    "\n",
    "unique_labels, cluster_counts = np.unique(non_noise_points['cluster_label'], return_counts=True)\n",
    "print(f'Estimated number of clusters: {len(unique_labels)}')\n",
    "print(f'Estimated number of noise points: { len(noise_points)}')\n",
    "\n",
    "# Printing the cardinality of each cluster\n",
    "\n",
    "print(\"Cardinality of each cluster:\")\n",
    "for cluster_label in unique_labels:\n",
    "    cluster_size = cluster_counts[cluster_label]\n",
    "    print(f\"Cluster {cluster_label}: {cluster_size} points\")\n",
    "\n",
    "# Plotting all the non-noise points\n",
    "\n",
    "plt.scatter(non_noise_points['PCA_5'], non_noise_points['MCA_2'], c=labels[non_noise_mask], cmap = plt.get_cmap('Paired', 36), s=5)\n",
    "plt.title('DBSCAN Clustering (Non-Noise Points)')\n",
    "plt.xlabel('PCA_5')\n",
    "plt.ylabel('MCA_2')\n",
    "plt.show()"
   ]
  },
  {
   "cell_type": "markdown",
   "metadata": {
    "id": "wXmEsEJF7s4t"
   },
   "source": [
    "The number of clusters the algorithm finds is 36 while the number of noise points amount to 42591. They are quite a lot, more than a third of the dataset. By tweaking the parameters to acceptables value (obviusly if min_sample=1 or eps=1 all the points aren't going to be any noise but the results won't make much sense) we were able to lower them also below 30000 but in those case we either had way to many (100/200) very small cluster (if min_sampled was to low) or a very big cluster with 70% of the units and some very small ones (if eps was to high), so we decided to go with this configuration.  \n"
   ]
  },
  {
   "cell_type": "markdown",
   "metadata": {
    "id": "trm-kfY6wa34"
   },
   "source": [
    "Comparing this results with the ones in the previous question we can see how the number of clusters obtain withe the density based algorithm is way higher. In order to tune it down we could increase significantly the eps, but this would put us in the situation of having a very huge cluster and some small ones and this is not goint to be helpfull. The two approach are very different, while the k-means try to find k points that minimize the within variance of each cluster and maximize the variance between different clusters, the density based algorithm try to find areas where the point are more dense. This could mean that if enough points are in between two different points, even two very very far unit could be in the same cluster, and very close points could be in different ones.\n",
    "\n"
   ]
  },
  {
   "cell_type": "markdown",
   "metadata": {
    "id": "5L5u-sh8QYK6"
   },
   "source": [
    "# **4. Command Line Question**"
   ]
  },
  {
   "cell_type": "markdown",
   "metadata": {
    "id": "DK2ubNQ6ozsF"
   },
   "source": [
    "I noticed that in the duration column we have an unacceptable row where it equals -1. I created a new csv without it."
   ]
  },
  {
   "cell_type": "code",
   "execution_count": null,
   "metadata": {
    "id": "HHfXXao_oy4r"
   },
   "outputs": [],
   "source": [
    "awk -F, '$3 != -1' vodclickstream_uk_movies_03.csv > movies.csv"
   ]
  },
  {
   "cell_type": "markdown",
   "metadata": {
    "id": "_V-gMTy2RKCa"
   },
   "source": [
    "## **4.1 Most viewed movie**"
   ]
  },
  {
   "cell_type": "markdown",
   "metadata": {
    "id": "pptjwGiyQ3Up"
   },
   "source": [
    "Through \"cut -d ',' -f4\" we take into account in our analysis only the fourth column i.e. that of the movie name for each row (\"-d ',' \" indicates that each column is separated by a delimiter of the type ',').\n",
    "\n",
    "After that we sort it so that we have all the repetitions of each neighboring movie and through \"uniq -c\" we take unique values of the movie title and with \"-c\" count all the repetitions so as to find the most viewed movie.\n",
    "\n",
    "We sort again in descending order according to the number of repeats of the movie with \"sort -nr\"; we take only the first row with \"head -n 1\" and print the full name of the movie via \"awk '{print substr($0, index($0,$2))}' \"\n"
   ]
  },
  {
   "cell_type": "code",
   "execution_count": null,
   "metadata": {
    "id": "0ynmgoC-Qc9w"
   },
   "outputs": [],
   "source": [
    "most_viewed_movie=$(cut -d',' -f4 movies.csv | sort | uniq -c | sort -nr | head -n 1 | awk '{print substr($0, index($0,$2))}')\n",
    "echo \"The movie most viewed in Netflix UK is: $most_viewed_movie\"\n"
   ]
  },
  {
   "cell_type": "markdown",
   "metadata": {
    "id": "9Uzs5Va_RPV2"
   },
   "source": [
    "## **4.2 Average time between two clicks**"
   ]
  },
  {
   "cell_type": "markdown",
   "metadata": {
    "id": "twX-rxu7RWRh"
   },
   "source": [
    "Here quite explicitly we take the third column of which we are going to average by summing the values present along with the count increment to get the total number of values summed.\n",
    "\n",
    "I use the END statement so that I do not receive as printed output all the sum and count values every time there is an increment.\n",
    "\n",
    "We then printed the actual average seen in hours because in seconds we had too large a number that does not render well the resulting amount of time.\n"
   ]
  },
  {
   "cell_type": "code",
   "execution_count": null,
   "metadata": {
    "id": "zkpGfxovRccB"
   },
   "outputs": [],
   "source": [
    "average_time=$(awk -F, '{print $3}' movies.csv | awk '{sum += $1; count += 1} END {print sum/count/3600}')\n",
    "echo \"Average duration between subsequent clicks: $average_time hours\""
   ]
  },
  {
   "cell_type": "markdown",
   "metadata": {
    "id": "4uDkRb0DRfpU"
   },
   "source": [
    "## **4.3 ID of the user that has spent the most time on Netflix**"
   ]
  },
  {
   "cell_type": "markdown",
   "metadata": {
    "id": "WbfGo2smRnfN"
   },
   "source": [
    "In this case I create an array user_durations[] that with \"$NF\" takes the last column ever (I do not take the numbered column because the delimiter ',' is also present in some values like the title and so for each row the command splits the columns differently).\n",
    "\n",
    "In this column it adds the durations to figure out for each user how much time they spent on Netflix. With the END statement we apply the next command at the end of the one just described.\n",
    "\n",
    "We analyze the total duration of each user and compare it to the maximum duration we have (we start with a maximum duration of 0) and then print the user who spent the most time on Netflix.\n"
   ]
  },
  {
   "cell_type": "code",
   "execution_count": null,
   "metadata": {
    "id": "66mHkZdsRwXy"
   },
   "outputs": [],
   "source": [
    "most_watcher_userID=$(awk -F, '{ user_duration[$NF]+=$3 } END { max_duration=0; for (user in user_duration) { if (user_duration[user] > max_duration) { max_duration = user_duration[user]; most_watcher_userID = user; } } print most_watcher_userID }' movies.csv)\n",
    "echo \"ID dell'utente che ha trascorso più tempo su Netflix: $most_watcher_userID\""
   ]
  },
  {
   "cell_type": "markdown",
   "metadata": {
    "id": "z6uYaFixjVbL"
   },
   "source": [
    "all three has been executed in a single script called commandline.sh and the expected output is as follow;\n",
    "\n"
   ]
  },
  {
   "cell_type": "markdown",
   "metadata": {
    "id": "PoNxygdEQd6O"
   },
   "source": [
    "# **5. Algorithmic Question**"
   ]
  },
  {
   "cell_type": "markdown",
   "metadata": {
    "id": "a2UcBu8opV-D"
   },
   "source": [
    "a) A first implementation of the algorithm (it was decided to don't consider it a problem if at a given point of the algorithm some of the marks are below 0, so in this implementation marks can be negative).\n",
    "The function is divided in two parts, the first reorder the marks in the way that maximize the last mark according to the university rule and the other one actually computes the maximum score.\n",
    "To maximize the last mark the student wants to take the exam in any order such that there is an alternation between the half higher marks and the half lower ones, ending on one of the higher, this way we maximize the 'jumps' resulting in the last mark of the ordered list having the highest possible score it could have."
   ]
  },
  {
   "cell_type": "code",
   "execution_count": null,
   "metadata": {
    "id": "oQEtDldIQi0X"
   },
   "outputs": [],
   "source": [
    "\n",
    "import numpy as np\n",
    "s=int(input())\n",
    "p=list(map(int,input().split()))\n",
    "def aq(s,p):\n",
    "    p.sort()\n",
    "    p1=p[0:int(np.floor(len(p)/2))]\n",
    "    p2=p[int(np.floor(len(p)/2)):len(p)]\n",
    "    #first we split the marks in two sublists, one with the half highest scores and one with the lowest\n",
    "    pf=p\n",
    "    i1=1\n",
    "    i2=1\n",
    "    for i in range(len(pf)):\n",
    "        if i%2!=0:\n",
    "            pf[-i-1]=p1[-i1]\n",
    "            i1 +=1\n",
    "        else:\n",
    "            pf[-i-1]=p2[-i2]\n",
    "            i2 +=1\n",
    "    #then we alternate elements of the two sublists, making sure that the last one is one of the highest\n",
    "\n",
    "    for _ in range(len(pf)):\n",
    "\n",
    "            if len(pf)==1:\n",
    "                return pf\n",
    "            else:\n",
    "                diff=s-pf[0]\n",
    "                s=pf[0]\n",
    "                pf=pf[1:]\n",
    "                pf = [x + diff for x in pf]\n",
    "    #then we apply the rule of the university\n",
    "\n",
    "\n",
    "\n",
    "\n",
    "print(aq(s,p))\n",
    "\n"
   ]
  },
  {
   "cell_type": "markdown",
   "metadata": {
    "id": "ayTQUnH2p1rc"
   },
   "source": [
    "b) If we consider n=len(p), the sorting is O(nlogn),the splitting into p1 and p2 is O(n) as the first cicle and the second one is O(n^2) since it has a list comprension over n in the worst case. So the algorithm is O(n^2)\n",
    "\n",
    "c) Using a recursive algorithm instead of the second loop and the list comprension makes it possible to create a faster and lighter version of the algorithm"
   ]
  },
  {
   "cell_type": "code",
   "execution_count": null,
   "metadata": {
    "id": "1x5QoOKFp2BW"
   },
   "outputs": [],
   "source": [
    "import numpy as np\n",
    "\n",
    "\n",
    "def rec_aq(p, s, first_iteration=True):\n",
    "    if len(p)<=1:\n",
    "        return p #condition at which the recursion ends\n",
    "    if first_iteration:\n",
    "        #ordering the marks in the list p in the right order, it is needed only for the first recursion\n",
    "        p.sort()\n",
    "        p1=p[0:int(np.floor(len(p)/2))]\n",
    "        p2=p[int(np.floor(len(p)/2)):len(p)]\n",
    "        #first we split the marks in two sublists, one with the half highest scores and one with the lowest\n",
    "        pf=p\n",
    "        i1=1\n",
    "        i2=1\n",
    "        for i in range(len(pf)):\n",
    "            if i%2!=0:\n",
    "                pf[-i-1]=p1[-i1]\n",
    "                i1 +=1\n",
    "            else:\n",
    "                pf[-i-1]=p2[-i2]\n",
    "                i2 +=1\n",
    "        #then we alternate elements of the two sublists, making sure that the last one is one of the highest\n",
    "    else:\n",
    "        pf=p\n",
    "\n",
    "\n",
    "    diff = s - pf[0]\n",
    "    pf[1:] = [x + diff for x in pf[1:]]\n",
    "\n",
    "\n",
    "    return  rec_aq(pf[1:], pf[0], first_iteration=False)\n",
    "    #implementation with recursion of the university rule\n",
    "\n",
    "\n",
    "\n",
    "s = int(input())\n",
    "p = list(map(int, input().split()))\n",
    "print(rec_aq(p, s))\n"
   ]
  },
  {
   "cell_type": "markdown",
   "metadata": {
    "id": "5O6BQUEwp2OK"
   },
   "source": [
    "The sorting, that always takes O(nlogn) happens only one time in the first iteration and so the splitting and the loop that are O(n). For the recursive part, we have to analize the depth and the cost of each new call of the function. The depth is n since every time we repeat the function with a vector that is smaller by one element, while the cost of each recursion is costant(since it doesn't have to repeat neither the sorting or the loop the algorithm repeat in the worst case only the condition and the three operation before the recursive call) so the recursion is nO(4)=O(n). So in the end the O(nlogn) is the computational time of this algorithm which is indeed less than before.\n",
    "\n",
    "d) After having asked to chatgpt to optimize the function even further it suggest me to use np.median to divide the mark list in the two sublists without having to sort it (since the sorting was the slowest part).\n",
    "According to chatgpt np.median in the average case is close to O(n), but in the worst case is always O(nlogn). While talking about computational time we have to consider the worst scenario, that in our case is equal for the two algorithms, but being able to do the task in linear time O(n) on average seems a good enough results to include the new version of the algorithm."
   ]
  },
  {
   "cell_type": "code",
   "execution_count": null,
   "metadata": {
    "id": "TlxSjlHrqHy1"
   },
   "outputs": [],
   "source": [
    "import numpy as np\n",
    "\n",
    "\n",
    "def rec_aq_chatgpt(p, s, first_iteration=True):\n",
    "    if len(p)<=1:\n",
    "        return p #condition at which the recursion ends\n",
    "    if first_iteration:\n",
    "        #ordering the marks in the list p in the right order, it is needed only for the first recursion\n",
    "        pivot = np.median(p)\n",
    "\n",
    "        # Partition the array\n",
    "        p1 = [x for x in p if x < pivot]\n",
    "        p2 = [x for x in p if x >= pivot]\n",
    "\n",
    "        #first we split the marks in two sublists, one with the half highest scores and one with the lowest\n",
    "        pf=p\n",
    "        i1=1\n",
    "        i2=1\n",
    "        for i in range(len(pf)):\n",
    "            if i%2!=0:\n",
    "                pf[-i-1]=p1[-i1]\n",
    "                i1 +=1\n",
    "            else:\n",
    "                pf[-i-1]=p2[-i2]\n",
    "                i2 +=1\n",
    "        #then we alternate elements of the two sublists, making sure that the last one is one of the highest\n",
    "    else:\n",
    "        pf=p\n",
    "\n",
    "\n",
    "    diff = s - pf[0]\n",
    "    pf[1:] = [x + diff for x in pf[1:]]\n",
    "\n",
    "\n",
    "    return  rec_aq_chatgpt(pf[1:], pf[0], first_iteration=False)\n",
    "    #implementation with recursion of the university rule\n",
    "\n",
    "\n",
    "\n",
    "s = int(input())\n",
    "p = list(map(int, input().split()))\n",
    "print(rec_aq_chatgpt(p, s))"
   ]
  }
 ],
 "metadata": {
  "colab": {
   "collapsed_sections": [
    "xY5suxu0PWaX",
    "zDa_LvawP3Hi",
    "MkX4XWQbP7YH",
    "3b0J6-jccWP6",
    "MPMJ7DvGcjyD",
    "ZY3nDMhsQA9p",
    "VNPnK65iQIKt",
    "2gUbys1eQM-z",
    "M4tUe9zsQhIK",
    "Z21-UGGpTxeB",
    "tGYN73iiVqbY",
    "RvCX5zd2QShJ",
    "5L5u-sh8QYK6",
    "4uDkRb0DRfpU",
    "PoNxygdEQd6O"
   ],
   "provenance": []
  },
  "kernelspec": {
   "display_name": "Python 3 (ipykernel)",
   "language": "python",
   "name": "python3"
  },
  "language_info": {
   "codemirror_mode": {
    "name": "ipython",
    "version": 3
   },
   "file_extension": ".py",
   "mimetype": "text/x-python",
   "name": "python",
   "nbconvert_exporter": "python",
   "pygments_lexer": "ipython3",
   "version": "3.11.5"
  }
 },
 "nbformat": 4,
 "nbformat_minor": 1
}
